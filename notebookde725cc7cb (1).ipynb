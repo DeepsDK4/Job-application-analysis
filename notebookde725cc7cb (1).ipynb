{
  "metadata": {
    "kernelspec": {
      "language": "python",
      "display_name": "Python 3",
      "name": "python3"
    },
    "language_info": {
      "name": "python",
      "version": "3.10.14",
      "mimetype": "text/x-python",
      "codemirror_mode": {
        "name": "ipython",
        "version": 3
      },
      "pygments_lexer": "ipython3",
      "nbconvert_exporter": "python",
      "file_extension": ".py"
    },
    "kaggle": {
      "accelerator": "none",
      "dataSources": [
        {
          "sourceId": 9774474,
          "sourceType": "datasetVersion",
          "datasetId": 4680738
        }
      ],
      "dockerImageVersionId": 30786,
      "isInternetEnabled": false,
      "language": "python",
      "sourceType": "notebook",
      "isGpuEnabled": false
    },
    "colab": {
      "provenance": []
    }
  },
  "nbformat_minor": 0,
  "nbformat": 4,
  "cells": [
    {
      "cell_type": "code",
      "source": [
        "# This Python 3 environment comes with many helpful analytics libraries installed\n",
        "# It is defined by the kaggle/python Docker image: https://github.com/kaggle/docker-python\n",
        "# For example, here's several helpful packages to load\n",
        "\n",
        "import numpy as np # linear algebra\n",
        "import pandas as pd # data processing, CSV file I/O (e.g. pd.read_csv)\n",
        "\n",
        "# Input data files are available in the read-only \"../input/\" directory\n",
        "# For example, running this (by clicking run or pressing Shift+Enter) will list all files under the input directory\n",
        "\n",
        "import os\n",
        "for dirname, _, filenames in os.walk('/kaggle/input'):\n",
        "    for filename in filenames:\n",
        "        print(os.path.join(dirname, filename))\n",
        "\n",
        "# You can write up to 20GB to the current directory (/kaggle/working/) that gets preserved as output when you create a version using \"Save & Run All\"\n",
        "# You can also write temporary files to /kaggle/temp/, but they won't be saved outside of the current session"
      ],
      "metadata": {
        "_uuid": "8f2839f25d086af736a60e9eeb907d3b93b6e0e5",
        "_cell_guid": "b1076dfc-b9ad-4769-8c92-a6c4dae69d19",
        "execution": {
          "iopub.status.busy": "2024-10-31T18:37:39.006510Z",
          "iopub.execute_input": "2024-10-31T18:37:39.006971Z",
          "iopub.status.idle": "2024-10-31T18:37:40.308454Z",
          "shell.execute_reply.started": "2024-10-31T18:37:39.006897Z",
          "shell.execute_reply": "2024-10-31T18:37:40.306949Z"
        },
        "trusted": true,
        "id": "jmVhf4iW4_1m"
      },
      "execution_count": 52,
      "outputs": []
    },
    {
      "cell_type": "markdown",
      "source": [
        "<h1> Problem Statement</h1>\n",
        "The project aims to analyze job application data collected over a 3-month period, encompassing various parameters such as SR No.,CompanyName, Post, JobID, Type, Location, Skills, AppliedThrough, DateApplied,Application Status,Application Notes, Comments. The dataset consists of 555 entries.\n",
        "\n",
        "Note: This data is exclusively collected from my personal job applications. Any external usage should include proper citation.\n",
        "\n",
        "Last updated on: 31st OCT 2024"
      ],
      "metadata": {
        "id": "8kNqMBwo4_1n"
      }
    },
    {
      "cell_type": "code",
      "source": [
        "import matplotlib.pyplot as plt\n",
        "import seaborn as sns\n",
        "%matplotlib inline"
      ],
      "metadata": {
        "execution": {
          "iopub.status.busy": "2024-10-31T18:41:47.129987Z",
          "iopub.execute_input": "2024-10-31T18:41:47.130687Z",
          "iopub.status.idle": "2024-10-31T18:41:48.089938Z",
          "shell.execute_reply.started": "2024-10-31T18:41:47.130589Z",
          "shell.execute_reply": "2024-10-31T18:41:48.088736Z"
        },
        "trusted": true,
        "id": "eWhQmRTf4_1o"
      },
      "execution_count": 53,
      "outputs": []
    },
    {
      "cell_type": "code",
      "source": [
        "df = pd.read_csv('/content/Expanded_Job_Application_Data.csv', parse_dates=['DateApplied'], date_parser=lambda x: pd.to_datetime(x, format='%d-%m-%Y'))\n",
        "df.info()"
      ],
      "metadata": {
        "execution": {
          "iopub.status.busy": "2024-10-31T18:43:46.248646Z",
          "iopub.execute_input": "2024-10-31T18:43:46.249074Z",
          "iopub.status.idle": "2024-10-31T18:43:46.286251Z",
          "shell.execute_reply.started": "2024-10-31T18:43:46.249033Z",
          "shell.execute_reply": "2024-10-31T18:43:46.284768Z"
        },
        "trusted": true,
        "colab": {
          "base_uri": "https://localhost:8080/"
        },
        "id": "bLrKg6Ij4_1o",
        "outputId": "79fa9f30-8164-42e5-c0ad-b1e7ea30a718"
      },
      "execution_count": 54,
      "outputs": [
        {
          "output_type": "stream",
          "name": "stdout",
          "text": [
            "<class 'pandas.core.frame.DataFrame'>\n",
            "RangeIndex: 555 entries, 0 to 554\n",
            "Data columns (total 12 columns):\n",
            " #   Column              Non-Null Count  Dtype         \n",
            "---  ------              --------------  -----         \n",
            " 0   SR No.              555 non-null    int64         \n",
            " 1   CompanyName         555 non-null    object        \n",
            " 2   Post                554 non-null    object        \n",
            " 3   JobID               37 non-null     object        \n",
            " 4   Type                546 non-null    object        \n",
            " 5   Location            551 non-null    object        \n",
            " 6   Skills              531 non-null    object        \n",
            " 7   AppliedThrough      553 non-null    object        \n",
            " 8   DateApplied         555 non-null    datetime64[ns]\n",
            " 9   Application Status  555 non-null    object        \n",
            " 10  Application Notes   555 non-null    object        \n",
            " 11  Comments            16 non-null     object        \n",
            "dtypes: datetime64[ns](1), int64(1), object(10)\n",
            "memory usage: 52.2+ KB\n"
          ]
        },
        {
          "output_type": "stream",
          "name": "stderr",
          "text": [
            "<ipython-input-54-a73043fdd115>:1: FutureWarning: The argument 'date_parser' is deprecated and will be removed in a future version. Please use 'date_format' instead, or read your data in as 'object' dtype and then call 'to_datetime'.\n",
            "  df = pd.read_csv('/content/Expanded_Job_Application_Data.csv', parse_dates=['DateApplied'], date_parser=lambda x: pd.to_datetime(x, format='%d-%m-%Y'))\n"
          ]
        }
      ]
    },
    {
      "cell_type": "code",
      "source": [
        "df['month'] = df['DateApplied'].dt.month\n",
        "df.sample(2)"
      ],
      "metadata": {
        "execution": {
          "iopub.status.busy": "2024-10-31T18:45:16.681269Z",
          "iopub.execute_input": "2024-10-31T18:45:16.681709Z",
          "iopub.status.idle": "2024-10-31T18:45:16.703972Z",
          "shell.execute_reply.started": "2024-10-31T18:45:16.681667Z",
          "shell.execute_reply": "2024-10-31T18:45:16.702438Z"
        },
        "trusted": true,
        "colab": {
          "base_uri": "https://localhost:8080/",
          "height": 251
        },
        "id": "-U1Q3K5r4_1p",
        "outputId": "52673ec5-4a0b-4327-e2f8-99569077809d"
      },
      "execution_count": 55,
      "outputs": [
        {
          "output_type": "execute_result",
          "data": {
            "text/plain": [
              "     SR No. CompanyName              Post   JobID       Type   Location  \\\n",
              "234     235      Turing  Research Analyst     NaN  Full-Time    Chennai   \n",
              "67       68  S&P Global      Data Analyst  293364  Full-time  Bangalore   \n",
              "\n",
              "                                                Skills  \\\n",
              "234  TensorFlow, Machine Learning, Tableau, Statistics   \n",
              "67   Databases Â· Visualization Â· Mathematics Â· A...   \n",
              "\n",
              "                AppliedThrough DateApplied Application Status  \\\n",
              "234                Internshala  2024-02-26           Rejected   \n",
              "67   Offial Website & LinkedIn  2024-01-26        No Response   \n",
              "\n",
              "                Application Notes Comments  month  \n",
              "234  Consider other opportunities      NaN      2  \n",
              "67           No response received      NaN      1  "
            ],
            "text/html": [
              "\n",
              "  <div id=\"df-acbca000-7b77-4a57-a083-f49039873755\" class=\"colab-df-container\">\n",
              "    <div>\n",
              "<style scoped>\n",
              "    .dataframe tbody tr th:only-of-type {\n",
              "        vertical-align: middle;\n",
              "    }\n",
              "\n",
              "    .dataframe tbody tr th {\n",
              "        vertical-align: top;\n",
              "    }\n",
              "\n",
              "    .dataframe thead th {\n",
              "        text-align: right;\n",
              "    }\n",
              "</style>\n",
              "<table border=\"1\" class=\"dataframe\">\n",
              "  <thead>\n",
              "    <tr style=\"text-align: right;\">\n",
              "      <th></th>\n",
              "      <th>SR No.</th>\n",
              "      <th>CompanyName</th>\n",
              "      <th>Post</th>\n",
              "      <th>JobID</th>\n",
              "      <th>Type</th>\n",
              "      <th>Location</th>\n",
              "      <th>Skills</th>\n",
              "      <th>AppliedThrough</th>\n",
              "      <th>DateApplied</th>\n",
              "      <th>Application Status</th>\n",
              "      <th>Application Notes</th>\n",
              "      <th>Comments</th>\n",
              "      <th>month</th>\n",
              "    </tr>\n",
              "  </thead>\n",
              "  <tbody>\n",
              "    <tr>\n",
              "      <th>234</th>\n",
              "      <td>235</td>\n",
              "      <td>Turing</td>\n",
              "      <td>Research Analyst</td>\n",
              "      <td>NaN</td>\n",
              "      <td>Full-Time</td>\n",
              "      <td>Chennai</td>\n",
              "      <td>TensorFlow, Machine Learning, Tableau, Statistics</td>\n",
              "      <td>Internshala</td>\n",
              "      <td>2024-02-26</td>\n",
              "      <td>Rejected</td>\n",
              "      <td>Consider other opportunities</td>\n",
              "      <td>NaN</td>\n",
              "      <td>2</td>\n",
              "    </tr>\n",
              "    <tr>\n",
              "      <th>67</th>\n",
              "      <td>68</td>\n",
              "      <td>S&amp;P Global</td>\n",
              "      <td>Data Analyst</td>\n",
              "      <td>293364</td>\n",
              "      <td>Full-time</td>\n",
              "      <td>Bangalore</td>\n",
              "      <td>Databases Â· Visualization Â· Mathematics Â· A...</td>\n",
              "      <td>Offial Website &amp; LinkedIn</td>\n",
              "      <td>2024-01-26</td>\n",
              "      <td>No Response</td>\n",
              "      <td>No response received</td>\n",
              "      <td>NaN</td>\n",
              "      <td>1</td>\n",
              "    </tr>\n",
              "  </tbody>\n",
              "</table>\n",
              "</div>\n",
              "    <div class=\"colab-df-buttons\">\n",
              "\n",
              "  <div class=\"colab-df-container\">\n",
              "    <button class=\"colab-df-convert\" onclick=\"convertToInteractive('df-acbca000-7b77-4a57-a083-f49039873755')\"\n",
              "            title=\"Convert this dataframe to an interactive table.\"\n",
              "            style=\"display:none;\">\n",
              "\n",
              "  <svg xmlns=\"http://www.w3.org/2000/svg\" height=\"24px\" viewBox=\"0 -960 960 960\">\n",
              "    <path d=\"M120-120v-720h720v720H120Zm60-500h600v-160H180v160Zm220 220h160v-160H400v160Zm0 220h160v-160H400v160ZM180-400h160v-160H180v160Zm440 0h160v-160H620v160ZM180-180h160v-160H180v160Zm440 0h160v-160H620v160Z\"/>\n",
              "  </svg>\n",
              "    </button>\n",
              "\n",
              "  <style>\n",
              "    .colab-df-container {\n",
              "      display:flex;\n",
              "      gap: 12px;\n",
              "    }\n",
              "\n",
              "    .colab-df-convert {\n",
              "      background-color: #E8F0FE;\n",
              "      border: none;\n",
              "      border-radius: 50%;\n",
              "      cursor: pointer;\n",
              "      display: none;\n",
              "      fill: #1967D2;\n",
              "      height: 32px;\n",
              "      padding: 0 0 0 0;\n",
              "      width: 32px;\n",
              "    }\n",
              "\n",
              "    .colab-df-convert:hover {\n",
              "      background-color: #E2EBFA;\n",
              "      box-shadow: 0px 1px 2px rgba(60, 64, 67, 0.3), 0px 1px 3px 1px rgba(60, 64, 67, 0.15);\n",
              "      fill: #174EA6;\n",
              "    }\n",
              "\n",
              "    .colab-df-buttons div {\n",
              "      margin-bottom: 4px;\n",
              "    }\n",
              "\n",
              "    [theme=dark] .colab-df-convert {\n",
              "      background-color: #3B4455;\n",
              "      fill: #D2E3FC;\n",
              "    }\n",
              "\n",
              "    [theme=dark] .colab-df-convert:hover {\n",
              "      background-color: #434B5C;\n",
              "      box-shadow: 0px 1px 3px 1px rgba(0, 0, 0, 0.15);\n",
              "      filter: drop-shadow(0px 1px 2px rgba(0, 0, 0, 0.3));\n",
              "      fill: #FFFFFF;\n",
              "    }\n",
              "  </style>\n",
              "\n",
              "    <script>\n",
              "      const buttonEl =\n",
              "        document.querySelector('#df-acbca000-7b77-4a57-a083-f49039873755 button.colab-df-convert');\n",
              "      buttonEl.style.display =\n",
              "        google.colab.kernel.accessAllowed ? 'block' : 'none';\n",
              "\n",
              "      async function convertToInteractive(key) {\n",
              "        const element = document.querySelector('#df-acbca000-7b77-4a57-a083-f49039873755');\n",
              "        const dataTable =\n",
              "          await google.colab.kernel.invokeFunction('convertToInteractive',\n",
              "                                                    [key], {});\n",
              "        if (!dataTable) return;\n",
              "\n",
              "        const docLinkHtml = 'Like what you see? Visit the ' +\n",
              "          '<a target=\"_blank\" href=https://colab.research.google.com/notebooks/data_table.ipynb>data table notebook</a>'\n",
              "          + ' to learn more about interactive tables.';\n",
              "        element.innerHTML = '';\n",
              "        dataTable['output_type'] = 'display_data';\n",
              "        await google.colab.output.renderOutput(dataTable, element);\n",
              "        const docLink = document.createElement('div');\n",
              "        docLink.innerHTML = docLinkHtml;\n",
              "        element.appendChild(docLink);\n",
              "      }\n",
              "    </script>\n",
              "  </div>\n",
              "\n",
              "\n",
              "<div id=\"df-f73442cb-6e94-4f62-8860-8386564da6d9\">\n",
              "  <button class=\"colab-df-quickchart\" onclick=\"quickchart('df-f73442cb-6e94-4f62-8860-8386564da6d9')\"\n",
              "            title=\"Suggest charts\"\n",
              "            style=\"display:none;\">\n",
              "\n",
              "<svg xmlns=\"http://www.w3.org/2000/svg\" height=\"24px\"viewBox=\"0 0 24 24\"\n",
              "     width=\"24px\">\n",
              "    <g>\n",
              "        <path d=\"M19 3H5c-1.1 0-2 .9-2 2v14c0 1.1.9 2 2 2h14c1.1 0 2-.9 2-2V5c0-1.1-.9-2-2-2zM9 17H7v-7h2v7zm4 0h-2V7h2v10zm4 0h-2v-4h2v4z\"/>\n",
              "    </g>\n",
              "</svg>\n",
              "  </button>\n",
              "\n",
              "<style>\n",
              "  .colab-df-quickchart {\n",
              "      --bg-color: #E8F0FE;\n",
              "      --fill-color: #1967D2;\n",
              "      --hover-bg-color: #E2EBFA;\n",
              "      --hover-fill-color: #174EA6;\n",
              "      --disabled-fill-color: #AAA;\n",
              "      --disabled-bg-color: #DDD;\n",
              "  }\n",
              "\n",
              "  [theme=dark] .colab-df-quickchart {\n",
              "      --bg-color: #3B4455;\n",
              "      --fill-color: #D2E3FC;\n",
              "      --hover-bg-color: #434B5C;\n",
              "      --hover-fill-color: #FFFFFF;\n",
              "      --disabled-bg-color: #3B4455;\n",
              "      --disabled-fill-color: #666;\n",
              "  }\n",
              "\n",
              "  .colab-df-quickchart {\n",
              "    background-color: var(--bg-color);\n",
              "    border: none;\n",
              "    border-radius: 50%;\n",
              "    cursor: pointer;\n",
              "    display: none;\n",
              "    fill: var(--fill-color);\n",
              "    height: 32px;\n",
              "    padding: 0;\n",
              "    width: 32px;\n",
              "  }\n",
              "\n",
              "  .colab-df-quickchart:hover {\n",
              "    background-color: var(--hover-bg-color);\n",
              "    box-shadow: 0 1px 2px rgba(60, 64, 67, 0.3), 0 1px 3px 1px rgba(60, 64, 67, 0.15);\n",
              "    fill: var(--button-hover-fill-color);\n",
              "  }\n",
              "\n",
              "  .colab-df-quickchart-complete:disabled,\n",
              "  .colab-df-quickchart-complete:disabled:hover {\n",
              "    background-color: var(--disabled-bg-color);\n",
              "    fill: var(--disabled-fill-color);\n",
              "    box-shadow: none;\n",
              "  }\n",
              "\n",
              "  .colab-df-spinner {\n",
              "    border: 2px solid var(--fill-color);\n",
              "    border-color: transparent;\n",
              "    border-bottom-color: var(--fill-color);\n",
              "    animation:\n",
              "      spin 1s steps(1) infinite;\n",
              "  }\n",
              "\n",
              "  @keyframes spin {\n",
              "    0% {\n",
              "      border-color: transparent;\n",
              "      border-bottom-color: var(--fill-color);\n",
              "      border-left-color: var(--fill-color);\n",
              "    }\n",
              "    20% {\n",
              "      border-color: transparent;\n",
              "      border-left-color: var(--fill-color);\n",
              "      border-top-color: var(--fill-color);\n",
              "    }\n",
              "    30% {\n",
              "      border-color: transparent;\n",
              "      border-left-color: var(--fill-color);\n",
              "      border-top-color: var(--fill-color);\n",
              "      border-right-color: var(--fill-color);\n",
              "    }\n",
              "    40% {\n",
              "      border-color: transparent;\n",
              "      border-right-color: var(--fill-color);\n",
              "      border-top-color: var(--fill-color);\n",
              "    }\n",
              "    60% {\n",
              "      border-color: transparent;\n",
              "      border-right-color: var(--fill-color);\n",
              "    }\n",
              "    80% {\n",
              "      border-color: transparent;\n",
              "      border-right-color: var(--fill-color);\n",
              "      border-bottom-color: var(--fill-color);\n",
              "    }\n",
              "    90% {\n",
              "      border-color: transparent;\n",
              "      border-bottom-color: var(--fill-color);\n",
              "    }\n",
              "  }\n",
              "</style>\n",
              "\n",
              "  <script>\n",
              "    async function quickchart(key) {\n",
              "      const quickchartButtonEl =\n",
              "        document.querySelector('#' + key + ' button');\n",
              "      quickchartButtonEl.disabled = true;  // To prevent multiple clicks.\n",
              "      quickchartButtonEl.classList.add('colab-df-spinner');\n",
              "      try {\n",
              "        const charts = await google.colab.kernel.invokeFunction(\n",
              "            'suggestCharts', [key], {});\n",
              "      } catch (error) {\n",
              "        console.error('Error during call to suggestCharts:', error);\n",
              "      }\n",
              "      quickchartButtonEl.classList.remove('colab-df-spinner');\n",
              "      quickchartButtonEl.classList.add('colab-df-quickchart-complete');\n",
              "    }\n",
              "    (() => {\n",
              "      let quickchartButtonEl =\n",
              "        document.querySelector('#df-f73442cb-6e94-4f62-8860-8386564da6d9 button');\n",
              "      quickchartButtonEl.style.display =\n",
              "        google.colab.kernel.accessAllowed ? 'block' : 'none';\n",
              "    })();\n",
              "  </script>\n",
              "</div>\n",
              "\n",
              "    </div>\n",
              "  </div>\n"
            ],
            "application/vnd.google.colaboratory.intrinsic+json": {
              "type": "dataframe",
              "repr_error": "0"
            }
          },
          "metadata": {},
          "execution_count": 55
        }
      ]
    },
    {
      "cell_type": "code",
      "source": [
        "df.rename(columns = {'SR No.':'SeriealNumber', 'Post':'Job_Role'},inplace = True)\n",
        "df.sample(2)"
      ],
      "metadata": {
        "execution": {
          "iopub.status.busy": "2024-10-31T18:46:28.735306Z",
          "iopub.execute_input": "2024-10-31T18:46:28.735851Z",
          "iopub.status.idle": "2024-10-31T18:46:28.758029Z",
          "shell.execute_reply.started": "2024-10-31T18:46:28.735797Z",
          "shell.execute_reply": "2024-10-31T18:46:28.756518Z"
        },
        "trusted": true,
        "colab": {
          "base_uri": "https://localhost:8080/",
          "height": 271
        },
        "id": "EPxHqjNO4_1p",
        "outputId": "4ac5f577-6ae1-4184-eaf7-20e78343255a"
      },
      "execution_count": 56,
      "outputs": [
        {
          "output_type": "execute_result",
          "data": {
            "text/plain": [
              "     SeriealNumber CompanyName                 Job_Role JobID       Type  \\\n",
              "68              69     BharatX             Data Analyst   NaN  Full-time   \n",
              "106            107    JioSaavn  Data Processing Analyst   NaN  Full-time   \n",
              "\n",
              "      Location                                             Skills  \\\n",
              "68   Bangalore  SQL, Python, Tableau, Power BI, Dashboards Â· ...   \n",
              "106  Hyderabad                             Data Analytics, Python   \n",
              "\n",
              "    AppliedThrough DateApplied Application Status  \\\n",
              "68        LinkedIn  2024-01-26           Rejected   \n",
              "106         Naukri  2024-02-01        No Response   \n",
              "\n",
              "                Application Notes Comments  month  \n",
              "68   Consider other opportunities      NaN      1  \n",
              "106          No response received      NaN      2  "
            ],
            "text/html": [
              "\n",
              "  <div id=\"df-263aa270-f08a-445e-bc6a-771699c62011\" class=\"colab-df-container\">\n",
              "    <div>\n",
              "<style scoped>\n",
              "    .dataframe tbody tr th:only-of-type {\n",
              "        vertical-align: middle;\n",
              "    }\n",
              "\n",
              "    .dataframe tbody tr th {\n",
              "        vertical-align: top;\n",
              "    }\n",
              "\n",
              "    .dataframe thead th {\n",
              "        text-align: right;\n",
              "    }\n",
              "</style>\n",
              "<table border=\"1\" class=\"dataframe\">\n",
              "  <thead>\n",
              "    <tr style=\"text-align: right;\">\n",
              "      <th></th>\n",
              "      <th>SeriealNumber</th>\n",
              "      <th>CompanyName</th>\n",
              "      <th>Job_Role</th>\n",
              "      <th>JobID</th>\n",
              "      <th>Type</th>\n",
              "      <th>Location</th>\n",
              "      <th>Skills</th>\n",
              "      <th>AppliedThrough</th>\n",
              "      <th>DateApplied</th>\n",
              "      <th>Application Status</th>\n",
              "      <th>Application Notes</th>\n",
              "      <th>Comments</th>\n",
              "      <th>month</th>\n",
              "    </tr>\n",
              "  </thead>\n",
              "  <tbody>\n",
              "    <tr>\n",
              "      <th>68</th>\n",
              "      <td>69</td>\n",
              "      <td>BharatX</td>\n",
              "      <td>Data Analyst</td>\n",
              "      <td>NaN</td>\n",
              "      <td>Full-time</td>\n",
              "      <td>Bangalore</td>\n",
              "      <td>SQL, Python, Tableau, Power BI, Dashboards Â· ...</td>\n",
              "      <td>LinkedIn</td>\n",
              "      <td>2024-01-26</td>\n",
              "      <td>Rejected</td>\n",
              "      <td>Consider other opportunities</td>\n",
              "      <td>NaN</td>\n",
              "      <td>1</td>\n",
              "    </tr>\n",
              "    <tr>\n",
              "      <th>106</th>\n",
              "      <td>107</td>\n",
              "      <td>JioSaavn</td>\n",
              "      <td>Data Processing Analyst</td>\n",
              "      <td>NaN</td>\n",
              "      <td>Full-time</td>\n",
              "      <td>Hyderabad</td>\n",
              "      <td>Data Analytics, Python</td>\n",
              "      <td>Naukri</td>\n",
              "      <td>2024-02-01</td>\n",
              "      <td>No Response</td>\n",
              "      <td>No response received</td>\n",
              "      <td>NaN</td>\n",
              "      <td>2</td>\n",
              "    </tr>\n",
              "  </tbody>\n",
              "</table>\n",
              "</div>\n",
              "    <div class=\"colab-df-buttons\">\n",
              "\n",
              "  <div class=\"colab-df-container\">\n",
              "    <button class=\"colab-df-convert\" onclick=\"convertToInteractive('df-263aa270-f08a-445e-bc6a-771699c62011')\"\n",
              "            title=\"Convert this dataframe to an interactive table.\"\n",
              "            style=\"display:none;\">\n",
              "\n",
              "  <svg xmlns=\"http://www.w3.org/2000/svg\" height=\"24px\" viewBox=\"0 -960 960 960\">\n",
              "    <path d=\"M120-120v-720h720v720H120Zm60-500h600v-160H180v160Zm220 220h160v-160H400v160Zm0 220h160v-160H400v160ZM180-400h160v-160H180v160Zm440 0h160v-160H620v160ZM180-180h160v-160H180v160Zm440 0h160v-160H620v160Z\"/>\n",
              "  </svg>\n",
              "    </button>\n",
              "\n",
              "  <style>\n",
              "    .colab-df-container {\n",
              "      display:flex;\n",
              "      gap: 12px;\n",
              "    }\n",
              "\n",
              "    .colab-df-convert {\n",
              "      background-color: #E8F0FE;\n",
              "      border: none;\n",
              "      border-radius: 50%;\n",
              "      cursor: pointer;\n",
              "      display: none;\n",
              "      fill: #1967D2;\n",
              "      height: 32px;\n",
              "      padding: 0 0 0 0;\n",
              "      width: 32px;\n",
              "    }\n",
              "\n",
              "    .colab-df-convert:hover {\n",
              "      background-color: #E2EBFA;\n",
              "      box-shadow: 0px 1px 2px rgba(60, 64, 67, 0.3), 0px 1px 3px 1px rgba(60, 64, 67, 0.15);\n",
              "      fill: #174EA6;\n",
              "    }\n",
              "\n",
              "    .colab-df-buttons div {\n",
              "      margin-bottom: 4px;\n",
              "    }\n",
              "\n",
              "    [theme=dark] .colab-df-convert {\n",
              "      background-color: #3B4455;\n",
              "      fill: #D2E3FC;\n",
              "    }\n",
              "\n",
              "    [theme=dark] .colab-df-convert:hover {\n",
              "      background-color: #434B5C;\n",
              "      box-shadow: 0px 1px 3px 1px rgba(0, 0, 0, 0.15);\n",
              "      filter: drop-shadow(0px 1px 2px rgba(0, 0, 0, 0.3));\n",
              "      fill: #FFFFFF;\n",
              "    }\n",
              "  </style>\n",
              "\n",
              "    <script>\n",
              "      const buttonEl =\n",
              "        document.querySelector('#df-263aa270-f08a-445e-bc6a-771699c62011 button.colab-df-convert');\n",
              "      buttonEl.style.display =\n",
              "        google.colab.kernel.accessAllowed ? 'block' : 'none';\n",
              "\n",
              "      async function convertToInteractive(key) {\n",
              "        const element = document.querySelector('#df-263aa270-f08a-445e-bc6a-771699c62011');\n",
              "        const dataTable =\n",
              "          await google.colab.kernel.invokeFunction('convertToInteractive',\n",
              "                                                    [key], {});\n",
              "        if (!dataTable) return;\n",
              "\n",
              "        const docLinkHtml = 'Like what you see? Visit the ' +\n",
              "          '<a target=\"_blank\" href=https://colab.research.google.com/notebooks/data_table.ipynb>data table notebook</a>'\n",
              "          + ' to learn more about interactive tables.';\n",
              "        element.innerHTML = '';\n",
              "        dataTable['output_type'] = 'display_data';\n",
              "        await google.colab.output.renderOutput(dataTable, element);\n",
              "        const docLink = document.createElement('div');\n",
              "        docLink.innerHTML = docLinkHtml;\n",
              "        element.appendChild(docLink);\n",
              "      }\n",
              "    </script>\n",
              "  </div>\n",
              "\n",
              "\n",
              "<div id=\"df-1a113d23-6b95-4716-be32-aabf0875ad58\">\n",
              "  <button class=\"colab-df-quickchart\" onclick=\"quickchart('df-1a113d23-6b95-4716-be32-aabf0875ad58')\"\n",
              "            title=\"Suggest charts\"\n",
              "            style=\"display:none;\">\n",
              "\n",
              "<svg xmlns=\"http://www.w3.org/2000/svg\" height=\"24px\"viewBox=\"0 0 24 24\"\n",
              "     width=\"24px\">\n",
              "    <g>\n",
              "        <path d=\"M19 3H5c-1.1 0-2 .9-2 2v14c0 1.1.9 2 2 2h14c1.1 0 2-.9 2-2V5c0-1.1-.9-2-2-2zM9 17H7v-7h2v7zm4 0h-2V7h2v10zm4 0h-2v-4h2v4z\"/>\n",
              "    </g>\n",
              "</svg>\n",
              "  </button>\n",
              "\n",
              "<style>\n",
              "  .colab-df-quickchart {\n",
              "      --bg-color: #E8F0FE;\n",
              "      --fill-color: #1967D2;\n",
              "      --hover-bg-color: #E2EBFA;\n",
              "      --hover-fill-color: #174EA6;\n",
              "      --disabled-fill-color: #AAA;\n",
              "      --disabled-bg-color: #DDD;\n",
              "  }\n",
              "\n",
              "  [theme=dark] .colab-df-quickchart {\n",
              "      --bg-color: #3B4455;\n",
              "      --fill-color: #D2E3FC;\n",
              "      --hover-bg-color: #434B5C;\n",
              "      --hover-fill-color: #FFFFFF;\n",
              "      --disabled-bg-color: #3B4455;\n",
              "      --disabled-fill-color: #666;\n",
              "  }\n",
              "\n",
              "  .colab-df-quickchart {\n",
              "    background-color: var(--bg-color);\n",
              "    border: none;\n",
              "    border-radius: 50%;\n",
              "    cursor: pointer;\n",
              "    display: none;\n",
              "    fill: var(--fill-color);\n",
              "    height: 32px;\n",
              "    padding: 0;\n",
              "    width: 32px;\n",
              "  }\n",
              "\n",
              "  .colab-df-quickchart:hover {\n",
              "    background-color: var(--hover-bg-color);\n",
              "    box-shadow: 0 1px 2px rgba(60, 64, 67, 0.3), 0 1px 3px 1px rgba(60, 64, 67, 0.15);\n",
              "    fill: var(--button-hover-fill-color);\n",
              "  }\n",
              "\n",
              "  .colab-df-quickchart-complete:disabled,\n",
              "  .colab-df-quickchart-complete:disabled:hover {\n",
              "    background-color: var(--disabled-bg-color);\n",
              "    fill: var(--disabled-fill-color);\n",
              "    box-shadow: none;\n",
              "  }\n",
              "\n",
              "  .colab-df-spinner {\n",
              "    border: 2px solid var(--fill-color);\n",
              "    border-color: transparent;\n",
              "    border-bottom-color: var(--fill-color);\n",
              "    animation:\n",
              "      spin 1s steps(1) infinite;\n",
              "  }\n",
              "\n",
              "  @keyframes spin {\n",
              "    0% {\n",
              "      border-color: transparent;\n",
              "      border-bottom-color: var(--fill-color);\n",
              "      border-left-color: var(--fill-color);\n",
              "    }\n",
              "    20% {\n",
              "      border-color: transparent;\n",
              "      border-left-color: var(--fill-color);\n",
              "      border-top-color: var(--fill-color);\n",
              "    }\n",
              "    30% {\n",
              "      border-color: transparent;\n",
              "      border-left-color: var(--fill-color);\n",
              "      border-top-color: var(--fill-color);\n",
              "      border-right-color: var(--fill-color);\n",
              "    }\n",
              "    40% {\n",
              "      border-color: transparent;\n",
              "      border-right-color: var(--fill-color);\n",
              "      border-top-color: var(--fill-color);\n",
              "    }\n",
              "    60% {\n",
              "      border-color: transparent;\n",
              "      border-right-color: var(--fill-color);\n",
              "    }\n",
              "    80% {\n",
              "      border-color: transparent;\n",
              "      border-right-color: var(--fill-color);\n",
              "      border-bottom-color: var(--fill-color);\n",
              "    }\n",
              "    90% {\n",
              "      border-color: transparent;\n",
              "      border-bottom-color: var(--fill-color);\n",
              "    }\n",
              "  }\n",
              "</style>\n",
              "\n",
              "  <script>\n",
              "    async function quickchart(key) {\n",
              "      const quickchartButtonEl =\n",
              "        document.querySelector('#' + key + ' button');\n",
              "      quickchartButtonEl.disabled = true;  // To prevent multiple clicks.\n",
              "      quickchartButtonEl.classList.add('colab-df-spinner');\n",
              "      try {\n",
              "        const charts = await google.colab.kernel.invokeFunction(\n",
              "            'suggestCharts', [key], {});\n",
              "      } catch (error) {\n",
              "        console.error('Error during call to suggestCharts:', error);\n",
              "      }\n",
              "      quickchartButtonEl.classList.remove('colab-df-spinner');\n",
              "      quickchartButtonEl.classList.add('colab-df-quickchart-complete');\n",
              "    }\n",
              "    (() => {\n",
              "      let quickchartButtonEl =\n",
              "        document.querySelector('#df-1a113d23-6b95-4716-be32-aabf0875ad58 button');\n",
              "      quickchartButtonEl.style.display =\n",
              "        google.colab.kernel.accessAllowed ? 'block' : 'none';\n",
              "    })();\n",
              "  </script>\n",
              "</div>\n",
              "\n",
              "    </div>\n",
              "  </div>\n"
            ],
            "application/vnd.google.colaboratory.intrinsic+json": {
              "type": "dataframe",
              "repr_error": "0"
            }
          },
          "metadata": {},
          "execution_count": 56
        }
      ]
    },
    {
      "cell_type": "code",
      "source": [
        "df.isnull().sum()"
      ],
      "metadata": {
        "execution": {
          "iopub.status.busy": "2024-10-31T18:47:07.772042Z",
          "iopub.execute_input": "2024-10-31T18:47:07.772482Z",
          "iopub.status.idle": "2024-10-31T18:47:07.783267Z",
          "shell.execute_reply.started": "2024-10-31T18:47:07.772434Z",
          "shell.execute_reply": "2024-10-31T18:47:07.781972Z"
        },
        "trusted": true,
        "colab": {
          "base_uri": "https://localhost:8080/",
          "height": 491
        },
        "id": "w7shxqVW4_1p",
        "outputId": "ca6c2e79-74bf-46f3-a694-cd5eef32e4cf"
      },
      "execution_count": 57,
      "outputs": [
        {
          "output_type": "execute_result",
          "data": {
            "text/plain": [
              "SeriealNumber           0\n",
              "CompanyName             0\n",
              "Job_Role                1\n",
              "JobID                 518\n",
              "Type                    9\n",
              "Location                4\n",
              "Skills                 24\n",
              "AppliedThrough          2\n",
              "DateApplied             0\n",
              "Application Status      0\n",
              "Application Notes       0\n",
              "Comments              539\n",
              "month                   0\n",
              "dtype: int64"
            ],
            "text/html": [
              "<div>\n",
              "<style scoped>\n",
              "    .dataframe tbody tr th:only-of-type {\n",
              "        vertical-align: middle;\n",
              "    }\n",
              "\n",
              "    .dataframe tbody tr th {\n",
              "        vertical-align: top;\n",
              "    }\n",
              "\n",
              "    .dataframe thead th {\n",
              "        text-align: right;\n",
              "    }\n",
              "</style>\n",
              "<table border=\"1\" class=\"dataframe\">\n",
              "  <thead>\n",
              "    <tr style=\"text-align: right;\">\n",
              "      <th></th>\n",
              "      <th>0</th>\n",
              "    </tr>\n",
              "  </thead>\n",
              "  <tbody>\n",
              "    <tr>\n",
              "      <th>SeriealNumber</th>\n",
              "      <td>0</td>\n",
              "    </tr>\n",
              "    <tr>\n",
              "      <th>CompanyName</th>\n",
              "      <td>0</td>\n",
              "    </tr>\n",
              "    <tr>\n",
              "      <th>Job_Role</th>\n",
              "      <td>1</td>\n",
              "    </tr>\n",
              "    <tr>\n",
              "      <th>JobID</th>\n",
              "      <td>518</td>\n",
              "    </tr>\n",
              "    <tr>\n",
              "      <th>Type</th>\n",
              "      <td>9</td>\n",
              "    </tr>\n",
              "    <tr>\n",
              "      <th>Location</th>\n",
              "      <td>4</td>\n",
              "    </tr>\n",
              "    <tr>\n",
              "      <th>Skills</th>\n",
              "      <td>24</td>\n",
              "    </tr>\n",
              "    <tr>\n",
              "      <th>AppliedThrough</th>\n",
              "      <td>2</td>\n",
              "    </tr>\n",
              "    <tr>\n",
              "      <th>DateApplied</th>\n",
              "      <td>0</td>\n",
              "    </tr>\n",
              "    <tr>\n",
              "      <th>Application Status</th>\n",
              "      <td>0</td>\n",
              "    </tr>\n",
              "    <tr>\n",
              "      <th>Application Notes</th>\n",
              "      <td>0</td>\n",
              "    </tr>\n",
              "    <tr>\n",
              "      <th>Comments</th>\n",
              "      <td>539</td>\n",
              "    </tr>\n",
              "    <tr>\n",
              "      <th>month</th>\n",
              "      <td>0</td>\n",
              "    </tr>\n",
              "  </tbody>\n",
              "</table>\n",
              "</div><br><label><b>dtype:</b> int64</label>"
            ]
          },
          "metadata": {},
          "execution_count": 57
        }
      ]
    },
    {
      "cell_type": "code",
      "source": [
        "df.drop(['JobID','Comments'], axis=1, inplace=True, errors='ignore')\n",
        "df.sample(2)"
      ],
      "metadata": {
        "execution": {
          "iopub.status.busy": "2024-10-31T18:48:00.320426Z",
          "iopub.execute_input": "2024-10-31T18:48:00.320871Z",
          "iopub.status.idle": "2024-10-31T18:48:00.344680Z",
          "shell.execute_reply.started": "2024-10-31T18:48:00.320830Z",
          "shell.execute_reply": "2024-10-31T18:48:00.343234Z"
        },
        "trusted": true,
        "colab": {
          "base_uri": "https://localhost:8080/",
          "height": 199
        },
        "id": "VMbA8dG84_1p",
        "outputId": "cbc65d97-f7c4-4cbc-d391-2069d3112e25"
      },
      "execution_count": 58,
      "outputs": [
        {
          "output_type": "execute_result",
          "data": {
            "text/plain": [
              "     SeriealNumber            CompanyName      Job_Role       Type   Location  \\\n",
              "479            480                 17live  Data Analyst  Full-Time      Delhi   \n",
              "538            539  Creditsafe Technology  Data Analyst  Full-Time  Hyderabad   \n",
              "\n",
              "                                                Skills AppliedThrough  \\\n",
              "479                         Pandas, Google Sheets, SQL    Internshala   \n",
              "538  Data Analytics, Power BI, Statistics, Machine ...    Internshala   \n",
              "\n",
              "    DateApplied Application Status     Application Notes  month  \n",
              "479  2024-08-20        No Response  No response received      8  \n",
              "538  2024-10-19        No Response  No response received     10  "
            ],
            "text/html": [
              "\n",
              "  <div id=\"df-a0ca80cf-2d9c-4533-977e-e4a3e3eabe39\" class=\"colab-df-container\">\n",
              "    <div>\n",
              "<style scoped>\n",
              "    .dataframe tbody tr th:only-of-type {\n",
              "        vertical-align: middle;\n",
              "    }\n",
              "\n",
              "    .dataframe tbody tr th {\n",
              "        vertical-align: top;\n",
              "    }\n",
              "\n",
              "    .dataframe thead th {\n",
              "        text-align: right;\n",
              "    }\n",
              "</style>\n",
              "<table border=\"1\" class=\"dataframe\">\n",
              "  <thead>\n",
              "    <tr style=\"text-align: right;\">\n",
              "      <th></th>\n",
              "      <th>SeriealNumber</th>\n",
              "      <th>CompanyName</th>\n",
              "      <th>Job_Role</th>\n",
              "      <th>Type</th>\n",
              "      <th>Location</th>\n",
              "      <th>Skills</th>\n",
              "      <th>AppliedThrough</th>\n",
              "      <th>DateApplied</th>\n",
              "      <th>Application Status</th>\n",
              "      <th>Application Notes</th>\n",
              "      <th>month</th>\n",
              "    </tr>\n",
              "  </thead>\n",
              "  <tbody>\n",
              "    <tr>\n",
              "      <th>479</th>\n",
              "      <td>480</td>\n",
              "      <td>17live</td>\n",
              "      <td>Data Analyst</td>\n",
              "      <td>Full-Time</td>\n",
              "      <td>Delhi</td>\n",
              "      <td>Pandas, Google Sheets, SQL</td>\n",
              "      <td>Internshala</td>\n",
              "      <td>2024-08-20</td>\n",
              "      <td>No Response</td>\n",
              "      <td>No response received</td>\n",
              "      <td>8</td>\n",
              "    </tr>\n",
              "    <tr>\n",
              "      <th>538</th>\n",
              "      <td>539</td>\n",
              "      <td>Creditsafe Technology</td>\n",
              "      <td>Data Analyst</td>\n",
              "      <td>Full-Time</td>\n",
              "      <td>Hyderabad</td>\n",
              "      <td>Data Analytics, Power BI, Statistics, Machine ...</td>\n",
              "      <td>Internshala</td>\n",
              "      <td>2024-10-19</td>\n",
              "      <td>No Response</td>\n",
              "      <td>No response received</td>\n",
              "      <td>10</td>\n",
              "    </tr>\n",
              "  </tbody>\n",
              "</table>\n",
              "</div>\n",
              "    <div class=\"colab-df-buttons\">\n",
              "\n",
              "  <div class=\"colab-df-container\">\n",
              "    <button class=\"colab-df-convert\" onclick=\"convertToInteractive('df-a0ca80cf-2d9c-4533-977e-e4a3e3eabe39')\"\n",
              "            title=\"Convert this dataframe to an interactive table.\"\n",
              "            style=\"display:none;\">\n",
              "\n",
              "  <svg xmlns=\"http://www.w3.org/2000/svg\" height=\"24px\" viewBox=\"0 -960 960 960\">\n",
              "    <path d=\"M120-120v-720h720v720H120Zm60-500h600v-160H180v160Zm220 220h160v-160H400v160Zm0 220h160v-160H400v160ZM180-400h160v-160H180v160Zm440 0h160v-160H620v160ZM180-180h160v-160H180v160Zm440 0h160v-160H620v160Z\"/>\n",
              "  </svg>\n",
              "    </button>\n",
              "\n",
              "  <style>\n",
              "    .colab-df-container {\n",
              "      display:flex;\n",
              "      gap: 12px;\n",
              "    }\n",
              "\n",
              "    .colab-df-convert {\n",
              "      background-color: #E8F0FE;\n",
              "      border: none;\n",
              "      border-radius: 50%;\n",
              "      cursor: pointer;\n",
              "      display: none;\n",
              "      fill: #1967D2;\n",
              "      height: 32px;\n",
              "      padding: 0 0 0 0;\n",
              "      width: 32px;\n",
              "    }\n",
              "\n",
              "    .colab-df-convert:hover {\n",
              "      background-color: #E2EBFA;\n",
              "      box-shadow: 0px 1px 2px rgba(60, 64, 67, 0.3), 0px 1px 3px 1px rgba(60, 64, 67, 0.15);\n",
              "      fill: #174EA6;\n",
              "    }\n",
              "\n",
              "    .colab-df-buttons div {\n",
              "      margin-bottom: 4px;\n",
              "    }\n",
              "\n",
              "    [theme=dark] .colab-df-convert {\n",
              "      background-color: #3B4455;\n",
              "      fill: #D2E3FC;\n",
              "    }\n",
              "\n",
              "    [theme=dark] .colab-df-convert:hover {\n",
              "      background-color: #434B5C;\n",
              "      box-shadow: 0px 1px 3px 1px rgba(0, 0, 0, 0.15);\n",
              "      filter: drop-shadow(0px 1px 2px rgba(0, 0, 0, 0.3));\n",
              "      fill: #FFFFFF;\n",
              "    }\n",
              "  </style>\n",
              "\n",
              "    <script>\n",
              "      const buttonEl =\n",
              "        document.querySelector('#df-a0ca80cf-2d9c-4533-977e-e4a3e3eabe39 button.colab-df-convert');\n",
              "      buttonEl.style.display =\n",
              "        google.colab.kernel.accessAllowed ? 'block' : 'none';\n",
              "\n",
              "      async function convertToInteractive(key) {\n",
              "        const element = document.querySelector('#df-a0ca80cf-2d9c-4533-977e-e4a3e3eabe39');\n",
              "        const dataTable =\n",
              "          await google.colab.kernel.invokeFunction('convertToInteractive',\n",
              "                                                    [key], {});\n",
              "        if (!dataTable) return;\n",
              "\n",
              "        const docLinkHtml = 'Like what you see? Visit the ' +\n",
              "          '<a target=\"_blank\" href=https://colab.research.google.com/notebooks/data_table.ipynb>data table notebook</a>'\n",
              "          + ' to learn more about interactive tables.';\n",
              "        element.innerHTML = '';\n",
              "        dataTable['output_type'] = 'display_data';\n",
              "        await google.colab.output.renderOutput(dataTable, element);\n",
              "        const docLink = document.createElement('div');\n",
              "        docLink.innerHTML = docLinkHtml;\n",
              "        element.appendChild(docLink);\n",
              "      }\n",
              "    </script>\n",
              "  </div>\n",
              "\n",
              "\n",
              "<div id=\"df-d269dbdc-195b-45b3-8b3d-74a29b7c1ec1\">\n",
              "  <button class=\"colab-df-quickchart\" onclick=\"quickchart('df-d269dbdc-195b-45b3-8b3d-74a29b7c1ec1')\"\n",
              "            title=\"Suggest charts\"\n",
              "            style=\"display:none;\">\n",
              "\n",
              "<svg xmlns=\"http://www.w3.org/2000/svg\" height=\"24px\"viewBox=\"0 0 24 24\"\n",
              "     width=\"24px\">\n",
              "    <g>\n",
              "        <path d=\"M19 3H5c-1.1 0-2 .9-2 2v14c0 1.1.9 2 2 2h14c1.1 0 2-.9 2-2V5c0-1.1-.9-2-2-2zM9 17H7v-7h2v7zm4 0h-2V7h2v10zm4 0h-2v-4h2v4z\"/>\n",
              "    </g>\n",
              "</svg>\n",
              "  </button>\n",
              "\n",
              "<style>\n",
              "  .colab-df-quickchart {\n",
              "      --bg-color: #E8F0FE;\n",
              "      --fill-color: #1967D2;\n",
              "      --hover-bg-color: #E2EBFA;\n",
              "      --hover-fill-color: #174EA6;\n",
              "      --disabled-fill-color: #AAA;\n",
              "      --disabled-bg-color: #DDD;\n",
              "  }\n",
              "\n",
              "  [theme=dark] .colab-df-quickchart {\n",
              "      --bg-color: #3B4455;\n",
              "      --fill-color: #D2E3FC;\n",
              "      --hover-bg-color: #434B5C;\n",
              "      --hover-fill-color: #FFFFFF;\n",
              "      --disabled-bg-color: #3B4455;\n",
              "      --disabled-fill-color: #666;\n",
              "  }\n",
              "\n",
              "  .colab-df-quickchart {\n",
              "    background-color: var(--bg-color);\n",
              "    border: none;\n",
              "    border-radius: 50%;\n",
              "    cursor: pointer;\n",
              "    display: none;\n",
              "    fill: var(--fill-color);\n",
              "    height: 32px;\n",
              "    padding: 0;\n",
              "    width: 32px;\n",
              "  }\n",
              "\n",
              "  .colab-df-quickchart:hover {\n",
              "    background-color: var(--hover-bg-color);\n",
              "    box-shadow: 0 1px 2px rgba(60, 64, 67, 0.3), 0 1px 3px 1px rgba(60, 64, 67, 0.15);\n",
              "    fill: var(--button-hover-fill-color);\n",
              "  }\n",
              "\n",
              "  .colab-df-quickchart-complete:disabled,\n",
              "  .colab-df-quickchart-complete:disabled:hover {\n",
              "    background-color: var(--disabled-bg-color);\n",
              "    fill: var(--disabled-fill-color);\n",
              "    box-shadow: none;\n",
              "  }\n",
              "\n",
              "  .colab-df-spinner {\n",
              "    border: 2px solid var(--fill-color);\n",
              "    border-color: transparent;\n",
              "    border-bottom-color: var(--fill-color);\n",
              "    animation:\n",
              "      spin 1s steps(1) infinite;\n",
              "  }\n",
              "\n",
              "  @keyframes spin {\n",
              "    0% {\n",
              "      border-color: transparent;\n",
              "      border-bottom-color: var(--fill-color);\n",
              "      border-left-color: var(--fill-color);\n",
              "    }\n",
              "    20% {\n",
              "      border-color: transparent;\n",
              "      border-left-color: var(--fill-color);\n",
              "      border-top-color: var(--fill-color);\n",
              "    }\n",
              "    30% {\n",
              "      border-color: transparent;\n",
              "      border-left-color: var(--fill-color);\n",
              "      border-top-color: var(--fill-color);\n",
              "      border-right-color: var(--fill-color);\n",
              "    }\n",
              "    40% {\n",
              "      border-color: transparent;\n",
              "      border-right-color: var(--fill-color);\n",
              "      border-top-color: var(--fill-color);\n",
              "    }\n",
              "    60% {\n",
              "      border-color: transparent;\n",
              "      border-right-color: var(--fill-color);\n",
              "    }\n",
              "    80% {\n",
              "      border-color: transparent;\n",
              "      border-right-color: var(--fill-color);\n",
              "      border-bottom-color: var(--fill-color);\n",
              "    }\n",
              "    90% {\n",
              "      border-color: transparent;\n",
              "      border-bottom-color: var(--fill-color);\n",
              "    }\n",
              "  }\n",
              "</style>\n",
              "\n",
              "  <script>\n",
              "    async function quickchart(key) {\n",
              "      const quickchartButtonEl =\n",
              "        document.querySelector('#' + key + ' button');\n",
              "      quickchartButtonEl.disabled = true;  // To prevent multiple clicks.\n",
              "      quickchartButtonEl.classList.add('colab-df-spinner');\n",
              "      try {\n",
              "        const charts = await google.colab.kernel.invokeFunction(\n",
              "            'suggestCharts', [key], {});\n",
              "      } catch (error) {\n",
              "        console.error('Error during call to suggestCharts:', error);\n",
              "      }\n",
              "      quickchartButtonEl.classList.remove('colab-df-spinner');\n",
              "      quickchartButtonEl.classList.add('colab-df-quickchart-complete');\n",
              "    }\n",
              "    (() => {\n",
              "      let quickchartButtonEl =\n",
              "        document.querySelector('#df-d269dbdc-195b-45b3-8b3d-74a29b7c1ec1 button');\n",
              "      quickchartButtonEl.style.display =\n",
              "        google.colab.kernel.accessAllowed ? 'block' : 'none';\n",
              "    })();\n",
              "  </script>\n",
              "</div>\n",
              "\n",
              "    </div>\n",
              "  </div>\n"
            ],
            "application/vnd.google.colaboratory.intrinsic+json": {
              "type": "dataframe",
              "summary": "{\n  \"name\": \"df\",\n  \"rows\": 2,\n  \"fields\": [\n    {\n      \"column\": \"SeriealNumber\",\n      \"properties\": {\n        \"dtype\": \"number\",\n        \"std\": 41,\n        \"min\": 480,\n        \"max\": 539,\n        \"num_unique_values\": 2,\n        \"samples\": [\n          539,\n          480\n        ],\n        \"semantic_type\": \"\",\n        \"description\": \"\"\n      }\n    },\n    {\n      \"column\": \"CompanyName\",\n      \"properties\": {\n        \"dtype\": \"string\",\n        \"num_unique_values\": 2,\n        \"samples\": [\n          \"Creditsafe Technology\",\n          \"17live\"\n        ],\n        \"semantic_type\": \"\",\n        \"description\": \"\"\n      }\n    },\n    {\n      \"column\": \"Job_Role\",\n      \"properties\": {\n        \"dtype\": \"string\",\n        \"num_unique_values\": 1,\n        \"samples\": [\n          \"Data Analyst\"\n        ],\n        \"semantic_type\": \"\",\n        \"description\": \"\"\n      }\n    },\n    {\n      \"column\": \"Type\",\n      \"properties\": {\n        \"dtype\": \"string\",\n        \"num_unique_values\": 1,\n        \"samples\": [\n          \"Full-Time\"\n        ],\n        \"semantic_type\": \"\",\n        \"description\": \"\"\n      }\n    },\n    {\n      \"column\": \"Location\",\n      \"properties\": {\n        \"dtype\": \"string\",\n        \"num_unique_values\": 2,\n        \"samples\": [\n          \"Hyderabad\"\n        ],\n        \"semantic_type\": \"\",\n        \"description\": \"\"\n      }\n    },\n    {\n      \"column\": \"Skills\",\n      \"properties\": {\n        \"dtype\": \"string\",\n        \"num_unique_values\": 2,\n        \"samples\": [\n          \"Data Analytics, Power BI, Statistics, Machine Learning\"\n        ],\n        \"semantic_type\": \"\",\n        \"description\": \"\"\n      }\n    },\n    {\n      \"column\": \"AppliedThrough\",\n      \"properties\": {\n        \"dtype\": \"string\",\n        \"num_unique_values\": 1,\n        \"samples\": [\n          \"Internshala\"\n        ],\n        \"semantic_type\": \"\",\n        \"description\": \"\"\n      }\n    },\n    {\n      \"column\": \"DateApplied\",\n      \"properties\": {\n        \"dtype\": \"date\",\n        \"min\": \"2024-08-20 00:00:00\",\n        \"max\": \"2024-10-19 00:00:00\",\n        \"num_unique_values\": 2,\n        \"samples\": [\n          \"2024-10-19 00:00:00\"\n        ],\n        \"semantic_type\": \"\",\n        \"description\": \"\"\n      }\n    },\n    {\n      \"column\": \"Application Status\",\n      \"properties\": {\n        \"dtype\": \"string\",\n        \"num_unique_values\": 1,\n        \"samples\": [\n          \"No Response\"\n        ],\n        \"semantic_type\": \"\",\n        \"description\": \"\"\n      }\n    },\n    {\n      \"column\": \"Application Notes\",\n      \"properties\": {\n        \"dtype\": \"string\",\n        \"num_unique_values\": 1,\n        \"samples\": [\n          \"No response received\"\n        ],\n        \"semantic_type\": \"\",\n        \"description\": \"\"\n      }\n    },\n    {\n      \"column\": \"month\",\n      \"properties\": {\n        \"dtype\": \"int32\",\n        \"num_unique_values\": 2,\n        \"samples\": [\n          10\n        ],\n        \"semantic_type\": \"\",\n        \"description\": \"\"\n      }\n    }\n  ]\n}"
            }
          },
          "metadata": {},
          "execution_count": 58
        }
      ]
    },
    {
      "cell_type": "code",
      "source": [
        "df['Job_Role'].fillna(value = df['Type'].mode()[0], inplace=True)\n",
        "df['Type'].fillna(value = df['Type'].mode()[0], inplace=True)\n",
        "df['Skills'].fillna(value = df['Skills'].mode()[0], inplace = True)\n",
        "df['Location'].fillna(value=df['Location'].mode()[0], inplace=True)\n",
        "df['AppliedThrough'].fillna(value=df['AppliedThrough'].mode()[0],inplace=True)"
      ],
      "metadata": {
        "execution": {
          "iopub.status.busy": "2024-10-31T18:49:53.307755Z",
          "iopub.execute_input": "2024-10-31T18:49:53.308222Z",
          "iopub.status.idle": "2024-10-31T18:49:53.321787Z",
          "shell.execute_reply.started": "2024-10-31T18:49:53.308180Z",
          "shell.execute_reply": "2024-10-31T18:49:53.320486Z"
        },
        "trusted": true,
        "colab": {
          "base_uri": "https://localhost:8080/"
        },
        "id": "mVv5Vxtl4_1p",
        "outputId": "0b893b90-63d2-4b49-ccdd-938140c57783"
      },
      "execution_count": 59,
      "outputs": [
        {
          "output_type": "stream",
          "name": "stderr",
          "text": [
            "<ipython-input-59-bdcd4d66d5c6>:1: FutureWarning: A value is trying to be set on a copy of a DataFrame or Series through chained assignment using an inplace method.\n",
            "The behavior will change in pandas 3.0. This inplace method will never work because the intermediate object on which we are setting values always behaves as a copy.\n",
            "\n",
            "For example, when doing 'df[col].method(value, inplace=True)', try using 'df.method({col: value}, inplace=True)' or df[col] = df[col].method(value) instead, to perform the operation inplace on the original object.\n",
            "\n",
            "\n",
            "  df['Job_Role'].fillna(value = df['Type'].mode()[0], inplace=True)\n",
            "<ipython-input-59-bdcd4d66d5c6>:2: FutureWarning: A value is trying to be set on a copy of a DataFrame or Series through chained assignment using an inplace method.\n",
            "The behavior will change in pandas 3.0. This inplace method will never work because the intermediate object on which we are setting values always behaves as a copy.\n",
            "\n",
            "For example, when doing 'df[col].method(value, inplace=True)', try using 'df.method({col: value}, inplace=True)' or df[col] = df[col].method(value) instead, to perform the operation inplace on the original object.\n",
            "\n",
            "\n",
            "  df['Type'].fillna(value = df['Type'].mode()[0], inplace=True)\n",
            "<ipython-input-59-bdcd4d66d5c6>:3: FutureWarning: A value is trying to be set on a copy of a DataFrame or Series through chained assignment using an inplace method.\n",
            "The behavior will change in pandas 3.0. This inplace method will never work because the intermediate object on which we are setting values always behaves as a copy.\n",
            "\n",
            "For example, when doing 'df[col].method(value, inplace=True)', try using 'df.method({col: value}, inplace=True)' or df[col] = df[col].method(value) instead, to perform the operation inplace on the original object.\n",
            "\n",
            "\n",
            "  df['Skills'].fillna(value = df['Skills'].mode()[0], inplace = True)\n",
            "<ipython-input-59-bdcd4d66d5c6>:4: FutureWarning: A value is trying to be set on a copy of a DataFrame or Series through chained assignment using an inplace method.\n",
            "The behavior will change in pandas 3.0. This inplace method will never work because the intermediate object on which we are setting values always behaves as a copy.\n",
            "\n",
            "For example, when doing 'df[col].method(value, inplace=True)', try using 'df.method({col: value}, inplace=True)' or df[col] = df[col].method(value) instead, to perform the operation inplace on the original object.\n",
            "\n",
            "\n",
            "  df['Location'].fillna(value=df['Location'].mode()[0], inplace=True)\n",
            "<ipython-input-59-bdcd4d66d5c6>:5: FutureWarning: A value is trying to be set on a copy of a DataFrame or Series through chained assignment using an inplace method.\n",
            "The behavior will change in pandas 3.0. This inplace method will never work because the intermediate object on which we are setting values always behaves as a copy.\n",
            "\n",
            "For example, when doing 'df[col].method(value, inplace=True)', try using 'df.method({col: value}, inplace=True)' or df[col] = df[col].method(value) instead, to perform the operation inplace on the original object.\n",
            "\n",
            "\n",
            "  df['AppliedThrough'].fillna(value=df['AppliedThrough'].mode()[0],inplace=True)\n"
          ]
        }
      ]
    },
    {
      "cell_type": "code",
      "source": [
        "df.isnull().sum()"
      ],
      "metadata": {
        "execution": {
          "iopub.status.busy": "2024-10-31T18:49:57.061469Z",
          "iopub.execute_input": "2024-10-31T18:49:57.061927Z",
          "iopub.status.idle": "2024-10-31T18:49:57.072437Z",
          "shell.execute_reply.started": "2024-10-31T18:49:57.061871Z",
          "shell.execute_reply": "2024-10-31T18:49:57.071143Z"
        },
        "trusted": true,
        "colab": {
          "base_uri": "https://localhost:8080/",
          "height": 429
        },
        "id": "LaLauZUt4_1p",
        "outputId": "95bfecb2-3d6e-480d-97e8-8f55fd584085"
      },
      "execution_count": 60,
      "outputs": [
        {
          "output_type": "execute_result",
          "data": {
            "text/plain": [
              "SeriealNumber         0\n",
              "CompanyName           0\n",
              "Job_Role              0\n",
              "Type                  0\n",
              "Location              0\n",
              "Skills                0\n",
              "AppliedThrough        0\n",
              "DateApplied           0\n",
              "Application Status    0\n",
              "Application Notes     0\n",
              "month                 0\n",
              "dtype: int64"
            ],
            "text/html": [
              "<div>\n",
              "<style scoped>\n",
              "    .dataframe tbody tr th:only-of-type {\n",
              "        vertical-align: middle;\n",
              "    }\n",
              "\n",
              "    .dataframe tbody tr th {\n",
              "        vertical-align: top;\n",
              "    }\n",
              "\n",
              "    .dataframe thead th {\n",
              "        text-align: right;\n",
              "    }\n",
              "</style>\n",
              "<table border=\"1\" class=\"dataframe\">\n",
              "  <thead>\n",
              "    <tr style=\"text-align: right;\">\n",
              "      <th></th>\n",
              "      <th>0</th>\n",
              "    </tr>\n",
              "  </thead>\n",
              "  <tbody>\n",
              "    <tr>\n",
              "      <th>SeriealNumber</th>\n",
              "      <td>0</td>\n",
              "    </tr>\n",
              "    <tr>\n",
              "      <th>CompanyName</th>\n",
              "      <td>0</td>\n",
              "    </tr>\n",
              "    <tr>\n",
              "      <th>Job_Role</th>\n",
              "      <td>0</td>\n",
              "    </tr>\n",
              "    <tr>\n",
              "      <th>Type</th>\n",
              "      <td>0</td>\n",
              "    </tr>\n",
              "    <tr>\n",
              "      <th>Location</th>\n",
              "      <td>0</td>\n",
              "    </tr>\n",
              "    <tr>\n",
              "      <th>Skills</th>\n",
              "      <td>0</td>\n",
              "    </tr>\n",
              "    <tr>\n",
              "      <th>AppliedThrough</th>\n",
              "      <td>0</td>\n",
              "    </tr>\n",
              "    <tr>\n",
              "      <th>DateApplied</th>\n",
              "      <td>0</td>\n",
              "    </tr>\n",
              "    <tr>\n",
              "      <th>Application Status</th>\n",
              "      <td>0</td>\n",
              "    </tr>\n",
              "    <tr>\n",
              "      <th>Application Notes</th>\n",
              "      <td>0</td>\n",
              "    </tr>\n",
              "    <tr>\n",
              "      <th>month</th>\n",
              "      <td>0</td>\n",
              "    </tr>\n",
              "  </tbody>\n",
              "</table>\n",
              "</div><br><label><b>dtype:</b> int64</label>"
            ]
          },
          "metadata": {},
          "execution_count": 60
        }
      ]
    },
    {
      "cell_type": "code",
      "source": [
        "df.info()"
      ],
      "metadata": {
        "execution": {
          "iopub.status.busy": "2024-10-31T18:50:24.841005Z",
          "iopub.execute_input": "2024-10-31T18:50:24.841440Z",
          "iopub.status.idle": "2024-10-31T18:50:24.856412Z",
          "shell.execute_reply.started": "2024-10-31T18:50:24.841403Z",
          "shell.execute_reply": "2024-10-31T18:50:24.854688Z"
        },
        "trusted": true,
        "colab": {
          "base_uri": "https://localhost:8080/"
        },
        "id": "_avnpSb-4_1q",
        "outputId": "74ba5aa3-7847-4cb7-9909-6e95d5d87411"
      },
      "execution_count": 61,
      "outputs": [
        {
          "output_type": "stream",
          "name": "stdout",
          "text": [
            "<class 'pandas.core.frame.DataFrame'>\n",
            "RangeIndex: 555 entries, 0 to 554\n",
            "Data columns (total 11 columns):\n",
            " #   Column              Non-Null Count  Dtype         \n",
            "---  ------              --------------  -----         \n",
            " 0   SeriealNumber       555 non-null    int64         \n",
            " 1   CompanyName         555 non-null    object        \n",
            " 2   Job_Role            555 non-null    object        \n",
            " 3   Type                555 non-null    object        \n",
            " 4   Location            555 non-null    object        \n",
            " 5   Skills              555 non-null    object        \n",
            " 6   AppliedThrough      555 non-null    object        \n",
            " 7   DateApplied         555 non-null    datetime64[ns]\n",
            " 8   Application Status  555 non-null    object        \n",
            " 9   Application Notes   555 non-null    object        \n",
            " 10  month               555 non-null    int32         \n",
            "dtypes: datetime64[ns](1), int32(1), int64(1), object(8)\n",
            "memory usage: 45.7+ KB\n"
          ]
        }
      ]
    },
    {
      "cell_type": "code",
      "source": [
        "df['Job_Role'] = df['Job_Role'].str.lower() # for ease of EDA\n",
        "df.sample()"
      ],
      "metadata": {
        "execution": {
          "iopub.status.busy": "2024-10-31T18:53:41.564329Z",
          "iopub.execute_input": "2024-10-31T18:53:41.564812Z",
          "iopub.status.idle": "2024-10-31T18:53:41.582362Z",
          "shell.execute_reply.started": "2024-10-31T18:53:41.564769Z",
          "shell.execute_reply": "2024-10-31T18:53:41.581296Z"
        },
        "trusted": true,
        "colab": {
          "base_uri": "https://localhost:8080/",
          "height": 132
        },
        "id": "W95NRI_L4_1q",
        "outputId": "6ebc4a6c-7047-4b18-f25d-6ef57a9acfc4"
      },
      "execution_count": 62,
      "outputs": [
        {
          "output_type": "execute_result",
          "data": {
            "text/plain": [
              "     SeriealNumber CompanyName               Job_Role       Type   Location  \\\n",
              "167            168   O1Labs.ai  data analyst (python)  Full-Time  Bengaluru   \n",
              "\n",
              "                                                Skills AppliedThrough  \\\n",
              "167  Data Science Â· Machine Learning Â· Microsoft ...       LinkedIn   \n",
              "\n",
              "    DateApplied Application Status     Application Notes  month  \n",
              "167  2024-02-11        No Response  No response received      2  "
            ],
            "text/html": [
              "\n",
              "  <div id=\"df-9d07035b-952c-41ce-aeaa-ee385f8bb6e4\" class=\"colab-df-container\">\n",
              "    <div>\n",
              "<style scoped>\n",
              "    .dataframe tbody tr th:only-of-type {\n",
              "        vertical-align: middle;\n",
              "    }\n",
              "\n",
              "    .dataframe tbody tr th {\n",
              "        vertical-align: top;\n",
              "    }\n",
              "\n",
              "    .dataframe thead th {\n",
              "        text-align: right;\n",
              "    }\n",
              "</style>\n",
              "<table border=\"1\" class=\"dataframe\">\n",
              "  <thead>\n",
              "    <tr style=\"text-align: right;\">\n",
              "      <th></th>\n",
              "      <th>SeriealNumber</th>\n",
              "      <th>CompanyName</th>\n",
              "      <th>Job_Role</th>\n",
              "      <th>Type</th>\n",
              "      <th>Location</th>\n",
              "      <th>Skills</th>\n",
              "      <th>AppliedThrough</th>\n",
              "      <th>DateApplied</th>\n",
              "      <th>Application Status</th>\n",
              "      <th>Application Notes</th>\n",
              "      <th>month</th>\n",
              "    </tr>\n",
              "  </thead>\n",
              "  <tbody>\n",
              "    <tr>\n",
              "      <th>167</th>\n",
              "      <td>168</td>\n",
              "      <td>O1Labs.ai</td>\n",
              "      <td>data analyst (python)</td>\n",
              "      <td>Full-Time</td>\n",
              "      <td>Bengaluru</td>\n",
              "      <td>Data Science Â· Machine Learning Â· Microsoft ...</td>\n",
              "      <td>LinkedIn</td>\n",
              "      <td>2024-02-11</td>\n",
              "      <td>No Response</td>\n",
              "      <td>No response received</td>\n",
              "      <td>2</td>\n",
              "    </tr>\n",
              "  </tbody>\n",
              "</table>\n",
              "</div>\n",
              "    <div class=\"colab-df-buttons\">\n",
              "\n",
              "  <div class=\"colab-df-container\">\n",
              "    <button class=\"colab-df-convert\" onclick=\"convertToInteractive('df-9d07035b-952c-41ce-aeaa-ee385f8bb6e4')\"\n",
              "            title=\"Convert this dataframe to an interactive table.\"\n",
              "            style=\"display:none;\">\n",
              "\n",
              "  <svg xmlns=\"http://www.w3.org/2000/svg\" height=\"24px\" viewBox=\"0 -960 960 960\">\n",
              "    <path d=\"M120-120v-720h720v720H120Zm60-500h600v-160H180v160Zm220 220h160v-160H400v160Zm0 220h160v-160H400v160ZM180-400h160v-160H180v160Zm440 0h160v-160H620v160ZM180-180h160v-160H180v160Zm440 0h160v-160H620v160Z\"/>\n",
              "  </svg>\n",
              "    </button>\n",
              "\n",
              "  <style>\n",
              "    .colab-df-container {\n",
              "      display:flex;\n",
              "      gap: 12px;\n",
              "    }\n",
              "\n",
              "    .colab-df-convert {\n",
              "      background-color: #E8F0FE;\n",
              "      border: none;\n",
              "      border-radius: 50%;\n",
              "      cursor: pointer;\n",
              "      display: none;\n",
              "      fill: #1967D2;\n",
              "      height: 32px;\n",
              "      padding: 0 0 0 0;\n",
              "      width: 32px;\n",
              "    }\n",
              "\n",
              "    .colab-df-convert:hover {\n",
              "      background-color: #E2EBFA;\n",
              "      box-shadow: 0px 1px 2px rgba(60, 64, 67, 0.3), 0px 1px 3px 1px rgba(60, 64, 67, 0.15);\n",
              "      fill: #174EA6;\n",
              "    }\n",
              "\n",
              "    .colab-df-buttons div {\n",
              "      margin-bottom: 4px;\n",
              "    }\n",
              "\n",
              "    [theme=dark] .colab-df-convert {\n",
              "      background-color: #3B4455;\n",
              "      fill: #D2E3FC;\n",
              "    }\n",
              "\n",
              "    [theme=dark] .colab-df-convert:hover {\n",
              "      background-color: #434B5C;\n",
              "      box-shadow: 0px 1px 3px 1px rgba(0, 0, 0, 0.15);\n",
              "      filter: drop-shadow(0px 1px 2px rgba(0, 0, 0, 0.3));\n",
              "      fill: #FFFFFF;\n",
              "    }\n",
              "  </style>\n",
              "\n",
              "    <script>\n",
              "      const buttonEl =\n",
              "        document.querySelector('#df-9d07035b-952c-41ce-aeaa-ee385f8bb6e4 button.colab-df-convert');\n",
              "      buttonEl.style.display =\n",
              "        google.colab.kernel.accessAllowed ? 'block' : 'none';\n",
              "\n",
              "      async function convertToInteractive(key) {\n",
              "        const element = document.querySelector('#df-9d07035b-952c-41ce-aeaa-ee385f8bb6e4');\n",
              "        const dataTable =\n",
              "          await google.colab.kernel.invokeFunction('convertToInteractive',\n",
              "                                                    [key], {});\n",
              "        if (!dataTable) return;\n",
              "\n",
              "        const docLinkHtml = 'Like what you see? Visit the ' +\n",
              "          '<a target=\"_blank\" href=https://colab.research.google.com/notebooks/data_table.ipynb>data table notebook</a>'\n",
              "          + ' to learn more about interactive tables.';\n",
              "        element.innerHTML = '';\n",
              "        dataTable['output_type'] = 'display_data';\n",
              "        await google.colab.output.renderOutput(dataTable, element);\n",
              "        const docLink = document.createElement('div');\n",
              "        docLink.innerHTML = docLinkHtml;\n",
              "        element.appendChild(docLink);\n",
              "      }\n",
              "    </script>\n",
              "  </div>\n",
              "\n",
              "\n",
              "    </div>\n",
              "  </div>\n"
            ],
            "application/vnd.google.colaboratory.intrinsic+json": {
              "type": "dataframe",
              "summary": "{\n  \"name\": \"df\",\n  \"rows\": 1,\n  \"fields\": [\n    {\n      \"column\": \"SeriealNumber\",\n      \"properties\": {\n        \"dtype\": \"number\",\n        \"std\": null,\n        \"min\": 168,\n        \"max\": 168,\n        \"num_unique_values\": 1,\n        \"samples\": [\n          168\n        ],\n        \"semantic_type\": \"\",\n        \"description\": \"\"\n      }\n    },\n    {\n      \"column\": \"CompanyName\",\n      \"properties\": {\n        \"dtype\": \"string\",\n        \"num_unique_values\": 1,\n        \"samples\": [\n          \"O1Labs.ai\"\n        ],\n        \"semantic_type\": \"\",\n        \"description\": \"\"\n      }\n    },\n    {\n      \"column\": \"Job_Role\",\n      \"properties\": {\n        \"dtype\": \"string\",\n        \"num_unique_values\": 1,\n        \"samples\": [\n          \"data analyst (python)\"\n        ],\n        \"semantic_type\": \"\",\n        \"description\": \"\"\n      }\n    },\n    {\n      \"column\": \"Type\",\n      \"properties\": {\n        \"dtype\": \"string\",\n        \"num_unique_values\": 1,\n        \"samples\": [\n          \"Full-Time\"\n        ],\n        \"semantic_type\": \"\",\n        \"description\": \"\"\n      }\n    },\n    {\n      \"column\": \"Location\",\n      \"properties\": {\n        \"dtype\": \"string\",\n        \"num_unique_values\": 1,\n        \"samples\": [\n          \"Bengaluru\"\n        ],\n        \"semantic_type\": \"\",\n        \"description\": \"\"\n      }\n    },\n    {\n      \"column\": \"Skills\",\n      \"properties\": {\n        \"dtype\": \"string\",\n        \"num_unique_values\": 1,\n        \"samples\": [\n          \"Data Science \\u00c2\\u00b7 Machine Learning \\u00c2\\u00b7 Microsoft Excel \\u00c2\\u00b7 Pandas (Software) \\u00c2\\u00b7 Predictive Modeling \\u00c2\\u00b7 Python (Programming Language) \\u00c2\\u00b7 SQL \\u00c2\\u00b7 Big Data \\u00c2\\u00b7 Large Language Models (LLM) \\u00c2\\u00b7 Learning\"\n        ],\n        \"semantic_type\": \"\",\n        \"description\": \"\"\n      }\n    },\n    {\n      \"column\": \"AppliedThrough\",\n      \"properties\": {\n        \"dtype\": \"string\",\n        \"num_unique_values\": 1,\n        \"samples\": [\n          \"LinkedIn\"\n        ],\n        \"semantic_type\": \"\",\n        \"description\": \"\"\n      }\n    },\n    {\n      \"column\": \"DateApplied\",\n      \"properties\": {\n        \"dtype\": \"date\",\n        \"min\": \"2024-02-11 00:00:00\",\n        \"max\": \"2024-02-11 00:00:00\",\n        \"num_unique_values\": 1,\n        \"samples\": [\n          \"2024-02-11 00:00:00\"\n        ],\n        \"semantic_type\": \"\",\n        \"description\": \"\"\n      }\n    },\n    {\n      \"column\": \"Application Status\",\n      \"properties\": {\n        \"dtype\": \"string\",\n        \"num_unique_values\": 1,\n        \"samples\": [\n          \"No Response\"\n        ],\n        \"semantic_type\": \"\",\n        \"description\": \"\"\n      }\n    },\n    {\n      \"column\": \"Application Notes\",\n      \"properties\": {\n        \"dtype\": \"string\",\n        \"num_unique_values\": 1,\n        \"samples\": [\n          \"No response received\"\n        ],\n        \"semantic_type\": \"\",\n        \"description\": \"\"\n      }\n    },\n    {\n      \"column\": \"month\",\n      \"properties\": {\n        \"dtype\": \"int32\",\n        \"num_unique_values\": 1,\n        \"samples\": [\n          2\n        ],\n        \"semantic_type\": \"\",\n        \"description\": \"\"\n      }\n    }\n  ]\n}"
            }
          },
          "metadata": {},
          "execution_count": 62
        }
      ]
    },
    {
      "cell_type": "markdown",
      "source": [
        "# Exploratory Data Analysis (EDA)"
      ],
      "metadata": {
        "id": "WleMu9ix4_1q"
      }
    },
    {
      "cell_type": "markdown",
      "source": [
        "<h2>Job Role</h2>"
      ],
      "metadata": {
        "id": "NeFXNg734_1q"
      }
    },
    {
      "cell_type": "code",
      "source": [
        "substrings_to_match = ['analysis', 'analyst','analytic','analytics','power bi', 'visualization','architect','mining','operations','operation','intern']\n",
        "for substring in substrings_to_match:\n",
        "    df.loc[df['Job_Role'].str.contains(substring),'Job_Role'] = 'Data Analyst'\n",
        "\n",
        "df.loc[df['Job_Role'].str.contains('artificial'),'Job_Role'] = 'Artificial Inteligence'\n",
        "df.loc[df['Job_Role'].str.contains('engineer'),'Job_Role'] = 'Data Engineer'\n",
        "\n",
        "substrings_to_match = ['scientist','science']\n",
        "for substring in substrings_to_match:\n",
        "  df.loc[df['Job_Role'].str.contains(substring),'Job_Role'] = 'Data Science'\n",
        "\n",
        "df['Job_Role'] = df['Job_Role'].replace([\"machine learning\"], 'Machine Learning')\n",
        "\n",
        "substrings_to_match = ['development','developer','train']\n",
        "for substring in substrings_to_match:\n",
        "  df.loc[df['Job_Role'].str.contains(substring),'Job_Role'] = 'Software Developer'"
      ],
      "metadata": {
        "execution": {
          "iopub.status.busy": "2024-10-31T18:54:18.340228Z",
          "iopub.execute_input": "2024-10-31T18:54:18.341201Z",
          "iopub.status.idle": "2024-10-31T18:54:18.373100Z",
          "shell.execute_reply.started": "2024-10-31T18:54:18.341150Z",
          "shell.execute_reply": "2024-10-31T18:54:18.371752Z"
        },
        "trusted": true,
        "id": "zAWaTPT04_1r"
      },
      "execution_count": 63,
      "outputs": []
    },
    {
      "cell_type": "code",
      "source": [
        "df['Job_Role'].unique()"
      ],
      "metadata": {
        "execution": {
          "iopub.status.busy": "2024-10-31T18:54:30.841623Z",
          "iopub.execute_input": "2024-10-31T18:54:30.842100Z",
          "iopub.status.idle": "2024-10-31T18:54:30.850180Z",
          "shell.execute_reply.started": "2024-10-31T18:54:30.842054Z",
          "shell.execute_reply": "2024-10-31T18:54:30.849147Z"
        },
        "trusted": true,
        "colab": {
          "base_uri": "https://localhost:8080/"
        },
        "id": "kGWie_bw4_1r",
        "outputId": "a5301a6c-a612-4be7-8aac-4e8d42e73ec8"
      },
      "execution_count": 64,
      "outputs": [
        {
          "output_type": "execute_result",
          "data": {
            "text/plain": [
              "array(['Data Analyst', 'Data Science', 'Software Developer',\n",
              "       'Machine Learning', 'big data associate', 'big data executive',\n",
              "       'Artificial Inteligence', 'Data Engineer', 'full-time'],\n",
              "      dtype=object)"
            ]
          },
          "metadata": {},
          "execution_count": 64
        }
      ]
    },
    {
      "cell_type": "code",
      "source": [
        "df['Job_Role'].value_counts()"
      ],
      "metadata": {
        "execution": {
          "iopub.status.busy": "2024-10-31T18:54:50.516107Z",
          "iopub.execute_input": "2024-10-31T18:54:50.516989Z",
          "iopub.status.idle": "2024-10-31T18:54:50.529337Z",
          "shell.execute_reply.started": "2024-10-31T18:54:50.516912Z",
          "shell.execute_reply": "2024-10-31T18:54:50.527879Z"
        },
        "trusted": true,
        "colab": {
          "base_uri": "https://localhost:8080/",
          "height": 397
        },
        "id": "qpxWZqv24_1r",
        "outputId": "85cf6890-425e-4a8e-debf-6239a42175af"
      },
      "execution_count": 65,
      "outputs": [
        {
          "output_type": "execute_result",
          "data": {
            "text/plain": [
              "Job_Role\n",
              "Data Analyst              465\n",
              "Data Science               38\n",
              "Software Developer         18\n",
              "Data Engineer              11\n",
              "Machine Learning            9\n",
              "Artificial Inteligence      7\n",
              "big data executive          4\n",
              "big data associate          2\n",
              "full-time                   1\n",
              "Name: count, dtype: int64"
            ],
            "text/html": [
              "<div>\n",
              "<style scoped>\n",
              "    .dataframe tbody tr th:only-of-type {\n",
              "        vertical-align: middle;\n",
              "    }\n",
              "\n",
              "    .dataframe tbody tr th {\n",
              "        vertical-align: top;\n",
              "    }\n",
              "\n",
              "    .dataframe thead th {\n",
              "        text-align: right;\n",
              "    }\n",
              "</style>\n",
              "<table border=\"1\" class=\"dataframe\">\n",
              "  <thead>\n",
              "    <tr style=\"text-align: right;\">\n",
              "      <th></th>\n",
              "      <th>count</th>\n",
              "    </tr>\n",
              "    <tr>\n",
              "      <th>Job_Role</th>\n",
              "      <th></th>\n",
              "    </tr>\n",
              "  </thead>\n",
              "  <tbody>\n",
              "    <tr>\n",
              "      <th>Data Analyst</th>\n",
              "      <td>465</td>\n",
              "    </tr>\n",
              "    <tr>\n",
              "      <th>Data Science</th>\n",
              "      <td>38</td>\n",
              "    </tr>\n",
              "    <tr>\n",
              "      <th>Software Developer</th>\n",
              "      <td>18</td>\n",
              "    </tr>\n",
              "    <tr>\n",
              "      <th>Data Engineer</th>\n",
              "      <td>11</td>\n",
              "    </tr>\n",
              "    <tr>\n",
              "      <th>Machine Learning</th>\n",
              "      <td>9</td>\n",
              "    </tr>\n",
              "    <tr>\n",
              "      <th>Artificial Inteligence</th>\n",
              "      <td>7</td>\n",
              "    </tr>\n",
              "    <tr>\n",
              "      <th>big data executive</th>\n",
              "      <td>4</td>\n",
              "    </tr>\n",
              "    <tr>\n",
              "      <th>big data associate</th>\n",
              "      <td>2</td>\n",
              "    </tr>\n",
              "    <tr>\n",
              "      <th>full-time</th>\n",
              "      <td>1</td>\n",
              "    </tr>\n",
              "  </tbody>\n",
              "</table>\n",
              "</div><br><label><b>dtype:</b> int64</label>"
            ]
          },
          "metadata": {},
          "execution_count": 65
        }
      ]
    },
    {
      "cell_type": "code",
      "source": [
        "df = df[df['Job_Role'] != 'full-time']\n",
        "ax = df.groupby('Job_Role').size().sort_values(ascending=True).plot(kind='barh', color=sns.color_palette('dark'))\n",
        "plt.gca().spines[['top', 'right',]].set_visible(False)\n",
        "plt.gca().set_xlabel('')\n",
        "plt.gca().set_ylabel('')\n",
        "for p in ax.patches:\n",
        "    ax.annotate(f'{p.get_width()}', (p.get_width(), p.get_y() + p.get_height() / 2),\n",
        "                ha='left',va='center', color='black',fontsize=10)\n",
        "plt.show()"
      ],
      "metadata": {
        "execution": {
          "iopub.status.busy": "2024-10-31T19:09:50.461014Z",
          "iopub.execute_input": "2024-10-31T19:09:50.461877Z",
          "iopub.status.idle": "2024-10-31T19:09:50.698434Z",
          "shell.execute_reply.started": "2024-10-31T19:09:50.461830Z",
          "shell.execute_reply": "2024-10-31T19:09:50.697289Z"
        },
        "trusted": true,
        "colab": {
          "base_uri": "https://localhost:8080/",
          "height": 430
        },
        "id": "wWdNjq2d4_1r",
        "outputId": "e3d4c669-4411-4023-ae04-606d08f7963f"
      },
      "execution_count": 98,
      "outputs": [
        {
          "output_type": "display_data",
          "data": {
            "text/plain": [
              "<Figure size 640x480 with 1 Axes>"
            ],
            "image/png": "[encoded data removed]"
          },
          "metadata": {}
        }
      ]
    },
    {
      "cell_type": "markdown",
      "source": [
        "<h2>Job Type</h2>"
      ],
      "metadata": {
        "id": "HD73CJgP4_1r"
      }
    },
    {
      "cell_type": "code",
      "source": [
        "df['Type'] = df['Type'].str.lower()\n",
        "substrings_to_match = ['internship','intern','part-time']\n",
        "for substring in substrings_to_match:\n",
        "  df.loc[df['Type'].str.contains(substring),'Type'] = 'Internship'\n",
        "\n",
        "df.loc[df['Type'].str.contains('full-time'),'Type'] = 'Full-Time'\n",
        "df.loc[df['Type'].str.contains('contract'),'Type'] = 'Contract'"
      ],
      "metadata": {
        "execution": {
          "iopub.status.busy": "2024-10-31T18:59:22.668491Z",
          "iopub.execute_input": "2024-10-31T18:59:22.668995Z",
          "iopub.status.idle": "2024-10-31T18:59:22.687044Z",
          "shell.execute_reply.started": "2024-10-31T18:59:22.668949Z",
          "shell.execute_reply": "2024-10-31T18:59:22.684276Z"
        },
        "trusted": true,
        "id": "BuZKhN8W4_1r"
      },
      "execution_count": 67,
      "outputs": []
    },
    {
      "cell_type": "code",
      "source": [
        "df['Type'].unique()"
      ],
      "metadata": {
        "execution": {
          "iopub.status.busy": "2024-10-31T19:00:11.284111Z",
          "iopub.execute_input": "2024-10-31T19:00:11.284548Z",
          "iopub.status.idle": "2024-10-31T19:00:11.292994Z",
          "shell.execute_reply.started": "2024-10-31T19:00:11.284505Z",
          "shell.execute_reply": "2024-10-31T19:00:11.291717Z"
        },
        "trusted": true,
        "colab": {
          "base_uri": "https://localhost:8080/"
        },
        "id": "tliX19BJ4_1r",
        "outputId": "697cf81f-7569-49d2-d5a2-9637e72debb5"
      },
      "execution_count": 68,
      "outputs": [
        {
          "output_type": "execute_result",
          "data": {
            "text/plain": [
              "array(['Full-Time', 'Internship', 'Contract'], dtype=object)"
            ]
          },
          "metadata": {},
          "execution_count": 68
        }
      ]
    },
    {
      "cell_type": "code",
      "source": [
        "df['Type'].value_counts()"
      ],
      "metadata": {
        "execution": {
          "iopub.status.busy": "2024-10-31T19:01:11.629157Z",
          "iopub.execute_input": "2024-10-31T19:01:11.629677Z",
          "iopub.status.idle": "2024-10-31T19:01:11.640578Z",
          "shell.execute_reply.started": "2024-10-31T19:01:11.629624Z",
          "shell.execute_reply": "2024-10-31T19:01:11.639461Z"
        },
        "trusted": true,
        "colab": {
          "base_uri": "https://localhost:8080/",
          "height": 209
        },
        "id": "0UhSdq214_1r",
        "outputId": "e3e5f1f7-99b9-4fb2-eb4d-5ffd7db5b31f"
      },
      "execution_count": 69,
      "outputs": [
        {
          "output_type": "execute_result",
          "data": {
            "text/plain": [
              "Type\n",
              "Full-Time     423\n",
              "Internship    109\n",
              "Contract       22\n",
              "Name: count, dtype: int64"
            ],
            "text/html": [
              "<div>\n",
              "<style scoped>\n",
              "    .dataframe tbody tr th:only-of-type {\n",
              "        vertical-align: middle;\n",
              "    }\n",
              "\n",
              "    .dataframe tbody tr th {\n",
              "        vertical-align: top;\n",
              "    }\n",
              "\n",
              "    .dataframe thead th {\n",
              "        text-align: right;\n",
              "    }\n",
              "</style>\n",
              "<table border=\"1\" class=\"dataframe\">\n",
              "  <thead>\n",
              "    <tr style=\"text-align: right;\">\n",
              "      <th></th>\n",
              "      <th>count</th>\n",
              "    </tr>\n",
              "    <tr>\n",
              "      <th>Type</th>\n",
              "      <th></th>\n",
              "    </tr>\n",
              "  </thead>\n",
              "  <tbody>\n",
              "    <tr>\n",
              "      <th>Full-Time</th>\n",
              "      <td>423</td>\n",
              "    </tr>\n",
              "    <tr>\n",
              "      <th>Internship</th>\n",
              "      <td>109</td>\n",
              "    </tr>\n",
              "    <tr>\n",
              "      <th>Contract</th>\n",
              "      <td>22</td>\n",
              "    </tr>\n",
              "  </tbody>\n",
              "</table>\n",
              "</div><br><label><b>dtype:</b> int64</label>"
            ]
          },
          "metadata": {},
          "execution_count": 69
        }
      ]
    },
    {
      "cell_type": "code",
      "source": [
        "ax1 = df.groupby('Type').size().sort_values(ascending=True).plot(kind='barh',color=sns.color_palette('dark'))\n",
        "plt.gca().spines[['top', 'right',]].set_visible(False)\n",
        "plt.gca().set_xlabel('')\n",
        "plt.gca().set_ylabel('')\n",
        "for p in ax1.patches:\n",
        "    ax1.annotate(f'{p.get_width()}', (p.get_width(), p.get_y() + p.get_height() / 2),\n",
        "                ha='left',va='center', color='black',fontsize=10)\n",
        "plt.show()"
      ],
      "metadata": {
        "execution": {
          "iopub.status.busy": "2024-10-31T19:10:02.217879Z",
          "iopub.execute_input": "2024-10-31T19:10:02.219214Z",
          "iopub.status.idle": "2024-10-31T19:10:02.422353Z",
          "shell.execute_reply.started": "2024-10-31T19:10:02.219158Z",
          "shell.execute_reply": "2024-10-31T19:10:02.420851Z"
        },
        "trusted": true,
        "colab": {
          "base_uri": "https://localhost:8080/",
          "height": 430
        },
        "id": "gEONT0--4_1r",
        "outputId": "9d982b6b-c445-418d-c7e3-11e4e3f9bc41"
      },
      "execution_count": 70,
      "outputs": [
        {
          "output_type": "display_data",
          "data": {
            "text/plain": [
              "<Figure size 640x480 with 1 Axes>"
            ],
            "image/png": "[encoded data removed]"
          },
          "metadata": {}
        }
      ]
    },
    {
      "cell_type": "markdown",
      "source": [
        "<h2> Applied Through</h2>"
      ],
      "metadata": {
        "id": "ZRh2_QPr4_1r"
      }
    },
    {
      "cell_type": "code",
      "source": [
        "df['AppliedThrough']=df['AppliedThrough'].str.lower()\n",
        "df.loc[df['AppliedThrough'].str.contains('linkedin'),'AppliedThrough'] = 'LinkedIn'\n",
        "df.loc[df['AppliedThrough'].str.contains('website'),'AppliedThrough'] = 'Official Website'\n",
        "df.loc[df['AppliedThrough'].str.contains('naukri'),'AppliedThrough'] = 'Naukri.Com'\n",
        "\n",
        "df['AppliedThrough'] = df['AppliedThrough'].replace([\"apna.com\"], 'Apna.Com')\n",
        "df['AppliedThrough'] = df['AppliedThrough'].replace([\"indeed\"], 'Indeed')\n",
        "df['AppliedThrough'] = df['AppliedThrough'].replace([\"internshala\"], 'Internshala')"
      ],
      "metadata": {
        "execution": {
          "iopub.status.busy": "2024-10-31T19:02:59.157352Z",
          "iopub.execute_input": "2024-10-31T19:02:59.157839Z",
          "iopub.status.idle": "2024-10-31T19:02:59.176255Z",
          "shell.execute_reply.started": "2024-10-31T19:02:59.157782Z",
          "shell.execute_reply": "2024-10-31T19:02:59.174775Z"
        },
        "trusted": true,
        "id": "pbtfP4Do4_1r"
      },
      "execution_count": 71,
      "outputs": []
    },
    {
      "cell_type": "code",
      "source": [
        "df['AppliedThrough'].unique()"
      ],
      "metadata": {
        "execution": {
          "iopub.status.busy": "2024-10-31T19:03:47.292867Z",
          "iopub.execute_input": "2024-10-31T19:03:47.293295Z",
          "iopub.status.idle": "2024-10-31T19:03:47.301245Z",
          "shell.execute_reply.started": "2024-10-31T19:03:47.293256Z",
          "shell.execute_reply": "2024-10-31T19:03:47.300141Z"
        },
        "trusted": true,
        "colab": {
          "base_uri": "https://localhost:8080/"
        },
        "id": "A1WANRbM4_1r",
        "outputId": "c3d1ec42-dbf8-4fe6-e96f-10255ae07bad"
      },
      "execution_count": 72,
      "outputs": [
        {
          "output_type": "execute_result",
          "data": {
            "text/plain": [
              "array(['Official Website', 'Indeed', 'Internshala', 'LinkedIn',\n",
              "       'Naukri.Com', 'Apna.Com', 'hirist.tech'], dtype=object)"
            ]
          },
          "metadata": {},
          "execution_count": 72
        }
      ]
    },
    {
      "cell_type": "code",
      "source": [
        "df['AppliedThrough'].value_counts()"
      ],
      "metadata": {
        "execution": {
          "iopub.status.busy": "2024-10-31T19:04:07.158768Z",
          "iopub.execute_input": "2024-10-31T19:04:07.159931Z",
          "iopub.status.idle": "2024-10-31T19:04:07.170153Z",
          "shell.execute_reply.started": "2024-10-31T19:04:07.159868Z",
          "shell.execute_reply": "2024-10-31T19:04:07.168726Z"
        },
        "trusted": true,
        "colab": {
          "base_uri": "https://localhost:8080/",
          "height": 335
        },
        "id": "bykfYweF4_1r",
        "outputId": "f219a13f-f3b2-4255-ee31-dff73f570a74"
      },
      "execution_count": 73,
      "outputs": [
        {
          "output_type": "execute_result",
          "data": {
            "text/plain": [
              "AppliedThrough\n",
              "LinkedIn            199\n",
              "Official Website     96\n",
              "Internshala          96\n",
              "Naukri.Com           86\n",
              "Indeed               73\n",
              "Apna.Com              3\n",
              "hirist.tech           1\n",
              "Name: count, dtype: int64"
            ],
            "text/html": [
              "<div>\n",
              "<style scoped>\n",
              "    .dataframe tbody tr th:only-of-type {\n",
              "        vertical-align: middle;\n",
              "    }\n",
              "\n",
              "    .dataframe tbody tr th {\n",
              "        vertical-align: top;\n",
              "    }\n",
              "\n",
              "    .dataframe thead th {\n",
              "        text-align: right;\n",
              "    }\n",
              "</style>\n",
              "<table border=\"1\" class=\"dataframe\">\n",
              "  <thead>\n",
              "    <tr style=\"text-align: right;\">\n",
              "      <th></th>\n",
              "      <th>count</th>\n",
              "    </tr>\n",
              "    <tr>\n",
              "      <th>AppliedThrough</th>\n",
              "      <th></th>\n",
              "    </tr>\n",
              "  </thead>\n",
              "  <tbody>\n",
              "    <tr>\n",
              "      <th>LinkedIn</th>\n",
              "      <td>199</td>\n",
              "    </tr>\n",
              "    <tr>\n",
              "      <th>Official Website</th>\n",
              "      <td>96</td>\n",
              "    </tr>\n",
              "    <tr>\n",
              "      <th>Internshala</th>\n",
              "      <td>96</td>\n",
              "    </tr>\n",
              "    <tr>\n",
              "      <th>Naukri.Com</th>\n",
              "      <td>86</td>\n",
              "    </tr>\n",
              "    <tr>\n",
              "      <th>Indeed</th>\n",
              "      <td>73</td>\n",
              "    </tr>\n",
              "    <tr>\n",
              "      <th>Apna.Com</th>\n",
              "      <td>3</td>\n",
              "    </tr>\n",
              "    <tr>\n",
              "      <th>hirist.tech</th>\n",
              "      <td>1</td>\n",
              "    </tr>\n",
              "  </tbody>\n",
              "</table>\n",
              "</div><br><label><b>dtype:</b> int64</label>"
            ]
          },
          "metadata": {},
          "execution_count": 73
        }
      ]
    },
    {
      "cell_type": "code",
      "source": [
        "ax2 = df.groupby('AppliedThrough').size().sort_values(ascending=True).plot(kind='barh', color=sns.color_palette('dark'))\n",
        "plt.gca().spines[['top', 'right',]].set_visible(False)\n",
        "plt.gca().set_xlabel('')\n",
        "plt.gca().set_ylabel('')\n",
        "for p in ax2.patches:\n",
        "    ax2.annotate(f'{p.get_width()}', (p.get_width(), p.get_y() + p.get_height() / 2),\n",
        "                ha='left',va='center', color='black',fontsize=10)\n",
        "plt.show()"
      ],
      "metadata": {
        "execution": {
          "iopub.status.busy": "2024-10-31T19:10:08.672836Z",
          "iopub.execute_input": "2024-10-31T19:10:08.673305Z",
          "iopub.status.idle": "2024-10-31T19:10:08.970138Z",
          "shell.execute_reply.started": "2024-10-31T19:10:08.673261Z",
          "shell.execute_reply": "2024-10-31T19:10:08.968938Z"
        },
        "trusted": true,
        "colab": {
          "base_uri": "https://localhost:8080/",
          "height": 430
        },
        "id": "gJrvrfpA4_1r",
        "outputId": "ebe377e9-88cd-43a7-ec4d-272dbd25aeda"
      },
      "execution_count": 74,
      "outputs": [
        {
          "output_type": "display_data",
          "data": {
            "text/plain": [
              "<Figure size 640x480 with 1 Axes>"
            ],
            "image/png": "[encoded data removed]"
          },
          "metadata": {}
        }
      ]
    },
    {
      "cell_type": "markdown",
      "source": [
        "<h2>Location</h2>"
      ],
      "metadata": {
        "id": "JDuLu4md4_1r"
      }
    },
    {
      "cell_type": "code",
      "source": [
        "df['Location'] = df['Location'].str.lower()\n",
        "\n",
        "substrings_to_match = ['wfh','remote','not disclosed','work from home']\n",
        "for substring in substrings_to_match:\n",
        "  df.loc[df['Location'].str.contains(substring),'Location'] = 'Remote'\n",
        "\n",
        "\n",
        "df.loc[df['Location'].str.contains('hyderabad'),'Location'] = 'Hyderabad'\n",
        "\n",
        "substrings_to_match = ['bangalore','bengaluru','banglore']\n",
        "for substring in substrings_to_match:\n",
        "  df.loc[df['Location'].str.contains(substring),'Location'] = 'Bengaluru'\n",
        "\n",
        "substrings_to_match = ['pune','maharathra']\n",
        "for substring in substrings_to_match:\n",
        "  df.loc[df['Location'].str.contains(substring),'Location'] = 'Pune'\n",
        "\n",
        "substrings_to_match = ['noida','nd']\n",
        "for substring in substrings_to_match:\n",
        "  df.loc[df['Location'].str.contains(substring),'Location'] = 'Noida'\n",
        "\n",
        "df.loc[df['Location'].str.contains('mumbai'),'Location'] = 'Mumbai'\n",
        "df.loc[df['Location'].str.contains('delhi'),'Location'] = 'Delhi/NCR'\n",
        "df['Location'] = df['Location'].str.upper()\n"
      ],
      "metadata": {
        "execution": {
          "iopub.status.busy": "2024-10-31T19:05:33.964360Z",
          "iopub.execute_input": "2024-10-31T19:05:33.964806Z",
          "iopub.status.idle": "2024-10-31T19:05:33.995254Z",
          "shell.execute_reply.started": "2024-10-31T19:05:33.964764Z",
          "shell.execute_reply": "2024-10-31T19:05:33.993834Z"
        },
        "trusted": true,
        "id": "9g_I4diR4_1r"
      },
      "execution_count": 103,
      "outputs": []
    },
    {
      "cell_type": "code",
      "source": [
        "df['Location'].unique()"
      ],
      "metadata": {
        "execution": {
          "iopub.status.busy": "2024-10-31T19:06:02.472211Z",
          "iopub.execute_input": "2024-10-31T19:06:02.472673Z",
          "iopub.status.idle": "2024-10-31T19:06:02.481399Z",
          "shell.execute_reply.started": "2024-10-31T19:06:02.472627Z",
          "shell.execute_reply": "2024-10-31T19:06:02.480002Z"
        },
        "trusted": true,
        "colab": {
          "base_uri": "https://localhost:8080/"
        },
        "id": "NaxR7i-h4_1s",
        "outputId": "2f03ef56-e824-480f-9819-8f7dc483c80f"
      },
      "execution_count": 104,
      "outputs": [
        {
          "output_type": "execute_result",
          "data": {
            "text/plain": [
              "array(['DELHI/NCR', 'BENGALURU', 'REMOTE', 'CHENNAI', 'MUMBAI', 'NOIDA',\n",
              "       'WFM', 'HYDERABAD', 'GURUGRAM', 'PUNE', 'KOCHI'], dtype=object)"
            ]
          },
          "metadata": {},
          "execution_count": 104
        }
      ]
    },
    {
      "cell_type": "code",
      "source": [
        "df['Location'].value_counts()"
      ],
      "metadata": {
        "execution": {
          "iopub.status.busy": "2024-10-31T19:06:31.436500Z",
          "iopub.execute_input": "2024-10-31T19:06:31.437019Z",
          "iopub.status.idle": "2024-10-31T19:06:31.448165Z",
          "shell.execute_reply.started": "2024-10-31T19:06:31.436968Z",
          "shell.execute_reply": "2024-10-31T19:06:31.446880Z"
        },
        "trusted": true,
        "colab": {
          "base_uri": "https://localhost:8080/",
          "height": 460
        },
        "id": "E5PISpK-4_1s",
        "outputId": "a28f4ae4-20ae-425d-d7ce-24764fa2d26d"
      },
      "execution_count": 108,
      "outputs": [
        {
          "output_type": "execute_result",
          "data": {
            "text/plain": [
              "Location\n",
              "REMOTE       148\n",
              "BENGALURU    106\n",
              "CHENNAI       84\n",
              "HYDERABAD     65\n",
              "DELHI/NCR     59\n",
              "MUMBAI        55\n",
              "GURUGRAM      14\n",
              "NOIDA         11\n",
              "PUNE          10\n",
              "WFM            1\n",
              "KOCHI          1\n",
              "Name: count, dtype: int64"
            ],
            "text/html": [
              "<div>\n",
              "<style scoped>\n",
              "    .dataframe tbody tr th:only-of-type {\n",
              "        vertical-align: middle;\n",
              "    }\n",
              "\n",
              "    .dataframe tbody tr th {\n",
              "        vertical-align: top;\n",
              "    }\n",
              "\n",
              "    .dataframe thead th {\n",
              "        text-align: right;\n",
              "    }\n",
              "</style>\n",
              "<table border=\"1\" class=\"dataframe\">\n",
              "  <thead>\n",
              "    <tr style=\"text-align: right;\">\n",
              "      <th></th>\n",
              "      <th>count</th>\n",
              "    </tr>\n",
              "    <tr>\n",
              "      <th>Location</th>\n",
              "      <th></th>\n",
              "    </tr>\n",
              "  </thead>\n",
              "  <tbody>\n",
              "    <tr>\n",
              "      <th>REMOTE</th>\n",
              "      <td>148</td>\n",
              "    </tr>\n",
              "    <tr>\n",
              "      <th>BENGALURU</th>\n",
              "      <td>106</td>\n",
              "    </tr>\n",
              "    <tr>\n",
              "      <th>CHENNAI</th>\n",
              "      <td>84</td>\n",
              "    </tr>\n",
              "    <tr>\n",
              "      <th>HYDERABAD</th>\n",
              "      <td>65</td>\n",
              "    </tr>\n",
              "    <tr>\n",
              "      <th>DELHI/NCR</th>\n",
              "      <td>59</td>\n",
              "    </tr>\n",
              "    <tr>\n",
              "      <th>MUMBAI</th>\n",
              "      <td>55</td>\n",
              "    </tr>\n",
              "    <tr>\n",
              "      <th>GURUGRAM</th>\n",
              "      <td>14</td>\n",
              "    </tr>\n",
              "    <tr>\n",
              "      <th>NOIDA</th>\n",
              "      <td>11</td>\n",
              "    </tr>\n",
              "    <tr>\n",
              "      <th>PUNE</th>\n",
              "      <td>10</td>\n",
              "    </tr>\n",
              "    <tr>\n",
              "      <th>WFM</th>\n",
              "      <td>1</td>\n",
              "    </tr>\n",
              "    <tr>\n",
              "      <th>KOCHI</th>\n",
              "      <td>1</td>\n",
              "    </tr>\n",
              "  </tbody>\n",
              "</table>\n",
              "</div><br><label><b>dtype:</b> int64</label>"
            ]
          },
          "metadata": {},
          "execution_count": 108
        }
      ]
    },
    {
      "cell_type": "code",
      "source": [
        "ax3 = df.groupby('Location').size().sort_values(ascending=True).plot(kind='barh',color=sns.color_palette('dark'))\n",
        "plt.gca().spines[['top', 'right',]].set_visible(False)\n",
        "plt.gca().set_xlabel('')\n",
        "plt.gca().set_ylabel('')\n",
        "for p in ax3.patches:\n",
        "    ax3.annotate(f'{p.get_width()}', (p.get_width(), p.get_y() + p.get_height() / 2),\n",
        "                ha='left',va='center', color='black',fontsize=10)\n",
        "plt.show()"
      ],
      "metadata": {
        "execution": {
          "iopub.status.busy": "2024-10-31T19:10:15.425618Z",
          "iopub.execute_input": "2024-10-31T19:10:15.426099Z",
          "iopub.status.idle": "2024-10-31T19:10:15.723044Z",
          "shell.execute_reply.started": "2024-10-31T19:10:15.426053Z",
          "shell.execute_reply": "2024-10-31T19:10:15.721714Z"
        },
        "trusted": true,
        "colab": {
          "base_uri": "https://localhost:8080/",
          "height": 430
        },
        "id": "bU38iSTG4_1s",
        "outputId": "f3df89e3-4c25-43c4-9bca-cb4de522c742"
      },
      "execution_count": 109,
      "outputs": [
        {
          "output_type": "display_data",
          "data": {
            "text/plain": [
              "<Figure size 640x480 with 1 Axes>"
            ],
            "image/png": "[encoded data removed]"
          },
          "metadata": {}
        }
      ]
    },
    {
      "cell_type": "markdown",
      "source": [
        "<h2>Month Applied</h2>"
      ],
      "metadata": {
        "id": "Xwq4wcOG4_1s"
      }
    },
    {
      "cell_type": "markdown",
      "source": [
        "<p>Note: Run the code only once, as the value will be replaced by the month name, causing an error if run again. To avoid this, execute the code either once or rerun the entire code from scratch.</p>"
      ],
      "metadata": {
        "id": "YJmSJLrD4_1s"
      }
    },
    {
      "cell_type": "code",
      "source": [
        "import calendar\n",
        "df['month'] = df['month'].astype('int32')\n",
        "df['month'] = df['month'].map(lambda i: calendar.month_name[i]) # Replacing with month name"
      ],
      "metadata": {
        "id": "bMhj34HH4_1s"
      },
      "execution_count": 79,
      "outputs": []
    },
    {
      "cell_type": "code",
      "source": [
        "ax4 = df.groupby('month').size().sort_values(ascending=True).plot(kind='barh',color=sns.color_palette('dark'))\n",
        "plt.gca().spines[['top', 'right',]].set_visible(False)\n",
        "plt.gca().set_xlabel('')\n",
        "plt.gca().set_ylabel('')\n",
        "for p in ax3.patches:\n",
        "    ax3.annotate(f'{p.get_width()}', (p.get_width(), p.get_y() + p.get_height() / 2),\n",
        "                ha='left',va='center', color='black',fontsize=10)\n",
        "plt.show()"
      ],
      "metadata": {
        "colab": {
          "base_uri": "https://localhost:8080/",
          "height": 430
        },
        "id": "Enbiz10B4_1s",
        "outputId": "5498168e-2f73-4532-bbb2-c5642e5b63f3"
      },
      "execution_count": 80,
      "outputs": [
        {
          "output_type": "display_data",
          "data": {
            "text/plain": [
              "<Figure size 640x480 with 1 Axes>"
            ],
            "image/png": "[encoded data removed]"
          },
          "metadata": {}
        }
      ]
    },
    {
      "cell_type": "markdown",
      "source": [
        "<h2>Job Role - Type</h2>"
      ],
      "metadata": {
        "id": "vJEsn2rc4_1s"
      }
    },
    {
      "cell_type": "code",
      "source": [
        "df['Job_Role'].unique()"
      ],
      "metadata": {
        "execution": {
          "iopub.status.busy": "2024-10-31T19:13:55.813687Z",
          "iopub.execute_input": "2024-10-31T19:13:55.814140Z",
          "iopub.status.idle": "2024-10-31T19:13:55.822860Z",
          "shell.execute_reply.started": "2024-10-31T19:13:55.814097Z",
          "shell.execute_reply": "2024-10-31T19:13:55.821617Z"
        },
        "trusted": true,
        "colab": {
          "base_uri": "https://localhost:8080/"
        },
        "id": "1OmhuOcs4_1s",
        "outputId": "d1da7f5f-db87-4b59-a86c-7e5c271e21a7"
      },
      "execution_count": 81,
      "outputs": [
        {
          "output_type": "execute_result",
          "data": {
            "text/plain": [
              "array(['Data Analyst', 'Data Science', 'Software Developer',\n",
              "       'Machine Learning', 'big data associate', 'big data executive',\n",
              "       'Artificial Inteligence', 'Data Engineer'], dtype=object)"
            ]
          },
          "metadata": {},
          "execution_count": 81
        }
      ]
    },
    {
      "cell_type": "code",
      "source": [
        "df['Job_Role'].value_counts()"
      ],
      "metadata": {
        "execution": {
          "iopub.status.busy": "2024-10-31T19:14:26.616865Z",
          "iopub.execute_input": "2024-10-31T19:14:26.617337Z",
          "iopub.status.idle": "2024-10-31T19:14:26.628264Z",
          "shell.execute_reply.started": "2024-10-31T19:14:26.617294Z",
          "shell.execute_reply": "2024-10-31T19:14:26.627035Z"
        },
        "trusted": true,
        "colab": {
          "base_uri": "https://localhost:8080/",
          "height": 366
        },
        "id": "6C42VQub4_1s",
        "outputId": "20735a4d-4539-4790-e4d7-41a787ee01d5"
      },
      "execution_count": 82,
      "outputs": [
        {
          "output_type": "execute_result",
          "data": {
            "text/plain": [
              "Job_Role\n",
              "Data Analyst              465\n",
              "Data Science               38\n",
              "Software Developer         18\n",
              "Data Engineer              11\n",
              "Machine Learning            9\n",
              "Artificial Inteligence      7\n",
              "big data executive          4\n",
              "big data associate          2\n",
              "Name: count, dtype: int64"
            ],
            "text/html": [
              "<div>\n",
              "<style scoped>\n",
              "    .dataframe tbody tr th:only-of-type {\n",
              "        vertical-align: middle;\n",
              "    }\n",
              "\n",
              "    .dataframe tbody tr th {\n",
              "        vertical-align: top;\n",
              "    }\n",
              "\n",
              "    .dataframe thead th {\n",
              "        text-align: right;\n",
              "    }\n",
              "</style>\n",
              "<table border=\"1\" class=\"dataframe\">\n",
              "  <thead>\n",
              "    <tr style=\"text-align: right;\">\n",
              "      <th></th>\n",
              "      <th>count</th>\n",
              "    </tr>\n",
              "    <tr>\n",
              "      <th>Job_Role</th>\n",
              "      <th></th>\n",
              "    </tr>\n",
              "  </thead>\n",
              "  <tbody>\n",
              "    <tr>\n",
              "      <th>Data Analyst</th>\n",
              "      <td>465</td>\n",
              "    </tr>\n",
              "    <tr>\n",
              "      <th>Data Science</th>\n",
              "      <td>38</td>\n",
              "    </tr>\n",
              "    <tr>\n",
              "      <th>Software Developer</th>\n",
              "      <td>18</td>\n",
              "    </tr>\n",
              "    <tr>\n",
              "      <th>Data Engineer</th>\n",
              "      <td>11</td>\n",
              "    </tr>\n",
              "    <tr>\n",
              "      <th>Machine Learning</th>\n",
              "      <td>9</td>\n",
              "    </tr>\n",
              "    <tr>\n",
              "      <th>Artificial Inteligence</th>\n",
              "      <td>7</td>\n",
              "    </tr>\n",
              "    <tr>\n",
              "      <th>big data executive</th>\n",
              "      <td>4</td>\n",
              "    </tr>\n",
              "    <tr>\n",
              "      <th>big data associate</th>\n",
              "      <td>2</td>\n",
              "    </tr>\n",
              "  </tbody>\n",
              "</table>\n",
              "</div><br><label><b>dtype:</b> int64</label>"
            ]
          },
          "metadata": {},
          "execution_count": 82
        }
      ]
    },
    {
      "cell_type": "code",
      "source": [
        "top_jobs = df['Job_Role'].value_counts().nlargest(5).index\n",
        "filtered_df = df[df['Job_Role'].isin(top_jobs)]"
      ],
      "metadata": {
        "execution": {
          "iopub.status.busy": "2024-10-31T19:18:01.328697Z",
          "iopub.execute_input": "2024-10-31T19:18:01.329154Z",
          "iopub.status.idle": "2024-10-31T19:18:01.341392Z",
          "shell.execute_reply.started": "2024-10-31T19:18:01.329109Z",
          "shell.execute_reply": "2024-10-31T19:18:01.340169Z"
        },
        "trusted": true,
        "id": "M-AT4UtG4_1s"
      },
      "execution_count": 83,
      "outputs": []
    },
    {
      "cell_type": "code",
      "source": [
        "ax4 = sns.histplot(data=filtered_df, y='Job_Role', hue='Type', multiple='dodge', shrink=0.9, palette='bright')\n",
        "plt.yticks(rotation=45, ha='right')\n",
        "plt.gca().set_xlabel('')\n",
        "plt.gca().set_ylabel('')\n",
        "for p in ax4.patches:\n",
        "    ax4.annotate(f'{p.get_width()}',\n",
        "                 (p.get_width(), p.get_y() + p.get_height() / 2),\n",
        "                 ha='left', va='center', color='black', fontsize=10)\n",
        "plt.show()"
      ],
      "metadata": {
        "execution": {
          "iopub.status.busy": "2024-10-31T19:18:03.494999Z",
          "iopub.execute_input": "2024-10-31T19:18:03.495547Z",
          "iopub.status.idle": "2024-10-31T19:18:03.958489Z",
          "shell.execute_reply.started": "2024-10-31T19:18:03.495489Z",
          "shell.execute_reply": "2024-10-31T19:18:03.957097Z"
        },
        "trusted": true,
        "colab": {
          "base_uri": "https://localhost:8080/",
          "height": 433
        },
        "id": "mSKzNr944_1s",
        "outputId": "6a182fcf-da36-4668-c593-d4c216be92e2"
      },
      "execution_count": 84,
      "outputs": [
        {
          "output_type": "display_data",
          "data": {
            "text/plain": [
              "<Figure size 640x480 with 1 Axes>"
            ],
            "image/png": "[encoded data removed]"
          },
          "metadata": {}
        }
      ]
    },
    {
      "cell_type": "markdown",
      "source": [
        "<h2>Job Role - Applied Through</h2>"
      ],
      "metadata": {
        "id": "_LpWDtox4_1s"
      }
    },
    {
      "cell_type": "code",
      "source": [
        "top_app = df['Job_Role'].value_counts().nlargest(3).index\n",
        "filtered_df1 = df[df['Job_Role'].isin(top_app)]"
      ],
      "metadata": {
        "execution": {
          "iopub.status.busy": "2024-10-31T19:25:25.801887Z",
          "iopub.execute_input": "2024-10-31T19:25:25.803008Z",
          "iopub.status.idle": "2024-10-31T19:25:25.812876Z",
          "shell.execute_reply.started": "2024-10-31T19:25:25.802950Z",
          "shell.execute_reply": "2024-10-31T19:25:25.811444Z"
        },
        "trusted": true,
        "id": "3GF-Ff654_1t"
      },
      "execution_count": 85,
      "outputs": []
    },
    {
      "cell_type": "code",
      "source": [
        "ax5 = sns.histplot(data=filtered_df1, y='Job_Role', hue='AppliedThrough', multiple='dodge', shrink=.9, palette='bright')\n",
        "plt.yticks(rotation=45, ha='right')\n",
        "plt.gca().set_xlabel('')\n",
        "plt.gca().set_ylabel('')\n",
        "for p in ax5.patches:\n",
        "    ax5.annotate(f'{p.get_width()}',\n",
        "                 (p.get_width(), p.get_y() + p.get_height() / 2),\n",
        "                 ha='left', va='center', color='black', fontsize=10)\n",
        "plt.show()"
      ],
      "metadata": {
        "execution": {
          "iopub.status.busy": "2024-10-31T19:25:28.279469Z",
          "iopub.execute_input": "2024-10-31T19:25:28.280535Z",
          "iopub.status.idle": "2024-10-31T19:25:28.788745Z",
          "shell.execute_reply.started": "2024-10-31T19:25:28.280484Z",
          "shell.execute_reply": "2024-10-31T19:25:28.787637Z"
        },
        "trusted": true,
        "colab": {
          "base_uri": "https://localhost:8080/",
          "height": 439
        },
        "id": "fjDE9fIm4_1t",
        "outputId": "0bd5a72b-66b3-4d15-a233-fadb058c88b5"
      },
      "execution_count": 86,
      "outputs": [
        {
          "output_type": "display_data",
          "data": {
            "text/plain": [
              "<Figure size 640x480 with 1 Axes>"
            ],
            "image/png": "[encoded data removed]"
          },
          "metadata": {}
        }
      ]
    },
    {
      "cell_type": "markdown",
      "source": [
        "<h2> Job Role - Location</h2>"
      ],
      "metadata": {
        "id": "cMWCedr44_1t"
      }
    },
    {
      "cell_type": "code",
      "source": [
        "top_loc = df['Job_Role'].value_counts().nlargest(3).index\n",
        "filtered_df2 = df[df['Job_Role'].isin(top_loc)]"
      ],
      "metadata": {
        "execution": {
          "iopub.status.busy": "2024-10-31T19:33:22.362495Z",
          "iopub.execute_input": "2024-10-31T19:33:22.363069Z",
          "iopub.status.idle": "2024-10-31T19:33:22.375253Z",
          "shell.execute_reply.started": "2024-10-31T19:33:22.363011Z",
          "shell.execute_reply": "2024-10-31T19:33:22.373806Z"
        },
        "trusted": true,
        "id": "fJ-sk0JM4_1t"
      },
      "execution_count": 87,
      "outputs": []
    },
    {
      "cell_type": "code",
      "source": [
        "ax6 = sns.histplot(data=filtered_df2, y='Job_Role', hue='Location', multiple='dodge', shrink=.9, palette='bright')\n",
        "plt.gca().spines[['top', 'right',]].set_visible(False)\n",
        "plt.yticks(rotation=45, ha='right')\n",
        "plt.gca().set_xlabel('')\n",
        "plt.gca().set_ylabel('')\n",
        "# for p in ax6.patches:\n",
        "#     ax6.annotate(f'{p.get_width()}',\n",
        "#                  (p.get_width(), p.get_y() + p.get_height() / 2),\n",
        "#                  ha='left', va='center', color='black', fontsize=10)\n",
        "plt.show()"
      ],
      "metadata": {
        "execution": {
          "iopub.status.busy": "2024-10-31T19:33:52.221175Z",
          "iopub.execute_input": "2024-10-31T19:33:52.221621Z",
          "iopub.status.idle": "2024-10-31T19:33:52.781600Z",
          "shell.execute_reply.started": "2024-10-31T19:33:52.221569Z",
          "shell.execute_reply": "2024-10-31T19:33:52.780375Z"
        },
        "trusted": true,
        "colab": {
          "base_uri": "https://localhost:8080/",
          "height": 439
        },
        "id": "pXcmQcl-4_1t",
        "outputId": "e7de4ef9-6454-4765-825d-6857c7a7f989"
      },
      "execution_count": 88,
      "outputs": [
        {
          "output_type": "display_data",
          "data": {
            "text/plain": [
              "<Figure size 640x480 with 1 Axes>"
            ],
            "image/png": "[encoded data removed]"
          },
          "metadata": {}
        }
      ]
    },
    {
      "cell_type": "markdown",
      "source": [
        "<h2>Job Role - Month Applied on</h2>"
      ],
      "metadata": {
        "id": "NvHHqeSa4_1t"
      }
    },
    {
      "cell_type": "code",
      "source": [
        "top_mon = df['Job_Role'].value_counts().nlargest(3).index\n",
        "filtered_df3 = df[df['Job_Role'].isin(top_loc)]"
      ],
      "metadata": {
        "execution": {
          "iopub.status.busy": "2024-10-31T19:35:31.504167Z",
          "iopub.execute_input": "2024-10-31T19:35:31.504603Z",
          "iopub.status.idle": "2024-10-31T19:35:31.514970Z",
          "shell.execute_reply.started": "2024-10-31T19:35:31.504560Z",
          "shell.execute_reply": "2024-10-31T19:35:31.513718Z"
        },
        "trusted": true,
        "id": "_SiACQAG4_1t"
      },
      "execution_count": 89,
      "outputs": []
    },
    {
      "cell_type": "code",
      "source": [
        "ax7 = sns.histplot(data=filtered_df3, y='Job_Role', hue='month', multiple='dodge', shrink=.9, palette='bright')\n",
        "plt.gca().spines[['top', 'right',]].set_visible(False)\n",
        "plt.yticks(rotation=45, ha='right')\n",
        "plt.gca().set_xlabel('')\n",
        "plt.gca().set_ylabel('')\n",
        "# for p in ax6.patches:\n",
        "#     ax7.annotate(f'{p.get_width()}',\n",
        "#                  (p.get_width(), p.get_y() + p.get_height() / 2),\n",
        "#                  ha='left', va='center', color='black', fontsize=10)\n",
        "plt.show()"
      ],
      "metadata": {
        "execution": {
          "iopub.status.busy": "2024-10-31T19:36:15.521012Z",
          "iopub.execute_input": "2024-10-31T19:36:15.521462Z",
          "iopub.status.idle": "2024-10-31T19:36:15.946610Z",
          "shell.execute_reply.started": "2024-10-31T19:36:15.521419Z",
          "shell.execute_reply": "2024-10-31T19:36:15.945409Z"
        },
        "trusted": true,
        "colab": {
          "base_uri": "https://localhost:8080/",
          "height": 439
        },
        "id": "OkgzI8_G4_1t",
        "outputId": "ff8f375b-465a-4b95-a9a6-1be800a23fec"
      },
      "execution_count": 90,
      "outputs": [
        {
          "output_type": "display_data",
          "data": {
            "text/plain": [
              "<Figure size 640x480 with 1 Axes>"
            ],
            "image/png": "[encoded data removed]"
          },
          "metadata": {}
        }
      ]
    },
    {
      "cell_type": "markdown",
      "source": [
        "<h1>Important Parameters Analysis:</h1>"
      ],
      "metadata": {
        "id": "6rziaelL4_1t"
      }
    },
    {
      "cell_type": "markdown",
      "source": [
        "<h2>Top 5 applied companies</h2>"
      ],
      "metadata": {
        "id": "AyNbXqxR4_1t"
      }
    },
    {
      "cell_type": "code",
      "source": [
        "df['CompanyName'].value_counts().head()"
      ],
      "metadata": {
        "execution": {
          "iopub.status.busy": "2024-10-31T19:37:29.796586Z",
          "iopub.execute_input": "2024-10-31T19:37:29.797078Z",
          "iopub.status.idle": "2024-10-31T19:37:29.808567Z",
          "shell.execute_reply.started": "2024-10-31T19:37:29.797031Z",
          "shell.execute_reply": "2024-10-31T19:37:29.807390Z"
        },
        "trusted": true,
        "colab": {
          "base_uri": "https://localhost:8080/",
          "height": 272
        },
        "id": "So-iQiQ-4_1t",
        "outputId": "af1d69c1-2fb2-4b53-9283-74a77471c99c"
      },
      "execution_count": 91,
      "outputs": [
        {
          "output_type": "execute_result",
          "data": {
            "text/plain": [
              "CompanyName\n",
              "Innometrics Solutions                     15\n",
              "Rekruton Technologies                     13\n",
              "Ozibook Tech Solutions Private Limited    11\n",
              "BayOne Solutions                           9\n",
              "LatentView                                 8\n",
              "Name: count, dtype: int64"
            ],
            "text/html": [
              "<div>\n",
              "<style scoped>\n",
              "    .dataframe tbody tr th:only-of-type {\n",
              "        vertical-align: middle;\n",
              "    }\n",
              "\n",
              "    .dataframe tbody tr th {\n",
              "        vertical-align: top;\n",
              "    }\n",
              "\n",
              "    .dataframe thead th {\n",
              "        text-align: right;\n",
              "    }\n",
              "</style>\n",
              "<table border=\"1\" class=\"dataframe\">\n",
              "  <thead>\n",
              "    <tr style=\"text-align: right;\">\n",
              "      <th></th>\n",
              "      <th>count</th>\n",
              "    </tr>\n",
              "    <tr>\n",
              "      <th>CompanyName</th>\n",
              "      <th></th>\n",
              "    </tr>\n",
              "  </thead>\n",
              "  <tbody>\n",
              "    <tr>\n",
              "      <th>Innometrics Solutions</th>\n",
              "      <td>15</td>\n",
              "    </tr>\n",
              "    <tr>\n",
              "      <th>Rekruton Technologies</th>\n",
              "      <td>13</td>\n",
              "    </tr>\n",
              "    <tr>\n",
              "      <th>Ozibook Tech Solutions Private Limited</th>\n",
              "      <td>11</td>\n",
              "    </tr>\n",
              "    <tr>\n",
              "      <th>BayOne Solutions</th>\n",
              "      <td>9</td>\n",
              "    </tr>\n",
              "    <tr>\n",
              "      <th>LatentView</th>\n",
              "      <td>8</td>\n",
              "    </tr>\n",
              "  </tbody>\n",
              "</table>\n",
              "</div><br><label><b>dtype:</b> int64</label>"
            ]
          },
          "metadata": {},
          "execution_count": 91
        }
      ]
    },
    {
      "cell_type": "markdown",
      "source": [
        "<h2>Most applied Job Role</h2>"
      ],
      "metadata": {
        "id": "g8TzhxFJ4_1t"
      }
    },
    {
      "cell_type": "code",
      "source": [
        "df['Job_Role'].value_counts().head(5)"
      ],
      "metadata": {
        "execution": {
          "iopub.status.busy": "2024-10-31T19:38:07.674202Z",
          "iopub.execute_input": "2024-10-31T19:38:07.674747Z",
          "iopub.status.idle": "2024-10-31T19:38:07.686133Z",
          "shell.execute_reply.started": "2024-10-31T19:38:07.674699Z",
          "shell.execute_reply": "2024-10-31T19:38:07.684760Z"
        },
        "trusted": true,
        "colab": {
          "base_uri": "https://localhost:8080/",
          "height": 272
        },
        "id": "MRoaancs4_1t",
        "outputId": "4fcef4f2-4c6b-439c-f086-e41f7b40b8a8"
      },
      "execution_count": 92,
      "outputs": [
        {
          "output_type": "execute_result",
          "data": {
            "text/plain": [
              "Job_Role\n",
              "Data Analyst          465\n",
              "Data Science           38\n",
              "Software Developer     18\n",
              "Data Engineer          11\n",
              "Machine Learning        9\n",
              "Name: count, dtype: int64"
            ],
            "text/html": [
              "<div>\n",
              "<style scoped>\n",
              "    .dataframe tbody tr th:only-of-type {\n",
              "        vertical-align: middle;\n",
              "    }\n",
              "\n",
              "    .dataframe tbody tr th {\n",
              "        vertical-align: top;\n",
              "    }\n",
              "\n",
              "    .dataframe thead th {\n",
              "        text-align: right;\n",
              "    }\n",
              "</style>\n",
              "<table border=\"1\" class=\"dataframe\">\n",
              "  <thead>\n",
              "    <tr style=\"text-align: right;\">\n",
              "      <th></th>\n",
              "      <th>count</th>\n",
              "    </tr>\n",
              "    <tr>\n",
              "      <th>Job_Role</th>\n",
              "      <th></th>\n",
              "    </tr>\n",
              "  </thead>\n",
              "  <tbody>\n",
              "    <tr>\n",
              "      <th>Data Analyst</th>\n",
              "      <td>465</td>\n",
              "    </tr>\n",
              "    <tr>\n",
              "      <th>Data Science</th>\n",
              "      <td>38</td>\n",
              "    </tr>\n",
              "    <tr>\n",
              "      <th>Software Developer</th>\n",
              "      <td>18</td>\n",
              "    </tr>\n",
              "    <tr>\n",
              "      <th>Data Engineer</th>\n",
              "      <td>11</td>\n",
              "    </tr>\n",
              "    <tr>\n",
              "      <th>Machine Learning</th>\n",
              "      <td>9</td>\n",
              "    </tr>\n",
              "  </tbody>\n",
              "</table>\n",
              "</div><br><label><b>dtype:</b> int64</label>"
            ]
          },
          "metadata": {},
          "execution_count": 92
        }
      ]
    },
    {
      "cell_type": "markdown",
      "source": [
        "<h2>Top 5 Job Location</h2>"
      ],
      "metadata": {
        "id": "QVw-T5tn4_1t"
      }
    },
    {
      "cell_type": "code",
      "source": [
        "df['Location'].value_counts().head(5)"
      ],
      "metadata": {
        "execution": {
          "iopub.status.busy": "2024-10-31T19:39:12.510491Z",
          "iopub.execute_input": "2024-10-31T19:39:12.510954Z",
          "iopub.status.idle": "2024-10-31T19:39:12.522028Z",
          "shell.execute_reply.started": "2024-10-31T19:39:12.510894Z",
          "shell.execute_reply": "2024-10-31T19:39:12.520476Z"
        },
        "trusted": true,
        "colab": {
          "base_uri": "https://localhost:8080/",
          "height": 272
        },
        "id": "VDqAk7wD4_1t",
        "outputId": "4d66f671-32be-4748-a15a-2b4792e4bff1"
      },
      "execution_count": 93,
      "outputs": [
        {
          "output_type": "execute_result",
          "data": {
            "text/plain": [
              "Location\n",
              "REMOTE       148\n",
              "BENGALURU    104\n",
              "CHENNAI       84\n",
              "HYDERABAD     65\n",
              "DELHI/NCR     59\n",
              "Name: count, dtype: int64"
            ],
            "text/html": [
              "<div>\n",
              "<style scoped>\n",
              "    .dataframe tbody tr th:only-of-type {\n",
              "        vertical-align: middle;\n",
              "    }\n",
              "\n",
              "    .dataframe tbody tr th {\n",
              "        vertical-align: top;\n",
              "    }\n",
              "\n",
              "    .dataframe thead th {\n",
              "        text-align: right;\n",
              "    }\n",
              "</style>\n",
              "<table border=\"1\" class=\"dataframe\">\n",
              "  <thead>\n",
              "    <tr style=\"text-align: right;\">\n",
              "      <th></th>\n",
              "      <th>count</th>\n",
              "    </tr>\n",
              "    <tr>\n",
              "      <th>Location</th>\n",
              "      <th></th>\n",
              "    </tr>\n",
              "  </thead>\n",
              "  <tbody>\n",
              "    <tr>\n",
              "      <th>REMOTE</th>\n",
              "      <td>148</td>\n",
              "    </tr>\n",
              "    <tr>\n",
              "      <th>BENGALURU</th>\n",
              "      <td>104</td>\n",
              "    </tr>\n",
              "    <tr>\n",
              "      <th>CHENNAI</th>\n",
              "      <td>84</td>\n",
              "    </tr>\n",
              "    <tr>\n",
              "      <th>HYDERABAD</th>\n",
              "      <td>65</td>\n",
              "    </tr>\n",
              "    <tr>\n",
              "      <th>DELHI/NCR</th>\n",
              "      <td>59</td>\n",
              "    </tr>\n",
              "  </tbody>\n",
              "</table>\n",
              "</div><br><label><b>dtype:</b> int64</label>"
            ]
          },
          "metadata": {},
          "execution_count": 93
        }
      ]
    },
    {
      "cell_type": "markdown",
      "source": [
        "<h2>Most Applied Job Type</h2>"
      ],
      "metadata": {
        "id": "2AWk51vy4_1t"
      }
    },
    {
      "cell_type": "code",
      "source": [
        "df['Type'].value_counts().head(1)"
      ],
      "metadata": {
        "execution": {
          "iopub.status.busy": "2024-10-31T19:40:15.217534Z",
          "iopub.execute_input": "2024-10-31T19:40:15.218038Z",
          "iopub.status.idle": "2024-10-31T19:40:15.228665Z",
          "shell.execute_reply.started": "2024-10-31T19:40:15.217993Z",
          "shell.execute_reply": "2024-10-31T19:40:15.227219Z"
        },
        "trusted": true,
        "colab": {
          "base_uri": "https://localhost:8080/",
          "height": 146
        },
        "id": "9tVGTl0K4_1t",
        "outputId": "76836220-f843-46c6-d4b2-683b5359da18"
      },
      "execution_count": 94,
      "outputs": [
        {
          "output_type": "execute_result",
          "data": {
            "text/plain": [
              "Type\n",
              "Full-Time    423\n",
              "Name: count, dtype: int64"
            ],
            "text/html": [
              "<div>\n",
              "<style scoped>\n",
              "    .dataframe tbody tr th:only-of-type {\n",
              "        vertical-align: middle;\n",
              "    }\n",
              "\n",
              "    .dataframe tbody tr th {\n",
              "        vertical-align: top;\n",
              "    }\n",
              "\n",
              "    .dataframe thead th {\n",
              "        text-align: right;\n",
              "    }\n",
              "</style>\n",
              "<table border=\"1\" class=\"dataframe\">\n",
              "  <thead>\n",
              "    <tr style=\"text-align: right;\">\n",
              "      <th></th>\n",
              "      <th>count</th>\n",
              "    </tr>\n",
              "    <tr>\n",
              "      <th>Type</th>\n",
              "      <th></th>\n",
              "    </tr>\n",
              "  </thead>\n",
              "  <tbody>\n",
              "    <tr>\n",
              "      <th>Full-Time</th>\n",
              "      <td>423</td>\n",
              "    </tr>\n",
              "  </tbody>\n",
              "</table>\n",
              "</div><br><label><b>dtype:</b> int64</label>"
            ]
          },
          "metadata": {},
          "execution_count": 94
        }
      ]
    },
    {
      "cell_type": "markdown",
      "source": [
        "<h2>Most Job Applied in Month of- </h2>"
      ],
      "metadata": {
        "id": "mciiiLFl4_1t"
      }
    },
    {
      "cell_type": "code",
      "source": [
        "df['month'].value_counts().head(1)"
      ],
      "metadata": {
        "execution": {
          "iopub.status.busy": "2024-10-31T19:41:06.571037Z",
          "iopub.execute_input": "2024-10-31T19:41:06.571506Z",
          "iopub.status.idle": "2024-10-31T19:41:06.581603Z",
          "shell.execute_reply.started": "2024-10-31T19:41:06.571463Z",
          "shell.execute_reply": "2024-10-31T19:41:06.580145Z"
        },
        "trusted": true,
        "colab": {
          "base_uri": "https://localhost:8080/",
          "height": 146
        },
        "id": "FjE7ubeD4_1u",
        "outputId": "20109e24-0f16-4574-b5ae-bf675439beb6"
      },
      "execution_count": 95,
      "outputs": [
        {
          "output_type": "execute_result",
          "data": {
            "text/plain": [
              "month\n",
              "February    148\n",
              "Name: count, dtype: int64"
            ],
            "text/html": [
              "<div>\n",
              "<style scoped>\n",
              "    .dataframe tbody tr th:only-of-type {\n",
              "        vertical-align: middle;\n",
              "    }\n",
              "\n",
              "    .dataframe tbody tr th {\n",
              "        vertical-align: top;\n",
              "    }\n",
              "\n",
              "    .dataframe thead th {\n",
              "        text-align: right;\n",
              "    }\n",
              "</style>\n",
              "<table border=\"1\" class=\"dataframe\">\n",
              "  <thead>\n",
              "    <tr style=\"text-align: right;\">\n",
              "      <th></th>\n",
              "      <th>count</th>\n",
              "    </tr>\n",
              "    <tr>\n",
              "      <th>month</th>\n",
              "      <th></th>\n",
              "    </tr>\n",
              "  </thead>\n",
              "  <tbody>\n",
              "    <tr>\n",
              "      <th>February</th>\n",
              "      <td>148</td>\n",
              "    </tr>\n",
              "  </tbody>\n",
              "</table>\n",
              "</div><br><label><b>dtype:</b> int64</label>"
            ]
          },
          "metadata": {},
          "execution_count": 95
        }
      ]
    },
    {
      "cell_type": "markdown",
      "source": [
        "<h2>Top 3 plateform job applied through?</h2>"
      ],
      "metadata": {
        "id": "EqU5Jvgn4_1u"
      }
    },
    {
      "cell_type": "code",
      "source": [
        "df['AppliedThrough'].value_counts().head(3)"
      ],
      "metadata": {
        "execution": {
          "iopub.status.busy": "2024-10-31T19:43:38.641181Z",
          "iopub.execute_input": "2024-10-31T19:43:38.641640Z",
          "iopub.status.idle": "2024-10-31T19:43:38.652123Z",
          "shell.execute_reply.started": "2024-10-31T19:43:38.641589Z",
          "shell.execute_reply": "2024-10-31T19:43:38.650985Z"
        },
        "trusted": true,
        "colab": {
          "base_uri": "https://localhost:8080/",
          "height": 209
        },
        "id": "3yWZwE6H4_1u",
        "outputId": "839dc118-6690-486f-ccb6-ac6deaaa11f5"
      },
      "execution_count": 96,
      "outputs": [
        {
          "output_type": "execute_result",
          "data": {
            "text/plain": [
              "AppliedThrough\n",
              "LinkedIn            199\n",
              "Official Website     96\n",
              "Internshala          96\n",
              "Name: count, dtype: int64"
            ],
            "text/html": [
              "<div>\n",
              "<style scoped>\n",
              "    .dataframe tbody tr th:only-of-type {\n",
              "        vertical-align: middle;\n",
              "    }\n",
              "\n",
              "    .dataframe tbody tr th {\n",
              "        vertical-align: top;\n",
              "    }\n",
              "\n",
              "    .dataframe thead th {\n",
              "        text-align: right;\n",
              "    }\n",
              "</style>\n",
              "<table border=\"1\" class=\"dataframe\">\n",
              "  <thead>\n",
              "    <tr style=\"text-align: right;\">\n",
              "      <th></th>\n",
              "      <th>count</th>\n",
              "    </tr>\n",
              "    <tr>\n",
              "      <th>AppliedThrough</th>\n",
              "      <th></th>\n",
              "    </tr>\n",
              "  </thead>\n",
              "  <tbody>\n",
              "    <tr>\n",
              "      <th>LinkedIn</th>\n",
              "      <td>199</td>\n",
              "    </tr>\n",
              "    <tr>\n",
              "      <th>Official Website</th>\n",
              "      <td>96</td>\n",
              "    </tr>\n",
              "    <tr>\n",
              "      <th>Internshala</th>\n",
              "      <td>96</td>\n",
              "    </tr>\n",
              "  </tbody>\n",
              "</table>\n",
              "</div><br><label><b>dtype:</b> int64</label>"
            ]
          },
          "metadata": {},
          "execution_count": 96
        }
      ]
    },
    {
      "cell_type": "code",
      "source": [],
      "metadata": {
        "id": "mNUHtsmS4_1u"
      },
      "execution_count": 96,
      "outputs": []
    }
  ]
}