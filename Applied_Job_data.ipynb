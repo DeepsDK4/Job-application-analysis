{
  "nbformat": 4,
  "nbformat_minor": 0,
  "metadata": {
    "colab": {
      "provenance": []
    },
    "kernelspec": {
      "name": "python3",
      "display_name": "Python 3"
    },
    "language_info": {
      "name": "python"
    }
  },
  "cells": [
    {
      "cell_type": "markdown",
      "source": [],
      "metadata": {
        "id": "uwHRaJgPUU_o"
      }
    },
    {
      "cell_type": "markdown",
      "source": [
        "# Problem:\n",
        "The project aims to analyze job application data collected over a 3-month period, encompassing various parameters such as company name, job post, type of job, location, skills required, compensation (CTC), applied through method, date applied, and additional comments. The dataset consists of 278 entries.\n",
        "\n",
        "**Note:** This data is exclusively collected from my personal job applications. Any external usage should include proper citation.\n",
        "\n",
        "**Last updated on:** March 16, 2024"
      ],
      "metadata": {
        "id": "C-0RnnikU1Bp"
      }
    },
    {
      "cell_type": "code",
      "execution_count": null,
      "metadata": {
        "id": "v9jNV_6cUPXR"
      },
      "outputs": [],
      "source": [
        "# Importing important libraries\n",
        "import numpy as np\n",
        "import pandas as pd\n",
        "import matplotlib.pyplot as plt\n",
        "import seaborn as sns\n",
        "%matplotlib inline"
      ]
    },
    {
      "cell_type": "code",
      "source": [
        "df = pd.read_csv('/content/Job & Intern Updates - Applied Companies.csv', parse_dates=['DateApplied'], date_parser=lambda x: pd.to_datetime(x, format='%d-%m-%Y'))\n",
        "df.sample(5)"
      ],
      "metadata": {
        "colab": {
          "base_uri": "https://localhost:8080/",
          "height": 518
        },
        "id": "2w5fRG6kVSKs",
        "outputId": "09e420e2-2dd8-4070-d287-125820089c86"
      },
      "execution_count": null,
      "outputs": [
        {
          "output_type": "execute_result",
          "data": {
            "text/plain": [
              "     SR No.                                 CompanyName  \\\n",
              "86       87  Buddha Education Association Incorporation   \n",
              "27       28                                         SKF   \n",
              "0         1                                  Congnizant   \n",
              "71       72                                      Turing   \n",
              "154     155                            Adtitude Digital   \n",
              "\n",
              "                             Post                 JobID  \\\n",
              "86   Artificial Intelligence (AI)                   NaN   \n",
              "27                   Data Analyst                 19053   \n",
              "0              Programmer Analyst  triple zero 56773071   \n",
              "71                   Data Analyst                   NaN   \n",
              "154              Business Analyst                   NaN   \n",
              "\n",
              "                      Type   Location  \\\n",
              "86   Internship (1 Months)        NaN   \n",
              "27               Full-time  Bangalore   \n",
              "0                Full-time  Bangalore   \n",
              "71              Internship     Remote   \n",
              "154              Full-Time     Remote   \n",
              "\n",
              "                                                Skills  \\\n",
              "86   Data Structures, Natural Language Processing (...   \n",
              "27   Data Interpretation, Statistical Analysis, Dat...   \n",
              "0                                                  NaN   \n",
              "71   English · Analytical Skills · Datasets · Jupyt...   \n",
              "154  Technology and tools: Slack, SQL, Excel , Tabl...   \n",
              "\n",
              "                              CTC        AppliedThrough  \\\n",
              "86                ₹ 25,000 /month           Internshala   \n",
              "27                             ND        Offial Website   \n",
              "0                              ND        Offial Website   \n",
              "71                          25k/m  LinkedIn (Call-Mail)   \n",
              "154  INR 400K + Performance Bonus              LinkedIn   \n",
              "\n",
              "                                 Comments DateApplied  \\\n",
              "86                                    NaN  2024-02-03   \n",
              "27   Yet to apply (sent msg for refferal)  2024-01-25   \n",
              "0                                     NaN         NaT   \n",
              "71                                    NaN  2024-02-01   \n",
              "154   6:00 PM to 4:00 AM (Night Time IST)  2024-02-19   \n",
              "\n",
              "                                                 Link1 Link2  \n",
              "86   https://internshala.com/internship/detail/arti...   NaN  \n",
              "27                                        Data Analyst   NaN  \n",
              "0    https://careers.cognizant.com/in/en/Full-time/...   NaN  \n",
              "71   https://www.linkedin.com/jobs/view/3808869213/...   NaN  \n",
              "154      https://www.linkedin.com/jobs/view/3828511091   NaN  "
            ],
            "text/html": [
              "\n",
              "  <div id=\"df-5a5ef8e3-8b36-4279-b25f-37bbb03ac87f\" class=\"colab-df-container\">\n",
              "    <div>\n",
              "<style scoped>\n",
              "    .dataframe tbody tr th:only-of-type {\n",
              "        vertical-align: middle;\n",
              "    }\n",
              "\n",
              "    .dataframe tbody tr th {\n",
              "        vertical-align: top;\n",
              "    }\n",
              "\n",
              "    .dataframe thead th {\n",
              "        text-align: right;\n",
              "    }\n",
              "</style>\n",
              "<table border=\"1\" class=\"dataframe\">\n",
              "  <thead>\n",
              "    <tr style=\"text-align: right;\">\n",
              "      <th></th>\n",
              "      <th>SR No.</th>\n",
              "      <th>CompanyName</th>\n",
              "      <th>Post</th>\n",
              "      <th>JobID</th>\n",
              "      <th>Type</th>\n",
              "      <th>Location</th>\n",
              "      <th>Skills</th>\n",
              "      <th>CTC</th>\n",
              "      <th>AppliedThrough</th>\n",
              "      <th>Comments</th>\n",
              "      <th>DateApplied</th>\n",
              "      <th>Link1</th>\n",
              "      <th>Link2</th>\n",
              "    </tr>\n",
              "  </thead>\n",
              "  <tbody>\n",
              "    <tr>\n",
              "      <th>86</th>\n",
              "      <td>87</td>\n",
              "      <td>Buddha Education Association Incorporation</td>\n",
              "      <td>Artificial Intelligence (AI)</td>\n",
              "      <td>NaN</td>\n",
              "      <td>Internship (1 Months)</td>\n",
              "      <td>NaN</td>\n",
              "      <td>Data Structures, Natural Language Processing (...</td>\n",
              "      <td>₹ 25,000 /month</td>\n",
              "      <td>Internshala</td>\n",
              "      <td>NaN</td>\n",
              "      <td>2024-02-03</td>\n",
              "      <td>https://internshala.com/internship/detail/arti...</td>\n",
              "      <td>NaN</td>\n",
              "    </tr>\n",
              "    <tr>\n",
              "      <th>27</th>\n",
              "      <td>28</td>\n",
              "      <td>SKF</td>\n",
              "      <td>Data Analyst</td>\n",
              "      <td>19053</td>\n",
              "      <td>Full-time</td>\n",
              "      <td>Bangalore</td>\n",
              "      <td>Data Interpretation, Statistical Analysis, Dat...</td>\n",
              "      <td>ND</td>\n",
              "      <td>Offial Website</td>\n",
              "      <td>Yet to apply (sent msg for refferal)</td>\n",
              "      <td>2024-01-25</td>\n",
              "      <td>Data Analyst</td>\n",
              "      <td>NaN</td>\n",
              "    </tr>\n",
              "    <tr>\n",
              "      <th>0</th>\n",
              "      <td>1</td>\n",
              "      <td>Congnizant</td>\n",
              "      <td>Programmer Analyst</td>\n",
              "      <td>triple zero 56773071</td>\n",
              "      <td>Full-time</td>\n",
              "      <td>Bangalore</td>\n",
              "      <td>NaN</td>\n",
              "      <td>ND</td>\n",
              "      <td>Offial Website</td>\n",
              "      <td>NaN</td>\n",
              "      <td>NaT</td>\n",
              "      <td>https://careers.cognizant.com/in/en/Full-time/...</td>\n",
              "      <td>NaN</td>\n",
              "    </tr>\n",
              "    <tr>\n",
              "      <th>71</th>\n",
              "      <td>72</td>\n",
              "      <td>Turing</td>\n",
              "      <td>Data Analyst</td>\n",
              "      <td>NaN</td>\n",
              "      <td>Internship</td>\n",
              "      <td>Remote</td>\n",
              "      <td>English · Analytical Skills · Datasets · Jupyt...</td>\n",
              "      <td>25k/m</td>\n",
              "      <td>LinkedIn (Call-Mail)</td>\n",
              "      <td>NaN</td>\n",
              "      <td>2024-02-01</td>\n",
              "      <td>https://www.linkedin.com/jobs/view/3808869213/...</td>\n",
              "      <td>NaN</td>\n",
              "    </tr>\n",
              "    <tr>\n",
              "      <th>154</th>\n",
              "      <td>155</td>\n",
              "      <td>Adtitude Digital</td>\n",
              "      <td>Business Analyst</td>\n",
              "      <td>NaN</td>\n",
              "      <td>Full-Time</td>\n",
              "      <td>Remote</td>\n",
              "      <td>Technology and tools: Slack, SQL, Excel , Tabl...</td>\n",
              "      <td>INR 400K + Performance Bonus</td>\n",
              "      <td>LinkedIn</td>\n",
              "      <td>6:00 PM to 4:00 AM (Night Time IST)</td>\n",
              "      <td>2024-02-19</td>\n",
              "      <td>https://www.linkedin.com/jobs/view/3828511091</td>\n",
              "      <td>NaN</td>\n",
              "    </tr>\n",
              "  </tbody>\n",
              "</table>\n",
              "</div>\n",
              "    <div class=\"colab-df-buttons\">\n",
              "\n",
              "  <div class=\"colab-df-container\">\n",
              "    <button class=\"colab-df-convert\" onclick=\"convertToInteractive('df-5a5ef8e3-8b36-4279-b25f-37bbb03ac87f')\"\n",
              "            title=\"Convert this dataframe to an interactive table.\"\n",
              "            style=\"display:none;\">\n",
              "\n",
              "  <svg xmlns=\"http://www.w3.org/2000/svg\" height=\"24px\" viewBox=\"0 -960 960 960\">\n",
              "    <path d=\"M120-120v-720h720v720H120Zm60-500h600v-160H180v160Zm220 220h160v-160H400v160Zm0 220h160v-160H400v160ZM180-400h160v-160H180v160Zm440 0h160v-160H620v160ZM180-180h160v-160H180v160Zm440 0h160v-160H620v160Z\"/>\n",
              "  </svg>\n",
              "    </button>\n",
              "\n",
              "  <style>\n",
              "    .colab-df-container {\n",
              "      display:flex;\n",
              "      gap: 12px;\n",
              "    }\n",
              "\n",
              "    .colab-df-convert {\n",
              "      background-color: #E8F0FE;\n",
              "      border: none;\n",
              "      border-radius: 50%;\n",
              "      cursor: pointer;\n",
              "      display: none;\n",
              "      fill: #1967D2;\n",
              "      height: 32px;\n",
              "      padding: 0 0 0 0;\n",
              "      width: 32px;\n",
              "    }\n",
              "\n",
              "    .colab-df-convert:hover {\n",
              "      background-color: #E2EBFA;\n",
              "      box-shadow: 0px 1px 2px rgba(60, 64, 67, 0.3), 0px 1px 3px 1px rgba(60, 64, 67, 0.15);\n",
              "      fill: #174EA6;\n",
              "    }\n",
              "\n",
              "    .colab-df-buttons div {\n",
              "      margin-bottom: 4px;\n",
              "    }\n",
              "\n",
              "    [theme=dark] .colab-df-convert {\n",
              "      background-color: #3B4455;\n",
              "      fill: #D2E3FC;\n",
              "    }\n",
              "\n",
              "    [theme=dark] .colab-df-convert:hover {\n",
              "      background-color: #434B5C;\n",
              "      box-shadow: 0px 1px 3px 1px rgba(0, 0, 0, 0.15);\n",
              "      filter: drop-shadow(0px 1px 2px rgba(0, 0, 0, 0.3));\n",
              "      fill: #FFFFFF;\n",
              "    }\n",
              "  </style>\n",
              "\n",
              "    <script>\n",
              "      const buttonEl =\n",
              "        document.querySelector('#df-5a5ef8e3-8b36-4279-b25f-37bbb03ac87f button.colab-df-convert');\n",
              "      buttonEl.style.display =\n",
              "        google.colab.kernel.accessAllowed ? 'block' : 'none';\n",
              "\n",
              "      async function convertToInteractive(key) {\n",
              "        const element = document.querySelector('#df-5a5ef8e3-8b36-4279-b25f-37bbb03ac87f');\n",
              "        const dataTable =\n",
              "          await google.colab.kernel.invokeFunction('convertToInteractive',\n",
              "                                                    [key], {});\n",
              "        if (!dataTable) return;\n",
              "\n",
              "        const docLinkHtml = 'Like what you see? Visit the ' +\n",
              "          '<a target=\"_blank\" href=https://colab.research.google.com/notebooks/data_table.ipynb>data table notebook</a>'\n",
              "          + ' to learn more about interactive tables.';\n",
              "        element.innerHTML = '';\n",
              "        dataTable['output_type'] = 'display_data';\n",
              "        await google.colab.output.renderOutput(dataTable, element);\n",
              "        const docLink = document.createElement('div');\n",
              "        docLink.innerHTML = docLinkHtml;\n",
              "        element.appendChild(docLink);\n",
              "      }\n",
              "    </script>\n",
              "  </div>\n",
              "\n",
              "\n",
              "<div id=\"df-63e8ae22-60ec-4a33-9603-f9b7a6d99908\">\n",
              "  <button class=\"colab-df-quickchart\" onclick=\"quickchart('df-63e8ae22-60ec-4a33-9603-f9b7a6d99908')\"\n",
              "            title=\"Suggest charts\"\n",
              "            style=\"display:none;\">\n",
              "\n",
              "<svg xmlns=\"http://www.w3.org/2000/svg\" height=\"24px\"viewBox=\"0 0 24 24\"\n",
              "     width=\"24px\">\n",
              "    <g>\n",
              "        <path d=\"M19 3H5c-1.1 0-2 .9-2 2v14c0 1.1.9 2 2 2h14c1.1 0 2-.9 2-2V5c0-1.1-.9-2-2-2zM9 17H7v-7h2v7zm4 0h-2V7h2v10zm4 0h-2v-4h2v4z\"/>\n",
              "    </g>\n",
              "</svg>\n",
              "  </button>\n",
              "\n",
              "<style>\n",
              "  .colab-df-quickchart {\n",
              "      --bg-color: #E8F0FE;\n",
              "      --fill-color: #1967D2;\n",
              "      --hover-bg-color: #E2EBFA;\n",
              "      --hover-fill-color: #174EA6;\n",
              "      --disabled-fill-color: #AAA;\n",
              "      --disabled-bg-color: #DDD;\n",
              "  }\n",
              "\n",
              "  [theme=dark] .colab-df-quickchart {\n",
              "      --bg-color: #3B4455;\n",
              "      --fill-color: #D2E3FC;\n",
              "      --hover-bg-color: #434B5C;\n",
              "      --hover-fill-color: #FFFFFF;\n",
              "      --disabled-bg-color: #3B4455;\n",
              "      --disabled-fill-color: #666;\n",
              "  }\n",
              "\n",
              "  .colab-df-quickchart {\n",
              "    background-color: var(--bg-color);\n",
              "    border: none;\n",
              "    border-radius: 50%;\n",
              "    cursor: pointer;\n",
              "    display: none;\n",
              "    fill: var(--fill-color);\n",
              "    height: 32px;\n",
              "    padding: 0;\n",
              "    width: 32px;\n",
              "  }\n",
              "\n",
              "  .colab-df-quickchart:hover {\n",
              "    background-color: var(--hover-bg-color);\n",
              "    box-shadow: 0 1px 2px rgba(60, 64, 67, 0.3), 0 1px 3px 1px rgba(60, 64, 67, 0.15);\n",
              "    fill: var(--button-hover-fill-color);\n",
              "  }\n",
              "\n",
              "  .colab-df-quickchart-complete:disabled,\n",
              "  .colab-df-quickchart-complete:disabled:hover {\n",
              "    background-color: var(--disabled-bg-color);\n",
              "    fill: var(--disabled-fill-color);\n",
              "    box-shadow: none;\n",
              "  }\n",
              "\n",
              "  .colab-df-spinner {\n",
              "    border: 2px solid var(--fill-color);\n",
              "    border-color: transparent;\n",
              "    border-bottom-color: var(--fill-color);\n",
              "    animation:\n",
              "      spin 1s steps(1) infinite;\n",
              "  }\n",
              "\n",
              "  @keyframes spin {\n",
              "    0% {\n",
              "      border-color: transparent;\n",
              "      border-bottom-color: var(--fill-color);\n",
              "      border-left-color: var(--fill-color);\n",
              "    }\n",
              "    20% {\n",
              "      border-color: transparent;\n",
              "      border-left-color: var(--fill-color);\n",
              "      border-top-color: var(--fill-color);\n",
              "    }\n",
              "    30% {\n",
              "      border-color: transparent;\n",
              "      border-left-color: var(--fill-color);\n",
              "      border-top-color: var(--fill-color);\n",
              "      border-right-color: var(--fill-color);\n",
              "    }\n",
              "    40% {\n",
              "      border-color: transparent;\n",
              "      border-right-color: var(--fill-color);\n",
              "      border-top-color: var(--fill-color);\n",
              "    }\n",
              "    60% {\n",
              "      border-color: transparent;\n",
              "      border-right-color: var(--fill-color);\n",
              "    }\n",
              "    80% {\n",
              "      border-color: transparent;\n",
              "      border-right-color: var(--fill-color);\n",
              "      border-bottom-color: var(--fill-color);\n",
              "    }\n",
              "    90% {\n",
              "      border-color: transparent;\n",
              "      border-bottom-color: var(--fill-color);\n",
              "    }\n",
              "  }\n",
              "</style>\n",
              "\n",
              "  <script>\n",
              "    async function quickchart(key) {\n",
              "      const quickchartButtonEl =\n",
              "        document.querySelector('#' + key + ' button');\n",
              "      quickchartButtonEl.disabled = true;  // To prevent multiple clicks.\n",
              "      quickchartButtonEl.classList.add('colab-df-spinner');\n",
              "      try {\n",
              "        const charts = await google.colab.kernel.invokeFunction(\n",
              "            'suggestCharts', [key], {});\n",
              "      } catch (error) {\n",
              "        console.error('Error during call to suggestCharts:', error);\n",
              "      }\n",
              "      quickchartButtonEl.classList.remove('colab-df-spinner');\n",
              "      quickchartButtonEl.classList.add('colab-df-quickchart-complete');\n",
              "    }\n",
              "    (() => {\n",
              "      let quickchartButtonEl =\n",
              "        document.querySelector('#df-63e8ae22-60ec-4a33-9603-f9b7a6d99908 button');\n",
              "      quickchartButtonEl.style.display =\n",
              "        google.colab.kernel.accessAllowed ? 'block' : 'none';\n",
              "    })();\n",
              "  </script>\n",
              "</div>\n",
              "\n",
              "    </div>\n",
              "  </div>\n"
            ],
            "application/vnd.google.colaboratory.intrinsic+json": {
              "type": "dataframe",
              "repr_error": "Out of range float values are not JSON compliant: nan"
            }
          },
          "metadata": {},
          "execution_count": 322
        }
      ]
    },
    {
      "cell_type": "code",
      "source": [
        "df.info()"
      ],
      "metadata": {
        "colab": {
          "base_uri": "https://localhost:8080/"
        },
        "id": "5VxrkYyEXBYU",
        "outputId": "7200795a-0991-4dbf-baf9-17ffb7676e69"
      },
      "execution_count": null,
      "outputs": [
        {
          "output_type": "stream",
          "name": "stdout",
          "text": [
            "<class 'pandas.core.frame.DataFrame'>\n",
            "RangeIndex: 278 entries, 0 to 277\n",
            "Data columns (total 13 columns):\n",
            " #   Column          Non-Null Count  Dtype         \n",
            "---  ------          --------------  -----         \n",
            " 0   SR No.          278 non-null    int64         \n",
            " 1   CompanyName     233 non-null    object        \n",
            " 2   Post            233 non-null    object        \n",
            " 3   JobID           37 non-null     object        \n",
            " 4   Type            228 non-null    object        \n",
            " 5   Location        229 non-null    object        \n",
            " 6   Skills          209 non-null    object        \n",
            " 7   CTC             231 non-null    object        \n",
            " 8   AppliedThrough  231 non-null    object        \n",
            " 9   Comments        16 non-null     object        \n",
            " 10  DateApplied     206 non-null    datetime64[ns]\n",
            " 11  Link1           230 non-null    object        \n",
            " 12  Link2           14 non-null     object        \n",
            "dtypes: datetime64[ns](1), int64(1), object(11)\n",
            "memory usage: 28.4+ KB\n"
          ]
        }
      ]
    },
    {
      "cell_type": "code",
      "source": [
        "df['month'] = df['DateApplied'].dt.month"
      ],
      "metadata": {
        "id": "Hc_Q9xJlFdHX"
      },
      "execution_count": null,
      "outputs": []
    },
    {
      "cell_type": "markdown",
      "source": [
        "# Data Cleaning and Preprocessing:"
      ],
      "metadata": {
        "id": "PDDKbk37NGxc"
      }
    },
    {
      "cell_type": "code",
      "source": [
        "df.rename(columns = {'SR No.':'SeriealNumber', 'Post':'Job_Role'},inplace = True)\n",
        "df = df.replace([\"ND\"], 'Not disclosed')\n",
        "df.head()"
      ],
      "metadata": {
        "colab": {
          "base_uri": "https://localhost:8080/",
          "height": 521
        },
        "id": "ey7lfsE6aTno",
        "outputId": "b4b9f858-d3c1-4be3-a686-543408b6c395"
      },
      "execution_count": null,
      "outputs": [
        {
          "output_type": "execute_result",
          "data": {
            "text/plain": [
              "   SeriealNumber                             CompanyName            Job_Role  \\\n",
              "0              1                              Congnizant  Programmer Analyst   \n",
              "1              2                              Congnizant  Programmer Analyst   \n",
              "2              3  Ozibook Tech Solutions Private Limited      Data Analytics   \n",
              "3              4      Jivichem Synthesis Private Limited    Machine Learning   \n",
              "4              5  Ozibook Tech Solutions Private Limited  Business Analytics   \n",
              "\n",
              "                              JobID                    Type       Location  \\\n",
              "0              triple zero 56773071               Full-time      Bangalore   \n",
              "1              triple zero 57162692               Full-time        Chennai   \n",
              "2                               NaN  Internship (part-time)  WFH (2 Month)   \n",
              "3                               NaN  Internship (part-time)  WFH (1 Month)   \n",
              "4  Reason (Skills not suited to me)  Internship (part-time)  WFH (2 Month)   \n",
              "\n",
              "                                              Skills            CTC  \\\n",
              "0                                                NaN  Not disclosed   \n",
              "1                                                NaN  Not disclosed   \n",
              "2  Jupyter Notebook, Python libraries (Matplotlib...     1000/month   \n",
              "3  Data Analytics, Data Science, Deep Learning, M...    12000/month   \n",
              "4           Google Docs, Google Sheets, Google Drive     1000/month   \n",
              "\n",
              "   AppliedThrough Comments DateApplied  \\\n",
              "0  Offial Website      NaN         NaT   \n",
              "1  Offial Website      NaN         NaT   \n",
              "2     Internshala      NaN         NaT   \n",
              "3     Internshala      NaN         NaT   \n",
              "4     Internshala      NaN         NaT   \n",
              "\n",
              "                                               Link1 Link2  month  \n",
              "0  https://careers.cognizant.com/in/en/Full-time/...   NaN    NaN  \n",
              "1  Programmer Analyst Full-time | Cognizant Full-...   NaN    NaN  \n",
              "2  https://internshala.com/internship/detail/data...   NaN    NaN  \n",
              "3  Machine Learning Remote Part Time Internship a...   NaN    NaN  \n",
              "4  https://internshala.com/internship/detail/busi...   NaN    NaN  "
            ],
            "text/html": [
              "\n",
              "  <div id=\"df-905c6b67-bba8-4484-8cce-47401c1628e8\" class=\"colab-df-container\">\n",
              "    <div>\n",
              "<style scoped>\n",
              "    .dataframe tbody tr th:only-of-type {\n",
              "        vertical-align: middle;\n",
              "    }\n",
              "\n",
              "    .dataframe tbody tr th {\n",
              "        vertical-align: top;\n",
              "    }\n",
              "\n",
              "    .dataframe thead th {\n",
              "        text-align: right;\n",
              "    }\n",
              "</style>\n",
              "<table border=\"1\" class=\"dataframe\">\n",
              "  <thead>\n",
              "    <tr style=\"text-align: right;\">\n",
              "      <th></th>\n",
              "      <th>SeriealNumber</th>\n",
              "      <th>CompanyName</th>\n",
              "      <th>Job_Role</th>\n",
              "      <th>JobID</th>\n",
              "      <th>Type</th>\n",
              "      <th>Location</th>\n",
              "      <th>Skills</th>\n",
              "      <th>CTC</th>\n",
              "      <th>AppliedThrough</th>\n",
              "      <th>Comments</th>\n",
              "      <th>DateApplied</th>\n",
              "      <th>Link1</th>\n",
              "      <th>Link2</th>\n",
              "      <th>month</th>\n",
              "    </tr>\n",
              "  </thead>\n",
              "  <tbody>\n",
              "    <tr>\n",
              "      <th>0</th>\n",
              "      <td>1</td>\n",
              "      <td>Congnizant</td>\n",
              "      <td>Programmer Analyst</td>\n",
              "      <td>triple zero 56773071</td>\n",
              "      <td>Full-time</td>\n",
              "      <td>Bangalore</td>\n",
              "      <td>NaN</td>\n",
              "      <td>Not disclosed</td>\n",
              "      <td>Offial Website</td>\n",
              "      <td>NaN</td>\n",
              "      <td>NaT</td>\n",
              "      <td>https://careers.cognizant.com/in/en/Full-time/...</td>\n",
              "      <td>NaN</td>\n",
              "      <td>NaN</td>\n",
              "    </tr>\n",
              "    <tr>\n",
              "      <th>1</th>\n",
              "      <td>2</td>\n",
              "      <td>Congnizant</td>\n",
              "      <td>Programmer Analyst</td>\n",
              "      <td>triple zero 57162692</td>\n",
              "      <td>Full-time</td>\n",
              "      <td>Chennai</td>\n",
              "      <td>NaN</td>\n",
              "      <td>Not disclosed</td>\n",
              "      <td>Offial Website</td>\n",
              "      <td>NaN</td>\n",
              "      <td>NaT</td>\n",
              "      <td>Programmer Analyst Full-time | Cognizant Full-...</td>\n",
              "      <td>NaN</td>\n",
              "      <td>NaN</td>\n",
              "    </tr>\n",
              "    <tr>\n",
              "      <th>2</th>\n",
              "      <td>3</td>\n",
              "      <td>Ozibook Tech Solutions Private Limited</td>\n",
              "      <td>Data Analytics</td>\n",
              "      <td>NaN</td>\n",
              "      <td>Internship (part-time)</td>\n",
              "      <td>WFH (2 Month)</td>\n",
              "      <td>Jupyter Notebook, Python libraries (Matplotlib...</td>\n",
              "      <td>1000/month</td>\n",
              "      <td>Internshala</td>\n",
              "      <td>NaN</td>\n",
              "      <td>NaT</td>\n",
              "      <td>https://internshala.com/internship/detail/data...</td>\n",
              "      <td>NaN</td>\n",
              "      <td>NaN</td>\n",
              "    </tr>\n",
              "    <tr>\n",
              "      <th>3</th>\n",
              "      <td>4</td>\n",
              "      <td>Jivichem Synthesis Private Limited</td>\n",
              "      <td>Machine Learning</td>\n",
              "      <td>NaN</td>\n",
              "      <td>Internship (part-time)</td>\n",
              "      <td>WFH (1 Month)</td>\n",
              "      <td>Data Analytics, Data Science, Deep Learning, M...</td>\n",
              "      <td>12000/month</td>\n",
              "      <td>Internshala</td>\n",
              "      <td>NaN</td>\n",
              "      <td>NaT</td>\n",
              "      <td>Machine Learning Remote Part Time Internship a...</td>\n",
              "      <td>NaN</td>\n",
              "      <td>NaN</td>\n",
              "    </tr>\n",
              "    <tr>\n",
              "      <th>4</th>\n",
              "      <td>5</td>\n",
              "      <td>Ozibook Tech Solutions Private Limited</td>\n",
              "      <td>Business Analytics</td>\n",
              "      <td>Reason (Skills not suited to me)</td>\n",
              "      <td>Internship (part-time)</td>\n",
              "      <td>WFH (2 Month)</td>\n",
              "      <td>Google Docs, Google Sheets, Google Drive</td>\n",
              "      <td>1000/month</td>\n",
              "      <td>Internshala</td>\n",
              "      <td>NaN</td>\n",
              "      <td>NaT</td>\n",
              "      <td>https://internshala.com/internship/detail/busi...</td>\n",
              "      <td>NaN</td>\n",
              "      <td>NaN</td>\n",
              "    </tr>\n",
              "  </tbody>\n",
              "</table>\n",
              "</div>\n",
              "    <div class=\"colab-df-buttons\">\n",
              "\n",
              "  <div class=\"colab-df-container\">\n",
              "    <button class=\"colab-df-convert\" onclick=\"convertToInteractive('df-905c6b67-bba8-4484-8cce-47401c1628e8')\"\n",
              "            title=\"Convert this dataframe to an interactive table.\"\n",
              "            style=\"display:none;\">\n",
              "\n",
              "  <svg xmlns=\"http://www.w3.org/2000/svg\" height=\"24px\" viewBox=\"0 -960 960 960\">\n",
              "    <path d=\"M120-120v-720h720v720H120Zm60-500h600v-160H180v160Zm220 220h160v-160H400v160Zm0 220h160v-160H400v160ZM180-400h160v-160H180v160Zm440 0h160v-160H620v160ZM180-180h160v-160H180v160Zm440 0h160v-160H620v160Z\"/>\n",
              "  </svg>\n",
              "    </button>\n",
              "\n",
              "  <style>\n",
              "    .colab-df-container {\n",
              "      display:flex;\n",
              "      gap: 12px;\n",
              "    }\n",
              "\n",
              "    .colab-df-convert {\n",
              "      background-color: #E8F0FE;\n",
              "      border: none;\n",
              "      border-radius: 50%;\n",
              "      cursor: pointer;\n",
              "      display: none;\n",
              "      fill: #1967D2;\n",
              "      height: 32px;\n",
              "      padding: 0 0 0 0;\n",
              "      width: 32px;\n",
              "    }\n",
              "\n",
              "    .colab-df-convert:hover {\n",
              "      background-color: #E2EBFA;\n",
              "      box-shadow: 0px 1px 2px rgba(60, 64, 67, 0.3), 0px 1px 3px 1px rgba(60, 64, 67, 0.15);\n",
              "      fill: #174EA6;\n",
              "    }\n",
              "\n",
              "    .colab-df-buttons div {\n",
              "      margin-bottom: 4px;\n",
              "    }\n",
              "\n",
              "    [theme=dark] .colab-df-convert {\n",
              "      background-color: #3B4455;\n",
              "      fill: #D2E3FC;\n",
              "    }\n",
              "\n",
              "    [theme=dark] .colab-df-convert:hover {\n",
              "      background-color: #434B5C;\n",
              "      box-shadow: 0px 1px 3px 1px rgba(0, 0, 0, 0.15);\n",
              "      filter: drop-shadow(0px 1px 2px rgba(0, 0, 0, 0.3));\n",
              "      fill: #FFFFFF;\n",
              "    }\n",
              "  </style>\n",
              "\n",
              "    <script>\n",
              "      const buttonEl =\n",
              "        document.querySelector('#df-905c6b67-bba8-4484-8cce-47401c1628e8 button.colab-df-convert');\n",
              "      buttonEl.style.display =\n",
              "        google.colab.kernel.accessAllowed ? 'block' : 'none';\n",
              "\n",
              "      async function convertToInteractive(key) {\n",
              "        const element = document.querySelector('#df-905c6b67-bba8-4484-8cce-47401c1628e8');\n",
              "        const dataTable =\n",
              "          await google.colab.kernel.invokeFunction('convertToInteractive',\n",
              "                                                    [key], {});\n",
              "        if (!dataTable) return;\n",
              "\n",
              "        const docLinkHtml = 'Like what you see? Visit the ' +\n",
              "          '<a target=\"_blank\" href=https://colab.research.google.com/notebooks/data_table.ipynb>data table notebook</a>'\n",
              "          + ' to learn more about interactive tables.';\n",
              "        element.innerHTML = '';\n",
              "        dataTable['output_type'] = 'display_data';\n",
              "        await google.colab.output.renderOutput(dataTable, element);\n",
              "        const docLink = document.createElement('div');\n",
              "        docLink.innerHTML = docLinkHtml;\n",
              "        element.appendChild(docLink);\n",
              "      }\n",
              "    </script>\n",
              "  </div>\n",
              "\n",
              "\n",
              "<div id=\"df-4a32c821-f3f5-432d-b6a3-ca86a3d086cd\">\n",
              "  <button class=\"colab-df-quickchart\" onclick=\"quickchart('df-4a32c821-f3f5-432d-b6a3-ca86a3d086cd')\"\n",
              "            title=\"Suggest charts\"\n",
              "            style=\"display:none;\">\n",
              "\n",
              "<svg xmlns=\"http://www.w3.org/2000/svg\" height=\"24px\"viewBox=\"0 0 24 24\"\n",
              "     width=\"24px\">\n",
              "    <g>\n",
              "        <path d=\"M19 3H5c-1.1 0-2 .9-2 2v14c0 1.1.9 2 2 2h14c1.1 0 2-.9 2-2V5c0-1.1-.9-2-2-2zM9 17H7v-7h2v7zm4 0h-2V7h2v10zm4 0h-2v-4h2v4z\"/>\n",
              "    </g>\n",
              "</svg>\n",
              "  </button>\n",
              "\n",
              "<style>\n",
              "  .colab-df-quickchart {\n",
              "      --bg-color: #E8F0FE;\n",
              "      --fill-color: #1967D2;\n",
              "      --hover-bg-color: #E2EBFA;\n",
              "      --hover-fill-color: #174EA6;\n",
              "      --disabled-fill-color: #AAA;\n",
              "      --disabled-bg-color: #DDD;\n",
              "  }\n",
              "\n",
              "  [theme=dark] .colab-df-quickchart {\n",
              "      --bg-color: #3B4455;\n",
              "      --fill-color: #D2E3FC;\n",
              "      --hover-bg-color: #434B5C;\n",
              "      --hover-fill-color: #FFFFFF;\n",
              "      --disabled-bg-color: #3B4455;\n",
              "      --disabled-fill-color: #666;\n",
              "  }\n",
              "\n",
              "  .colab-df-quickchart {\n",
              "    background-color: var(--bg-color);\n",
              "    border: none;\n",
              "    border-radius: 50%;\n",
              "    cursor: pointer;\n",
              "    display: none;\n",
              "    fill: var(--fill-color);\n",
              "    height: 32px;\n",
              "    padding: 0;\n",
              "    width: 32px;\n",
              "  }\n",
              "\n",
              "  .colab-df-quickchart:hover {\n",
              "    background-color: var(--hover-bg-color);\n",
              "    box-shadow: 0 1px 2px rgba(60, 64, 67, 0.3), 0 1px 3px 1px rgba(60, 64, 67, 0.15);\n",
              "    fill: var(--button-hover-fill-color);\n",
              "  }\n",
              "\n",
              "  .colab-df-quickchart-complete:disabled,\n",
              "  .colab-df-quickchart-complete:disabled:hover {\n",
              "    background-color: var(--disabled-bg-color);\n",
              "    fill: var(--disabled-fill-color);\n",
              "    box-shadow: none;\n",
              "  }\n",
              "\n",
              "  .colab-df-spinner {\n",
              "    border: 2px solid var(--fill-color);\n",
              "    border-color: transparent;\n",
              "    border-bottom-color: var(--fill-color);\n",
              "    animation:\n",
              "      spin 1s steps(1) infinite;\n",
              "  }\n",
              "\n",
              "  @keyframes spin {\n",
              "    0% {\n",
              "      border-color: transparent;\n",
              "      border-bottom-color: var(--fill-color);\n",
              "      border-left-color: var(--fill-color);\n",
              "    }\n",
              "    20% {\n",
              "      border-color: transparent;\n",
              "      border-left-color: var(--fill-color);\n",
              "      border-top-color: var(--fill-color);\n",
              "    }\n",
              "    30% {\n",
              "      border-color: transparent;\n",
              "      border-left-color: var(--fill-color);\n",
              "      border-top-color: var(--fill-color);\n",
              "      border-right-color: var(--fill-color);\n",
              "    }\n",
              "    40% {\n",
              "      border-color: transparent;\n",
              "      border-right-color: var(--fill-color);\n",
              "      border-top-color: var(--fill-color);\n",
              "    }\n",
              "    60% {\n",
              "      border-color: transparent;\n",
              "      border-right-color: var(--fill-color);\n",
              "    }\n",
              "    80% {\n",
              "      border-color: transparent;\n",
              "      border-right-color: var(--fill-color);\n",
              "      border-bottom-color: var(--fill-color);\n",
              "    }\n",
              "    90% {\n",
              "      border-color: transparent;\n",
              "      border-bottom-color: var(--fill-color);\n",
              "    }\n",
              "  }\n",
              "</style>\n",
              "\n",
              "  <script>\n",
              "    async function quickchart(key) {\n",
              "      const quickchartButtonEl =\n",
              "        document.querySelector('#' + key + ' button');\n",
              "      quickchartButtonEl.disabled = true;  // To prevent multiple clicks.\n",
              "      quickchartButtonEl.classList.add('colab-df-spinner');\n",
              "      try {\n",
              "        const charts = await google.colab.kernel.invokeFunction(\n",
              "            'suggestCharts', [key], {});\n",
              "      } catch (error) {\n",
              "        console.error('Error during call to suggestCharts:', error);\n",
              "      }\n",
              "      quickchartButtonEl.classList.remove('colab-df-spinner');\n",
              "      quickchartButtonEl.classList.add('colab-df-quickchart-complete');\n",
              "    }\n",
              "    (() => {\n",
              "      let quickchartButtonEl =\n",
              "        document.querySelector('#df-4a32c821-f3f5-432d-b6a3-ca86a3d086cd button');\n",
              "      quickchartButtonEl.style.display =\n",
              "        google.colab.kernel.accessAllowed ? 'block' : 'none';\n",
              "    })();\n",
              "  </script>\n",
              "</div>\n",
              "\n",
              "    </div>\n",
              "  </div>\n"
            ],
            "application/vnd.google.colaboratory.intrinsic+json": {
              "type": "dataframe",
              "variable_name": "df",
              "summary": "{\n  \"name\": \"df\",\n  \"rows\": 278,\n  \"fields\": [\n    {\n      \"column\": \"SeriealNumber\",\n      \"properties\": {\n        \"dtype\": \"number\",\n        \"std\": 80,\n        \"min\": 1,\n        \"max\": 278,\n        \"num_unique_values\": 278,\n        \"samples\": [\n          31,\n          127,\n          200\n        ],\n        \"semantic_type\": \"\",\n        \"description\": \"\"\n      }\n    },\n    {\n      \"column\": \"CompanyName\",\n      \"properties\": {\n        \"dtype\": \"string\",\n        \"num_unique_values\": 200,\n        \"samples\": [\n          \"NextGen Technologies \\u00b7\",\n          \"V5 Global Services Private Limited\",\n          \"Insticator\"\n        ],\n        \"semantic_type\": \"\",\n        \"description\": \"\"\n      }\n    },\n    {\n      \"column\": \"Job_Role\",\n      \"properties\": {\n        \"dtype\": \"category\",\n        \"num_unique_values\": 96,\n        \"samples\": [\n          \"Data Labs Intern\",\n          \"Software Development\",\n          \"Data Analyst / Data Scientist (Power BI / Python)\"\n        ],\n        \"semantic_type\": \"\",\n        \"description\": \"\"\n      }\n    },\n    {\n      \"column\": \"JobID\",\n      \"properties\": {\n        \"dtype\": \"category\",\n        \"num_unique_values\": 37,\n        \"samples\": [\n          \"2816\",\n          \"T500-9791\",\n          \"47343BR\"\n        ],\n        \"semantic_type\": \"\",\n        \"description\": \"\"\n      }\n    },\n    {\n      \"column\": \"Type\",\n      \"properties\": {\n        \"dtype\": \"category\",\n        \"num_unique_values\": 23,\n        \"samples\": [\n          \"Internship (6 Months)\",\n          \"Full-Time\",\n          \"Full-time\"\n        ],\n        \"semantic_type\": \"\",\n        \"description\": \"\"\n      }\n    },\n    {\n      \"column\": \"Location\",\n      \"properties\": {\n        \"dtype\": \"category\",\n        \"num_unique_values\": 44,\n        \"samples\": [\n          \"New Delhi\",\n          \"Remote (Bangalore office)\",\n          \"Remote (Bengaluru office)\"\n        ],\n        \"semantic_type\": \"\",\n        \"description\": \"\"\n      }\n    },\n    {\n      \"column\": \"Skills\",\n      \"properties\": {\n        \"dtype\": \"string\",\n        \"num_unique_values\": 198,\n        \"samples\": [\n          \"Analytics \\u00b7 Statistical Data Analysis \\u00b7 Statistics \\u00b7 Data Engineering \\u00b7 Data Visualization \\u00b7 Deep Learning \\u00b7 Data Analytics \\u00b7 Predictive Analytics \\u00b7 Natural Language Processing (NLP) \\u00b7 Cascading Style Sheets (CSS)\",\n          \"Business Analytics, Data Analysis, Data Analytics, Data Science, and Statistical Data Analysis, Big Data Analytics, Business Analysis, Financial Analysis, HR Analytics, and Quality Analysis\",\n          \"Python, SQL, Statistics, Mathematics, Power BI\"\n        ],\n        \"semantic_type\": \"\",\n        \"description\": \"\"\n      }\n    },\n    {\n      \"column\": \"CTC\",\n      \"properties\": {\n        \"dtype\": \"category\",\n        \"num_unique_values\": 52,\n        \"samples\": [\n          \"8-18 Lacs P.A.\",\n          \"15 - 20 L / annum + ESOPs\",\n          \"\\u20b920,000 - \\u20b930,000 a month\"\n        ],\n        \"semantic_type\": \"\",\n        \"description\": \"\"\n      }\n    },\n    {\n      \"column\": \"AppliedThrough\",\n      \"properties\": {\n        \"dtype\": \"category\",\n        \"num_unique_values\": 18,\n        \"samples\": [\n          \"Offial Website\",\n          \"Internshala\",\n          \"Website\"\n        ],\n        \"semantic_type\": \"\",\n        \"description\": \"\"\n      }\n    },\n    {\n      \"column\": \"Comments\",\n      \"properties\": {\n        \"dtype\": \"category\",\n        \"num_unique_values\": 14,\n        \"samples\": [\n          \"GForm \",\n          \"Assessment done\",\n          \"Sent msg to- Somdeep Acharyya (on LinkedIn)\"\n        ],\n        \"semantic_type\": \"\",\n        \"description\": \"\"\n      }\n    },\n    {\n      \"column\": \"DateApplied\",\n      \"properties\": {\n        \"dtype\": \"date\",\n        \"min\": \"2024-01-13 00:00:00\",\n        \"max\": \"2024-03-16 00:00:00\",\n        \"num_unique_values\": 40,\n        \"samples\": [\n          \"2024-02-15 00:00:00\",\n          \"2024-02-09 00:00:00\",\n          \"2024-02-08 00:00:00\"\n        ],\n        \"semantic_type\": \"\",\n        \"description\": \"\"\n      }\n    },\n    {\n      \"column\": \"Link1\",\n      \"properties\": {\n        \"dtype\": \"string\",\n        \"num_unique_values\": 225,\n        \"samples\": [\n          \"https://sFull-times.brassring.com/TGnewUI/Search/home/HomeWithPreLoad?Full-timeid=1999448&codes=OT&siteid=5359&partnerid=25235&PageType=Full-timeDetails#Full-timeDetails=1999448_5359\",\n          \"https://www.naukri.com/job-listings-trainee-development-gaan-software-pvt-ltd-bengaluru-0-to-1-years-010324001268?xp=4&src=cja20240303920&xid=20240303920%255Egm%255E268080670&uid=268080670&alertId=&utm_campaign=cja_mailer&utm_medium=email&utm_source=joblink&utm_content=job_alerts_cja___job_alerts_cja&utm_term=20240303920\",\n          \"https://www.linkedin.com/jobs/view/3822674999\"\n        ],\n        \"semantic_type\": \"\",\n        \"description\": \"\"\n      }\n    },\n    {\n      \"column\": \"Link2\",\n      \"properties\": {\n        \"dtype\": \"category\",\n        \"num_unique_values\": 14,\n        \"samples\": [\n          \"https://app.ismartrecruit.com/jobDescription?x=E7pZW5kemVydC5jb21fMjE3OV9MSU5LRURJTg==Q9e\",\n          \"https://www.ldc.com/careers/join-ldc/job-details/?id=ad6aeb0d-9102-4d26-8d16-22fbd76eb387\",\n          \"https://www.linkedin.com/jobs/view/3812712868/?refId=91b3bc0e-8dba-4057-834c-b71bd07e7422&trackingId=vWFGe2RlQ2KtiuroOCQgxA%3D%3D&trk=flagship3_job_home_savedjobs\"\n        ],\n        \"semantic_type\": \"\",\n        \"description\": \"\"\n      }\n    },\n    {\n      \"column\": \"month\",\n      \"properties\": {\n        \"dtype\": \"number\",\n        \"std\": 0.6658156222357403,\n        \"min\": 1.0,\n        \"max\": 3.0,\n        \"num_unique_values\": 3,\n        \"samples\": [\n          1.0,\n          2.0,\n          3.0\n        ],\n        \"semantic_type\": \"\",\n        \"description\": \"\"\n      }\n    }\n  ]\n}"
            }
          },
          "metadata": {},
          "execution_count": 325
        }
      ]
    },
    {
      "cell_type": "code",
      "source": [
        "df = df.dropna(subset={'CompanyName', 'DateApplied'})\n",
        "df.tail(3)"
      ],
      "metadata": {
        "colab": {
          "base_uri": "https://localhost:8080/",
          "height": 354
        },
        "id": "6BSo1d2Za2Ry",
        "outputId": "d30f4654-7cbd-4147-e137-1b8dbbc5cd0f"
      },
      "execution_count": null,
      "outputs": [
        {
          "output_type": "execute_result",
          "data": {
            "text/plain": [
              "     SeriealNumber          CompanyName  \\\n",
              "230            231                  WCG   \n",
              "231            232    Johnson & Johnson   \n",
              "232            233  Elite Met Solutions   \n",
              "\n",
              "                                    Job_Role        JobID       Type Location  \\\n",
              "230            Jr. Data & Analytics Engineer          NaN  Full-Time   Remote   \n",
              "231  Data analyst – Commercial Effectiveness  2406174230W  Full-Time     Pune   \n",
              "232                 Data Analyst / Analytics          NaN  Full-Time  Chennai   \n",
              "\n",
              "                                                Skills  \\\n",
              "230  Python, data manipulation and analysis using S...   \n",
              "231  Excel, Demonstrated proficiency with Data Scie...   \n",
              "232  Advance in SQL and Excel, tableau,power bi, Py...   \n",
              "\n",
              "                           CTC    AppliedThrough Comments DateApplied  \\\n",
              "230              Not disclosed  Official website      NaN  2024-03-15   \n",
              "231              Not disclosed  Official website      NaN  2024-03-15   \n",
              "232  ₹400,000/yr - ₹500,000/yr          LinkedIn      NaN  2024-03-16   \n",
              "\n",
              "                                                 Link1  \\\n",
              "230  https://careers.wcgclinical.com/careers/Folder...   \n",
              "231  https://jnjc.taleo.net/careersection/careersec...   \n",
              "232      https://www.linkedin.com/jobs/view/3859741383   \n",
              "\n",
              "                                             Link2  month  \n",
              "230  https://www.linkedin.com/jobs/view/3818212303    3.0  \n",
              "231                                            NaN    3.0  \n",
              "232                                            NaN    3.0  "
            ],
            "text/html": [
              "\n",
              "  <div id=\"df-9f79c11f-bcb5-43dc-9bc5-c421ed82087f\" class=\"colab-df-container\">\n",
              "    <div>\n",
              "<style scoped>\n",
              "    .dataframe tbody tr th:only-of-type {\n",
              "        vertical-align: middle;\n",
              "    }\n",
              "\n",
              "    .dataframe tbody tr th {\n",
              "        vertical-align: top;\n",
              "    }\n",
              "\n",
              "    .dataframe thead th {\n",
              "        text-align: right;\n",
              "    }\n",
              "</style>\n",
              "<table border=\"1\" class=\"dataframe\">\n",
              "  <thead>\n",
              "    <tr style=\"text-align: right;\">\n",
              "      <th></th>\n",
              "      <th>SeriealNumber</th>\n",
              "      <th>CompanyName</th>\n",
              "      <th>Job_Role</th>\n",
              "      <th>JobID</th>\n",
              "      <th>Type</th>\n",
              "      <th>Location</th>\n",
              "      <th>Skills</th>\n",
              "      <th>CTC</th>\n",
              "      <th>AppliedThrough</th>\n",
              "      <th>Comments</th>\n",
              "      <th>DateApplied</th>\n",
              "      <th>Link1</th>\n",
              "      <th>Link2</th>\n",
              "      <th>month</th>\n",
              "    </tr>\n",
              "  </thead>\n",
              "  <tbody>\n",
              "    <tr>\n",
              "      <th>230</th>\n",
              "      <td>231</td>\n",
              "      <td>WCG</td>\n",
              "      <td>Jr. Data &amp; Analytics Engineer</td>\n",
              "      <td>NaN</td>\n",
              "      <td>Full-Time</td>\n",
              "      <td>Remote</td>\n",
              "      <td>Python, data manipulation and analysis using S...</td>\n",
              "      <td>Not disclosed</td>\n",
              "      <td>Official website</td>\n",
              "      <td>NaN</td>\n",
              "      <td>2024-03-15</td>\n",
              "      <td>https://careers.wcgclinical.com/careers/Folder...</td>\n",
              "      <td>https://www.linkedin.com/jobs/view/3818212303</td>\n",
              "      <td>3.0</td>\n",
              "    </tr>\n",
              "    <tr>\n",
              "      <th>231</th>\n",
              "      <td>232</td>\n",
              "      <td>Johnson &amp; Johnson</td>\n",
              "      <td>Data analyst – Commercial Effectiveness</td>\n",
              "      <td>2406174230W</td>\n",
              "      <td>Full-Time</td>\n",
              "      <td>Pune</td>\n",
              "      <td>Excel, Demonstrated proficiency with Data Scie...</td>\n",
              "      <td>Not disclosed</td>\n",
              "      <td>Official website</td>\n",
              "      <td>NaN</td>\n",
              "      <td>2024-03-15</td>\n",
              "      <td>https://jnjc.taleo.net/careersection/careersec...</td>\n",
              "      <td>NaN</td>\n",
              "      <td>3.0</td>\n",
              "    </tr>\n",
              "    <tr>\n",
              "      <th>232</th>\n",
              "      <td>233</td>\n",
              "      <td>Elite Met Solutions</td>\n",
              "      <td>Data Analyst / Analytics</td>\n",
              "      <td>NaN</td>\n",
              "      <td>Full-Time</td>\n",
              "      <td>Chennai</td>\n",
              "      <td>Advance in SQL and Excel, tableau,power bi, Py...</td>\n",
              "      <td>₹400,000/yr - ₹500,000/yr</td>\n",
              "      <td>LinkedIn</td>\n",
              "      <td>NaN</td>\n",
              "      <td>2024-03-16</td>\n",
              "      <td>https://www.linkedin.com/jobs/view/3859741383</td>\n",
              "      <td>NaN</td>\n",
              "      <td>3.0</td>\n",
              "    </tr>\n",
              "  </tbody>\n",
              "</table>\n",
              "</div>\n",
              "    <div class=\"colab-df-buttons\">\n",
              "\n",
              "  <div class=\"colab-df-container\">\n",
              "    <button class=\"colab-df-convert\" onclick=\"convertToInteractive('df-9f79c11f-bcb5-43dc-9bc5-c421ed82087f')\"\n",
              "            title=\"Convert this dataframe to an interactive table.\"\n",
              "            style=\"display:none;\">\n",
              "\n",
              "  <svg xmlns=\"http://www.w3.org/2000/svg\" height=\"24px\" viewBox=\"0 -960 960 960\">\n",
              "    <path d=\"M120-120v-720h720v720H120Zm60-500h600v-160H180v160Zm220 220h160v-160H400v160Zm0 220h160v-160H400v160ZM180-400h160v-160H180v160Zm440 0h160v-160H620v160ZM180-180h160v-160H180v160Zm440 0h160v-160H620v160Z\"/>\n",
              "  </svg>\n",
              "    </button>\n",
              "\n",
              "  <style>\n",
              "    .colab-df-container {\n",
              "      display:flex;\n",
              "      gap: 12px;\n",
              "    }\n",
              "\n",
              "    .colab-df-convert {\n",
              "      background-color: #E8F0FE;\n",
              "      border: none;\n",
              "      border-radius: 50%;\n",
              "      cursor: pointer;\n",
              "      display: none;\n",
              "      fill: #1967D2;\n",
              "      height: 32px;\n",
              "      padding: 0 0 0 0;\n",
              "      width: 32px;\n",
              "    }\n",
              "\n",
              "    .colab-df-convert:hover {\n",
              "      background-color: #E2EBFA;\n",
              "      box-shadow: 0px 1px 2px rgba(60, 64, 67, 0.3), 0px 1px 3px 1px rgba(60, 64, 67, 0.15);\n",
              "      fill: #174EA6;\n",
              "    }\n",
              "\n",
              "    .colab-df-buttons div {\n",
              "      margin-bottom: 4px;\n",
              "    }\n",
              "\n",
              "    [theme=dark] .colab-df-convert {\n",
              "      background-color: #3B4455;\n",
              "      fill: #D2E3FC;\n",
              "    }\n",
              "\n",
              "    [theme=dark] .colab-df-convert:hover {\n",
              "      background-color: #434B5C;\n",
              "      box-shadow: 0px 1px 3px 1px rgba(0, 0, 0, 0.15);\n",
              "      filter: drop-shadow(0px 1px 2px rgba(0, 0, 0, 0.3));\n",
              "      fill: #FFFFFF;\n",
              "    }\n",
              "  </style>\n",
              "\n",
              "    <script>\n",
              "      const buttonEl =\n",
              "        document.querySelector('#df-9f79c11f-bcb5-43dc-9bc5-c421ed82087f button.colab-df-convert');\n",
              "      buttonEl.style.display =\n",
              "        google.colab.kernel.accessAllowed ? 'block' : 'none';\n",
              "\n",
              "      async function convertToInteractive(key) {\n",
              "        const element = document.querySelector('#df-9f79c11f-bcb5-43dc-9bc5-c421ed82087f');\n",
              "        const dataTable =\n",
              "          await google.colab.kernel.invokeFunction('convertToInteractive',\n",
              "                                                    [key], {});\n",
              "        if (!dataTable) return;\n",
              "\n",
              "        const docLinkHtml = 'Like what you see? Visit the ' +\n",
              "          '<a target=\"_blank\" href=https://colab.research.google.com/notebooks/data_table.ipynb>data table notebook</a>'\n",
              "          + ' to learn more about interactive tables.';\n",
              "        element.innerHTML = '';\n",
              "        dataTable['output_type'] = 'display_data';\n",
              "        await google.colab.output.renderOutput(dataTable, element);\n",
              "        const docLink = document.createElement('div');\n",
              "        docLink.innerHTML = docLinkHtml;\n",
              "        element.appendChild(docLink);\n",
              "      }\n",
              "    </script>\n",
              "  </div>\n",
              "\n",
              "\n",
              "<div id=\"df-7d473389-27c3-4fe2-bf65-d905156f1a7f\">\n",
              "  <button class=\"colab-df-quickchart\" onclick=\"quickchart('df-7d473389-27c3-4fe2-bf65-d905156f1a7f')\"\n",
              "            title=\"Suggest charts\"\n",
              "            style=\"display:none;\">\n",
              "\n",
              "<svg xmlns=\"http://www.w3.org/2000/svg\" height=\"24px\"viewBox=\"0 0 24 24\"\n",
              "     width=\"24px\">\n",
              "    <g>\n",
              "        <path d=\"M19 3H5c-1.1 0-2 .9-2 2v14c0 1.1.9 2 2 2h14c1.1 0 2-.9 2-2V5c0-1.1-.9-2-2-2zM9 17H7v-7h2v7zm4 0h-2V7h2v10zm4 0h-2v-4h2v4z\"/>\n",
              "    </g>\n",
              "</svg>\n",
              "  </button>\n",
              "\n",
              "<style>\n",
              "  .colab-df-quickchart {\n",
              "      --bg-color: #E8F0FE;\n",
              "      --fill-color: #1967D2;\n",
              "      --hover-bg-color: #E2EBFA;\n",
              "      --hover-fill-color: #174EA6;\n",
              "      --disabled-fill-color: #AAA;\n",
              "      --disabled-bg-color: #DDD;\n",
              "  }\n",
              "\n",
              "  [theme=dark] .colab-df-quickchart {\n",
              "      --bg-color: #3B4455;\n",
              "      --fill-color: #D2E3FC;\n",
              "      --hover-bg-color: #434B5C;\n",
              "      --hover-fill-color: #FFFFFF;\n",
              "      --disabled-bg-color: #3B4455;\n",
              "      --disabled-fill-color: #666;\n",
              "  }\n",
              "\n",
              "  .colab-df-quickchart {\n",
              "    background-color: var(--bg-color);\n",
              "    border: none;\n",
              "    border-radius: 50%;\n",
              "    cursor: pointer;\n",
              "    display: none;\n",
              "    fill: var(--fill-color);\n",
              "    height: 32px;\n",
              "    padding: 0;\n",
              "    width: 32px;\n",
              "  }\n",
              "\n",
              "  .colab-df-quickchart:hover {\n",
              "    background-color: var(--hover-bg-color);\n",
              "    box-shadow: 0 1px 2px rgba(60, 64, 67, 0.3), 0 1px 3px 1px rgba(60, 64, 67, 0.15);\n",
              "    fill: var(--button-hover-fill-color);\n",
              "  }\n",
              "\n",
              "  .colab-df-quickchart-complete:disabled,\n",
              "  .colab-df-quickchart-complete:disabled:hover {\n",
              "    background-color: var(--disabled-bg-color);\n",
              "    fill: var(--disabled-fill-color);\n",
              "    box-shadow: none;\n",
              "  }\n",
              "\n",
              "  .colab-df-spinner {\n",
              "    border: 2px solid var(--fill-color);\n",
              "    border-color: transparent;\n",
              "    border-bottom-color: var(--fill-color);\n",
              "    animation:\n",
              "      spin 1s steps(1) infinite;\n",
              "  }\n",
              "\n",
              "  @keyframes spin {\n",
              "    0% {\n",
              "      border-color: transparent;\n",
              "      border-bottom-color: var(--fill-color);\n",
              "      border-left-color: var(--fill-color);\n",
              "    }\n",
              "    20% {\n",
              "      border-color: transparent;\n",
              "      border-left-color: var(--fill-color);\n",
              "      border-top-color: var(--fill-color);\n",
              "    }\n",
              "    30% {\n",
              "      border-color: transparent;\n",
              "      border-left-color: var(--fill-color);\n",
              "      border-top-color: var(--fill-color);\n",
              "      border-right-color: var(--fill-color);\n",
              "    }\n",
              "    40% {\n",
              "      border-color: transparent;\n",
              "      border-right-color: var(--fill-color);\n",
              "      border-top-color: var(--fill-color);\n",
              "    }\n",
              "    60% {\n",
              "      border-color: transparent;\n",
              "      border-right-color: var(--fill-color);\n",
              "    }\n",
              "    80% {\n",
              "      border-color: transparent;\n",
              "      border-right-color: var(--fill-color);\n",
              "      border-bottom-color: var(--fill-color);\n",
              "    }\n",
              "    90% {\n",
              "      border-color: transparent;\n",
              "      border-bottom-color: var(--fill-color);\n",
              "    }\n",
              "  }\n",
              "</style>\n",
              "\n",
              "  <script>\n",
              "    async function quickchart(key) {\n",
              "      const quickchartButtonEl =\n",
              "        document.querySelector('#' + key + ' button');\n",
              "      quickchartButtonEl.disabled = true;  // To prevent multiple clicks.\n",
              "      quickchartButtonEl.classList.add('colab-df-spinner');\n",
              "      try {\n",
              "        const charts = await google.colab.kernel.invokeFunction(\n",
              "            'suggestCharts', [key], {});\n",
              "      } catch (error) {\n",
              "        console.error('Error during call to suggestCharts:', error);\n",
              "      }\n",
              "      quickchartButtonEl.classList.remove('colab-df-spinner');\n",
              "      quickchartButtonEl.classList.add('colab-df-quickchart-complete');\n",
              "    }\n",
              "    (() => {\n",
              "      let quickchartButtonEl =\n",
              "        document.querySelector('#df-7d473389-27c3-4fe2-bf65-d905156f1a7f button');\n",
              "      quickchartButtonEl.style.display =\n",
              "        google.colab.kernel.accessAllowed ? 'block' : 'none';\n",
              "    })();\n",
              "  </script>\n",
              "</div>\n",
              "\n",
              "    </div>\n",
              "  </div>\n"
            ],
            "application/vnd.google.colaboratory.intrinsic+json": {
              "type": "dataframe",
              "repr_error": "0"
            }
          },
          "metadata": {},
          "execution_count": 326
        }
      ]
    },
    {
      "cell_type": "code",
      "source": [
        "df.isnull().sum()"
      ],
      "metadata": {
        "colab": {
          "base_uri": "https://localhost:8080/"
        },
        "id": "L6196gM6Xg9Z",
        "outputId": "287f8613-5388-460c-fad4-922b206962c3"
      },
      "execution_count": null,
      "outputs": [
        {
          "output_type": "execute_result",
          "data": {
            "text/plain": [
              "SeriealNumber       0\n",
              "CompanyName         0\n",
              "Job_Role            0\n",
              "JobID             178\n",
              "Type                5\n",
              "Location            4\n",
              "Skills             19\n",
              "CTC                 2\n",
              "AppliedThrough      2\n",
              "Comments          194\n",
              "DateApplied         0\n",
              "Link1               3\n",
              "Link2             192\n",
              "month               0\n",
              "dtype: int64"
            ]
          },
          "metadata": {},
          "execution_count": 327
        }
      ]
    },
    {
      "cell_type": "code",
      "source": [
        "df.drop(['JobID','Comments', 'Link2'], axis=1, inplace=True, errors='ignore')\n",
        "df.sample()"
      ],
      "metadata": {
        "colab": {
          "base_uri": "https://localhost:8080/",
          "height": 98
        },
        "id": "qYifhOmdGX9p",
        "outputId": "d6e0052d-2928-4481-f9f8-6b551d7a6c79"
      },
      "execution_count": null,
      "outputs": [
        {
          "output_type": "execute_result",
          "data": {
            "text/plain": [
              "    SeriealNumber CompanyName                             Job_Role  \\\n",
              "98             99      Findem  Researcher - Data Operations Intern   \n",
              "\n",
              "                     Type Location                              Skills  \\\n",
              "98  Internship (6 Months)   Remote  Excel, Machine learning, Analytics   \n",
              "\n",
              "             CTC AppliedThrough DateApplied  \\\n",
              "98  ₹10000/month     Naukri.com  2024-02-04   \n",
              "\n",
              "                                               Link1  month  \n",
              "98  https://www.naukri.com/job-listings-100124501004    2.0  "
            ],
            "text/html": [
              "\n",
              "  <div id=\"df-8371f64f-0953-44e2-911f-ac11b10d6b56\" class=\"colab-df-container\">\n",
              "    <div>\n",
              "<style scoped>\n",
              "    .dataframe tbody tr th:only-of-type {\n",
              "        vertical-align: middle;\n",
              "    }\n",
              "\n",
              "    .dataframe tbody tr th {\n",
              "        vertical-align: top;\n",
              "    }\n",
              "\n",
              "    .dataframe thead th {\n",
              "        text-align: right;\n",
              "    }\n",
              "</style>\n",
              "<table border=\"1\" class=\"dataframe\">\n",
              "  <thead>\n",
              "    <tr style=\"text-align: right;\">\n",
              "      <th></th>\n",
              "      <th>SeriealNumber</th>\n",
              "      <th>CompanyName</th>\n",
              "      <th>Job_Role</th>\n",
              "      <th>Type</th>\n",
              "      <th>Location</th>\n",
              "      <th>Skills</th>\n",
              "      <th>CTC</th>\n",
              "      <th>AppliedThrough</th>\n",
              "      <th>DateApplied</th>\n",
              "      <th>Link1</th>\n",
              "      <th>month</th>\n",
              "    </tr>\n",
              "  </thead>\n",
              "  <tbody>\n",
              "    <tr>\n",
              "      <th>98</th>\n",
              "      <td>99</td>\n",
              "      <td>Findem</td>\n",
              "      <td>Researcher - Data Operations Intern</td>\n",
              "      <td>Internship (6 Months)</td>\n",
              "      <td>Remote</td>\n",
              "      <td>Excel, Machine learning, Analytics</td>\n",
              "      <td>₹10000/month</td>\n",
              "      <td>Naukri.com</td>\n",
              "      <td>2024-02-04</td>\n",
              "      <td>https://www.naukri.com/job-listings-100124501004</td>\n",
              "      <td>2.0</td>\n",
              "    </tr>\n",
              "  </tbody>\n",
              "</table>\n",
              "</div>\n",
              "    <div class=\"colab-df-buttons\">\n",
              "\n",
              "  <div class=\"colab-df-container\">\n",
              "    <button class=\"colab-df-convert\" onclick=\"convertToInteractive('df-8371f64f-0953-44e2-911f-ac11b10d6b56')\"\n",
              "            title=\"Convert this dataframe to an interactive table.\"\n",
              "            style=\"display:none;\">\n",
              "\n",
              "  <svg xmlns=\"http://www.w3.org/2000/svg\" height=\"24px\" viewBox=\"0 -960 960 960\">\n",
              "    <path d=\"M120-120v-720h720v720H120Zm60-500h600v-160H180v160Zm220 220h160v-160H400v160Zm0 220h160v-160H400v160ZM180-400h160v-160H180v160Zm440 0h160v-160H620v160ZM180-180h160v-160H180v160Zm440 0h160v-160H620v160Z\"/>\n",
              "  </svg>\n",
              "    </button>\n",
              "\n",
              "  <style>\n",
              "    .colab-df-container {\n",
              "      display:flex;\n",
              "      gap: 12px;\n",
              "    }\n",
              "\n",
              "    .colab-df-convert {\n",
              "      background-color: #E8F0FE;\n",
              "      border: none;\n",
              "      border-radius: 50%;\n",
              "      cursor: pointer;\n",
              "      display: none;\n",
              "      fill: #1967D2;\n",
              "      height: 32px;\n",
              "      padding: 0 0 0 0;\n",
              "      width: 32px;\n",
              "    }\n",
              "\n",
              "    .colab-df-convert:hover {\n",
              "      background-color: #E2EBFA;\n",
              "      box-shadow: 0px 1px 2px rgba(60, 64, 67, 0.3), 0px 1px 3px 1px rgba(60, 64, 67, 0.15);\n",
              "      fill: #174EA6;\n",
              "    }\n",
              "\n",
              "    .colab-df-buttons div {\n",
              "      margin-bottom: 4px;\n",
              "    }\n",
              "\n",
              "    [theme=dark] .colab-df-convert {\n",
              "      background-color: #3B4455;\n",
              "      fill: #D2E3FC;\n",
              "    }\n",
              "\n",
              "    [theme=dark] .colab-df-convert:hover {\n",
              "      background-color: #434B5C;\n",
              "      box-shadow: 0px 1px 3px 1px rgba(0, 0, 0, 0.15);\n",
              "      filter: drop-shadow(0px 1px 2px rgba(0, 0, 0, 0.3));\n",
              "      fill: #FFFFFF;\n",
              "    }\n",
              "  </style>\n",
              "\n",
              "    <script>\n",
              "      const buttonEl =\n",
              "        document.querySelector('#df-8371f64f-0953-44e2-911f-ac11b10d6b56 button.colab-df-convert');\n",
              "      buttonEl.style.display =\n",
              "        google.colab.kernel.accessAllowed ? 'block' : 'none';\n",
              "\n",
              "      async function convertToInteractive(key) {\n",
              "        const element = document.querySelector('#df-8371f64f-0953-44e2-911f-ac11b10d6b56');\n",
              "        const dataTable =\n",
              "          await google.colab.kernel.invokeFunction('convertToInteractive',\n",
              "                                                    [key], {});\n",
              "        if (!dataTable) return;\n",
              "\n",
              "        const docLinkHtml = 'Like what you see? Visit the ' +\n",
              "          '<a target=\"_blank\" href=https://colab.research.google.com/notebooks/data_table.ipynb>data table notebook</a>'\n",
              "          + ' to learn more about interactive tables.';\n",
              "        element.innerHTML = '';\n",
              "        dataTable['output_type'] = 'display_data';\n",
              "        await google.colab.output.renderOutput(dataTable, element);\n",
              "        const docLink = document.createElement('div');\n",
              "        docLink.innerHTML = docLinkHtml;\n",
              "        element.appendChild(docLink);\n",
              "      }\n",
              "    </script>\n",
              "  </div>\n",
              "\n",
              "\n",
              "    </div>\n",
              "  </div>\n"
            ],
            "application/vnd.google.colaboratory.intrinsic+json": {
              "type": "dataframe",
              "summary": "{\n  \"name\": \"df\",\n  \"rows\": 1,\n  \"fields\": [\n    {\n      \"column\": \"SeriealNumber\",\n      \"properties\": {\n        \"dtype\": \"number\",\n        \"std\": null,\n        \"min\": 99,\n        \"max\": 99,\n        \"num_unique_values\": 1,\n        \"samples\": [\n          99\n        ],\n        \"semantic_type\": \"\",\n        \"description\": \"\"\n      }\n    },\n    {\n      \"column\": \"CompanyName\",\n      \"properties\": {\n        \"dtype\": \"string\",\n        \"num_unique_values\": 1,\n        \"samples\": [\n          \"Findem\"\n        ],\n        \"semantic_type\": \"\",\n        \"description\": \"\"\n      }\n    },\n    {\n      \"column\": \"Job_Role\",\n      \"properties\": {\n        \"dtype\": \"string\",\n        \"num_unique_values\": 1,\n        \"samples\": [\n          \"Researcher - Data Operations Intern\"\n        ],\n        \"semantic_type\": \"\",\n        \"description\": \"\"\n      }\n    },\n    {\n      \"column\": \"Type\",\n      \"properties\": {\n        \"dtype\": \"string\",\n        \"num_unique_values\": 1,\n        \"samples\": [\n          \"Internship (6 Months)\"\n        ],\n        \"semantic_type\": \"\",\n        \"description\": \"\"\n      }\n    },\n    {\n      \"column\": \"Location\",\n      \"properties\": {\n        \"dtype\": \"string\",\n        \"num_unique_values\": 1,\n        \"samples\": [\n          \"Remote\"\n        ],\n        \"semantic_type\": \"\",\n        \"description\": \"\"\n      }\n    },\n    {\n      \"column\": \"Skills\",\n      \"properties\": {\n        \"dtype\": \"string\",\n        \"num_unique_values\": 1,\n        \"samples\": [\n          \"Excel, Machine learning, Analytics\"\n        ],\n        \"semantic_type\": \"\",\n        \"description\": \"\"\n      }\n    },\n    {\n      \"column\": \"CTC\",\n      \"properties\": {\n        \"dtype\": \"string\",\n        \"num_unique_values\": 1,\n        \"samples\": [\n          \"\\u20b910000/month\"\n        ],\n        \"semantic_type\": \"\",\n        \"description\": \"\"\n      }\n    },\n    {\n      \"column\": \"AppliedThrough\",\n      \"properties\": {\n        \"dtype\": \"string\",\n        \"num_unique_values\": 1,\n        \"samples\": [\n          \"Naukri.com\"\n        ],\n        \"semantic_type\": \"\",\n        \"description\": \"\"\n      }\n    },\n    {\n      \"column\": \"DateApplied\",\n      \"properties\": {\n        \"dtype\": \"date\",\n        \"min\": \"2024-02-04 00:00:00\",\n        \"max\": \"2024-02-04 00:00:00\",\n        \"num_unique_values\": 1,\n        \"samples\": [\n          \"2024-02-04 00:00:00\"\n        ],\n        \"semantic_type\": \"\",\n        \"description\": \"\"\n      }\n    },\n    {\n      \"column\": \"Link1\",\n      \"properties\": {\n        \"dtype\": \"string\",\n        \"num_unique_values\": 1,\n        \"samples\": [\n          \"https://www.naukri.com/job-listings-100124501004\"\n        ],\n        \"semantic_type\": \"\",\n        \"description\": \"\"\n      }\n    },\n    {\n      \"column\": \"month\",\n      \"properties\": {\n        \"dtype\": \"number\",\n        \"std\": null,\n        \"min\": 2.0,\n        \"max\": 2.0,\n        \"num_unique_values\": 1,\n        \"samples\": [\n          2.0\n        ],\n        \"semantic_type\": \"\",\n        \"description\": \"\"\n      }\n    }\n  ]\n}"
            }
          },
          "metadata": {},
          "execution_count": 328
        }
      ]
    },
    {
      "cell_type": "code",
      "source": [
        "# Replacing NaN values with most frequent value\n",
        "df['CTC'].fillna(value = df['CTC'].mode()[0], inplace=True)\n",
        "df['Type'].fillna(value = df['Type'].mode()[0], inplace=True)\n",
        "df['Skills'].fillna(value = df['Skills'].mode()[0], inplace = True)\n",
        "df['Location'].fillna(value=df['Location'].mode()[0], inplace=True)\n",
        "df['AppliedThrough'].fillna(value=df['AppliedThrough'].mode()[0],inplace=True)"
      ],
      "metadata": {
        "id": "gHeaJw07dUqm"
      },
      "execution_count": null,
      "outputs": []
    },
    {
      "cell_type": "code",
      "source": [
        "df.info()"
      ],
      "metadata": {
        "colab": {
          "base_uri": "https://localhost:8080/"
        },
        "id": "2-5KjdY4kflm",
        "outputId": "0d24fa73-0f3d-4784-ca78-e20f7204add2"
      },
      "execution_count": null,
      "outputs": [
        {
          "output_type": "stream",
          "name": "stdout",
          "text": [
            "<class 'pandas.core.frame.DataFrame'>\n",
            "Int64Index: 206 entries, 27 to 232\n",
            "Data columns (total 11 columns):\n",
            " #   Column          Non-Null Count  Dtype         \n",
            "---  ------          --------------  -----         \n",
            " 0   SeriealNumber   206 non-null    int64         \n",
            " 1   CompanyName     206 non-null    object        \n",
            " 2   Job_Role        206 non-null    object        \n",
            " 3   Type            206 non-null    object        \n",
            " 4   Location        206 non-null    object        \n",
            " 5   Skills          206 non-null    object        \n",
            " 6   CTC             206 non-null    object        \n",
            " 7   AppliedThrough  206 non-null    object        \n",
            " 8   DateApplied     206 non-null    datetime64[ns]\n",
            " 9   Link1           203 non-null    object        \n",
            " 10  month           206 non-null    float64       \n",
            "dtypes: datetime64[ns](1), float64(1), int64(1), object(8)\n",
            "memory usage: 19.3+ KB\n"
          ]
        }
      ]
    },
    {
      "cell_type": "code",
      "source": [
        "df['Job_Role'] = df['Job_Role'].str.lower()\n",
        "df.sample()"
      ],
      "metadata": {
        "colab": {
          "base_uri": "https://localhost:8080/",
          "height": 98
        },
        "id": "Iz7t4_-GRq4R",
        "outputId": "3cd8b4d1-4e10-4126-e07e-4a57f7ed91b3"
      },
      "execution_count": null,
      "outputs": [
        {
          "output_type": "execute_result",
          "data": {
            "text/plain": [
              "    SeriealNumber        CompanyName      Job_Role       Type Location  \\\n",
              "31             32  Awesome Analytics  data analyst  Full-time   Remote   \n",
              "\n",
              "                                               Skills            CTC  \\\n",
              "31  Data Analysis, Data Analytics, Microsoft Power...  Not disclosed   \n",
              "\n",
              "                 AppliedThrough DateApplied  \\\n",
              "31  LinkedIn (Official website)  2024-01-25   \n",
              "\n",
              "                                                Link1  month  \n",
              "31  https://www.linkedin.com/Full-times/search/?cu...    1.0  "
            ],
            "text/html": [
              "\n",
              "  <div id=\"df-1c5ce397-f71d-48d9-9878-7ee7a8d53af7\" class=\"colab-df-container\">\n",
              "    <div>\n",
              "<style scoped>\n",
              "    .dataframe tbody tr th:only-of-type {\n",
              "        vertical-align: middle;\n",
              "    }\n",
              "\n",
              "    .dataframe tbody tr th {\n",
              "        vertical-align: top;\n",
              "    }\n",
              "\n",
              "    .dataframe thead th {\n",
              "        text-align: right;\n",
              "    }\n",
              "</style>\n",
              "<table border=\"1\" class=\"dataframe\">\n",
              "  <thead>\n",
              "    <tr style=\"text-align: right;\">\n",
              "      <th></th>\n",
              "      <th>SeriealNumber</th>\n",
              "      <th>CompanyName</th>\n",
              "      <th>Job_Role</th>\n",
              "      <th>Type</th>\n",
              "      <th>Location</th>\n",
              "      <th>Skills</th>\n",
              "      <th>CTC</th>\n",
              "      <th>AppliedThrough</th>\n",
              "      <th>DateApplied</th>\n",
              "      <th>Link1</th>\n",
              "      <th>month</th>\n",
              "    </tr>\n",
              "  </thead>\n",
              "  <tbody>\n",
              "    <tr>\n",
              "      <th>31</th>\n",
              "      <td>32</td>\n",
              "      <td>Awesome Analytics</td>\n",
              "      <td>data analyst</td>\n",
              "      <td>Full-time</td>\n",
              "      <td>Remote</td>\n",
              "      <td>Data Analysis, Data Analytics, Microsoft Power...</td>\n",
              "      <td>Not disclosed</td>\n",
              "      <td>LinkedIn (Official website)</td>\n",
              "      <td>2024-01-25</td>\n",
              "      <td>https://www.linkedin.com/Full-times/search/?cu...</td>\n",
              "      <td>1.0</td>\n",
              "    </tr>\n",
              "  </tbody>\n",
              "</table>\n",
              "</div>\n",
              "    <div class=\"colab-df-buttons\">\n",
              "\n",
              "  <div class=\"colab-df-container\">\n",
              "    <button class=\"colab-df-convert\" onclick=\"convertToInteractive('df-1c5ce397-f71d-48d9-9878-7ee7a8d53af7')\"\n",
              "            title=\"Convert this dataframe to an interactive table.\"\n",
              "            style=\"display:none;\">\n",
              "\n",
              "  <svg xmlns=\"http://www.w3.org/2000/svg\" height=\"24px\" viewBox=\"0 -960 960 960\">\n",
              "    <path d=\"M120-120v-720h720v720H120Zm60-500h600v-160H180v160Zm220 220h160v-160H400v160Zm0 220h160v-160H400v160ZM180-400h160v-160H180v160Zm440 0h160v-160H620v160ZM180-180h160v-160H180v160Zm440 0h160v-160H620v160Z\"/>\n",
              "  </svg>\n",
              "    </button>\n",
              "\n",
              "  <style>\n",
              "    .colab-df-container {\n",
              "      display:flex;\n",
              "      gap: 12px;\n",
              "    }\n",
              "\n",
              "    .colab-df-convert {\n",
              "      background-color: #E8F0FE;\n",
              "      border: none;\n",
              "      border-radius: 50%;\n",
              "      cursor: pointer;\n",
              "      display: none;\n",
              "      fill: #1967D2;\n",
              "      height: 32px;\n",
              "      padding: 0 0 0 0;\n",
              "      width: 32px;\n",
              "    }\n",
              "\n",
              "    .colab-df-convert:hover {\n",
              "      background-color: #E2EBFA;\n",
              "      box-shadow: 0px 1px 2px rgba(60, 64, 67, 0.3), 0px 1px 3px 1px rgba(60, 64, 67, 0.15);\n",
              "      fill: #174EA6;\n",
              "    }\n",
              "\n",
              "    .colab-df-buttons div {\n",
              "      margin-bottom: 4px;\n",
              "    }\n",
              "\n",
              "    [theme=dark] .colab-df-convert {\n",
              "      background-color: #3B4455;\n",
              "      fill: #D2E3FC;\n",
              "    }\n",
              "\n",
              "    [theme=dark] .colab-df-convert:hover {\n",
              "      background-color: #434B5C;\n",
              "      box-shadow: 0px 1px 3px 1px rgba(0, 0, 0, 0.15);\n",
              "      filter: drop-shadow(0px 1px 2px rgba(0, 0, 0, 0.3));\n",
              "      fill: #FFFFFF;\n",
              "    }\n",
              "  </style>\n",
              "\n",
              "    <script>\n",
              "      const buttonEl =\n",
              "        document.querySelector('#df-1c5ce397-f71d-48d9-9878-7ee7a8d53af7 button.colab-df-convert');\n",
              "      buttonEl.style.display =\n",
              "        google.colab.kernel.accessAllowed ? 'block' : 'none';\n",
              "\n",
              "      async function convertToInteractive(key) {\n",
              "        const element = document.querySelector('#df-1c5ce397-f71d-48d9-9878-7ee7a8d53af7');\n",
              "        const dataTable =\n",
              "          await google.colab.kernel.invokeFunction('convertToInteractive',\n",
              "                                                    [key], {});\n",
              "        if (!dataTable) return;\n",
              "\n",
              "        const docLinkHtml = 'Like what you see? Visit the ' +\n",
              "          '<a target=\"_blank\" href=https://colab.research.google.com/notebooks/data_table.ipynb>data table notebook</a>'\n",
              "          + ' to learn more about interactive tables.';\n",
              "        element.innerHTML = '';\n",
              "        dataTable['output_type'] = 'display_data';\n",
              "        await google.colab.output.renderOutput(dataTable, element);\n",
              "        const docLink = document.createElement('div');\n",
              "        docLink.innerHTML = docLinkHtml;\n",
              "        element.appendChild(docLink);\n",
              "      }\n",
              "    </script>\n",
              "  </div>\n",
              "\n",
              "\n",
              "    </div>\n",
              "  </div>\n"
            ],
            "application/vnd.google.colaboratory.intrinsic+json": {
              "type": "dataframe",
              "summary": "{\n  \"name\": \"df\",\n  \"rows\": 1,\n  \"fields\": [\n    {\n      \"column\": \"SeriealNumber\",\n      \"properties\": {\n        \"dtype\": \"number\",\n        \"std\": null,\n        \"min\": 32,\n        \"max\": 32,\n        \"num_unique_values\": 1,\n        \"samples\": [\n          32\n        ],\n        \"semantic_type\": \"\",\n        \"description\": \"\"\n      }\n    },\n    {\n      \"column\": \"CompanyName\",\n      \"properties\": {\n        \"dtype\": \"string\",\n        \"num_unique_values\": 1,\n        \"samples\": [\n          \"Awesome Analytics\"\n        ],\n        \"semantic_type\": \"\",\n        \"description\": \"\"\n      }\n    },\n    {\n      \"column\": \"Job_Role\",\n      \"properties\": {\n        \"dtype\": \"string\",\n        \"num_unique_values\": 1,\n        \"samples\": [\n          \"data analyst\"\n        ],\n        \"semantic_type\": \"\",\n        \"description\": \"\"\n      }\n    },\n    {\n      \"column\": \"Type\",\n      \"properties\": {\n        \"dtype\": \"string\",\n        \"num_unique_values\": 1,\n        \"samples\": [\n          \"Full-time\"\n        ],\n        \"semantic_type\": \"\",\n        \"description\": \"\"\n      }\n    },\n    {\n      \"column\": \"Location\",\n      \"properties\": {\n        \"dtype\": \"string\",\n        \"num_unique_values\": 1,\n        \"samples\": [\n          \"Remote\"\n        ],\n        \"semantic_type\": \"\",\n        \"description\": \"\"\n      }\n    },\n    {\n      \"column\": \"Skills\",\n      \"properties\": {\n        \"dtype\": \"string\",\n        \"num_unique_values\": 1,\n        \"samples\": [\n          \"Data Analysis, Data Analytics, Microsoft Power BI, VBA Excel, Data-Driven Insights, Diversity, Excel Automation, Fostering inclusivity, Microsoft Power Automate, Skill Development\"\n        ],\n        \"semantic_type\": \"\",\n        \"description\": \"\"\n      }\n    },\n    {\n      \"column\": \"CTC\",\n      \"properties\": {\n        \"dtype\": \"string\",\n        \"num_unique_values\": 1,\n        \"samples\": [\n          \"Not disclosed\"\n        ],\n        \"semantic_type\": \"\",\n        \"description\": \"\"\n      }\n    },\n    {\n      \"column\": \"AppliedThrough\",\n      \"properties\": {\n        \"dtype\": \"string\",\n        \"num_unique_values\": 1,\n        \"samples\": [\n          \"LinkedIn (Official website)\"\n        ],\n        \"semantic_type\": \"\",\n        \"description\": \"\"\n      }\n    },\n    {\n      \"column\": \"DateApplied\",\n      \"properties\": {\n        \"dtype\": \"date\",\n        \"min\": \"2024-01-25 00:00:00\",\n        \"max\": \"2024-01-25 00:00:00\",\n        \"num_unique_values\": 1,\n        \"samples\": [\n          \"2024-01-25 00:00:00\"\n        ],\n        \"semantic_type\": \"\",\n        \"description\": \"\"\n      }\n    },\n    {\n      \"column\": \"Link1\",\n      \"properties\": {\n        \"dtype\": \"string\",\n        \"num_unique_values\": 1,\n        \"samples\": [\n          \"https://www.linkedin.com/Full-times/search/?currentFull-timeId=3812892916&f_C=13346506&geoId=92000000&origin=COMPANY_PAGE_Full-timeS_CLUSTER_EXPANSION&originToLandingFull-timePostings=3812892916\"\n        ],\n        \"semantic_type\": \"\",\n        \"description\": \"\"\n      }\n    },\n    {\n      \"column\": \"month\",\n      \"properties\": {\n        \"dtype\": \"number\",\n        \"std\": null,\n        \"min\": 1.0,\n        \"max\": 1.0,\n        \"num_unique_values\": 1,\n        \"samples\": [\n          1.0\n        ],\n        \"semantic_type\": \"\",\n        \"description\": \"\"\n      }\n    }\n  ]\n}"
            }
          },
          "metadata": {},
          "execution_count": 331
        }
      ]
    },
    {
      "cell_type": "markdown",
      "source": [
        "# Exploratory Data Analysis (EDA)"
      ],
      "metadata": {
        "id": "y6q8LiiFNx0w"
      }
    },
    {
      "cell_type": "markdown",
      "source": [
        "## Job Role"
      ],
      "metadata": {
        "id": "Gg2xyiCkN1TD"
      }
    },
    {
      "cell_type": "code",
      "source": [
        "substrings_to_match = ['analysis', 'analyst','analytic','analytics','power bi', 'visualization','architect','mining','operations','operation','intern']\n",
        "for substring in substrings_to_match:\n",
        "    df.loc[df['Job_Role'].str.contains(substring),'Job_Role'] = 'Data Analyst'\n",
        "\n",
        "df.loc[df['Job_Role'].str.contains('artificial'),'Job_Role'] = 'Artificial Inteligence'\n",
        "df.loc[df['Job_Role'].str.contains('engineer'),'Job_Role'] = 'Data Engineer'\n",
        "\n",
        "substrings_to_match = ['scientist','science']\n",
        "for substring in substrings_to_match:\n",
        "  df.loc[df['Job_Role'].str.contains(substring),'Job_Role'] = 'Data Science'\n",
        "\n",
        "df['Job_Role'] = df['Job_Role'].replace([\"machine learning\"], 'Machine Learning')\n",
        "\n",
        "substrings_to_match = ['development','developer','train']\n",
        "for substring in substrings_to_match:\n",
        "  df.loc[df['Job_Role'].str.contains(substring),'Job_Role'] = 'Software Developer'"
      ],
      "metadata": {
        "id": "PXOlFJdmXVZ1"
      },
      "execution_count": null,
      "outputs": []
    },
    {
      "cell_type": "code",
      "source": [
        "df['Job_Role'].unique()"
      ],
      "metadata": {
        "colab": {
          "base_uri": "https://localhost:8080/"
        },
        "id": "f_e7EJCmW-7j",
        "outputId": "f00bc5e4-ef1a-4072-f3ca-b3c2fbbe9420"
      },
      "execution_count": null,
      "outputs": [
        {
          "output_type": "execute_result",
          "data": {
            "text/plain": [
              "array(['Data Analyst', 'Artificial Inteligence', 'Data Engineer',\n",
              "       'Data Science', 'Software Developer', 'Machine Learning'],\n",
              "      dtype=object)"
            ]
          },
          "metadata": {},
          "execution_count": 333
        }
      ]
    },
    {
      "cell_type": "code",
      "source": [
        "df['Job_Role'].value_counts()"
      ],
      "metadata": {
        "colab": {
          "base_uri": "https://localhost:8080/"
        },
        "id": "udFmyeYRUvnf",
        "outputId": "94688651-ddf0-49b8-d198-f5f384848ee4"
      },
      "execution_count": null,
      "outputs": [
        {
          "output_type": "execute_result",
          "data": {
            "text/plain": [
              "Data Analyst              172\n",
              "Data Science               15\n",
              "Software Developer          8\n",
              "Data Engineer               6\n",
              "Artificial Inteligence      3\n",
              "Machine Learning            2\n",
              "Name: Job_Role, dtype: int64"
            ]
          },
          "metadata": {},
          "execution_count": 334
        }
      ]
    },
    {
      "cell_type": "code",
      "source": [
        "df.groupby('Job_Role').size().plot(kind='barh', color=sns.color_palette('dark'))\n",
        "plt.gca().spines[['top', 'right',]].set_visible(False)\n",
        "plt.gca().set_xlabel('')\n",
        "plt.gca().set_ylabel('')"
      ],
      "metadata": {
        "colab": {
          "base_uri": "https://localhost:8080/",
          "height": 447
        },
        "id": "gfGbbsk5PjeD",
        "outputId": "192fc604-8bfb-41ee-8ed4-412316553dc2"
      },
      "execution_count": null,
      "outputs": [
        {
          "output_type": "execute_result",
          "data": {
            "text/plain": [
              "Text(0, 0.5, '')"
            ]
          },
          "metadata": {},
          "execution_count": 377
        },
        {
          "output_type": "display_data",
          "data": {
            "text/plain": [
              "<Figure size 640x480 with 1 Axes>"
            ],
            "image/png": "[encoded data removed]"
          },
          "metadata": {}
        }
      ]
    },
    {
      "cell_type": "markdown",
      "source": [
        "## Job Type"
      ],
      "metadata": {
        "id": "zG7PyQoOLvqg"
      }
    },
    {
      "cell_type": "code",
      "source": [
        "df['Type'] = df['Type'].str.lower()\n",
        "substrings_to_match = ['internship','intern','part-time']\n",
        "for substring in substrings_to_match:\n",
        "  df.loc[df['Type'].str.contains(substring),'Type'] = 'Internship'\n",
        "\n",
        "df.loc[df['Type'].str.contains('full-time'),'Type'] = 'Full-Time'\n",
        "df.loc[df['Type'].str.contains('contract'),'Type'] = 'Contract'"
      ],
      "metadata": {
        "id": "1M5ZOb6ydqkq"
      },
      "execution_count": null,
      "outputs": []
    },
    {
      "cell_type": "code",
      "source": [
        "df['Type'].unique()"
      ],
      "metadata": {
        "colab": {
          "base_uri": "https://localhost:8080/"
        },
        "id": "JK5v05ZbdrVQ",
        "outputId": "62025b1d-4dc2-42d6-8c9f-9e9dde7c07d7"
      },
      "execution_count": null,
      "outputs": [
        {
          "output_type": "execute_result",
          "data": {
            "text/plain": [
              "array(['Full-Time', 'Internship', 'Contract'], dtype=object)"
            ]
          },
          "metadata": {},
          "execution_count": 337
        }
      ]
    },
    {
      "cell_type": "code",
      "source": [
        "df['Type'].value_counts()"
      ],
      "metadata": {
        "colab": {
          "base_uri": "https://localhost:8080/"
        },
        "id": "xdVuCBv2Us39",
        "outputId": "35b794ed-04c9-4ca4-89bd-862e8cca254a"
      },
      "execution_count": null,
      "outputs": [
        {
          "output_type": "execute_result",
          "data": {
            "text/plain": [
              "Full-Time     155\n",
              "Internship     40\n",
              "Contract       11\n",
              "Name: Type, dtype: int64"
            ]
          },
          "metadata": {},
          "execution_count": 338
        }
      ]
    },
    {
      "cell_type": "code",
      "source": [
        "df.groupby('Type').size().plot(kind='barh',color=sns.color_palette('dark'))\n",
        "plt.gca().spines[['top', 'right',]].set_visible(False)\n",
        "plt.gca().set_xlabel('')\n",
        "plt.gca().set_ylabel('')"
      ],
      "metadata": {
        "colab": {
          "base_uri": "https://localhost:8080/",
          "height": 447
        },
        "id": "PVMiuZfrOE9g",
        "outputId": "1fa6867f-c930-468b-f557-e527784e97dc"
      },
      "execution_count": null,
      "outputs": [
        {
          "output_type": "execute_result",
          "data": {
            "text/plain": [
              "Text(0, 0.5, '')"
            ]
          },
          "metadata": {},
          "execution_count": 339
        },
        {
          "output_type": "display_data",
          "data": {
            "text/plain": [
              "<Figure size 640x480 with 1 Axes>"
            ],
            "image/png": "[encoded data removed]"
          },
          "metadata": {}
        }
      ]
    },
    {
      "cell_type": "markdown",
      "source": [
        "## Applied Through"
      ],
      "metadata": {
        "id": "DUFeXkcKUUQ6"
      }
    },
    {
      "cell_type": "code",
      "source": [
        "df['AppliedThrough']=df['AppliedThrough'].str.lower()\n",
        "df.loc[df['AppliedThrough'].str.contains('linkedin'),'AppliedThrough'] = 'LinkedIn'\n",
        "df.loc[df['AppliedThrough'].str.contains('website'),'AppliedThrough'] = 'Official Website'\n",
        "df.loc[df['AppliedThrough'].str.contains('naukri'),'AppliedThrough'] = 'Naukri.Com'\n",
        "\n",
        "df['AppliedThrough'] = df['AppliedThrough'].replace([\"apna.com\"], 'Apna.Com')\n",
        "df['AppliedThrough'] = df['AppliedThrough'].replace([\"indeed\"], 'Indeed')\n",
        "df['AppliedThrough'] = df['AppliedThrough'].replace([\"internshala\"], 'Internshala')"
      ],
      "metadata": {
        "id": "9BsMTFgNho3T"
      },
      "execution_count": null,
      "outputs": []
    },
    {
      "cell_type": "code",
      "source": [
        "df['AppliedThrough'].unique()"
      ],
      "metadata": {
        "colab": {
          "base_uri": "https://localhost:8080/"
        },
        "id": "wGHANqM0dJxl",
        "outputId": "a7209c27-39d4-4260-d54b-295b9004eb53"
      },
      "execution_count": null,
      "outputs": [
        {
          "output_type": "execute_result",
          "data": {
            "text/plain": [
              "array(['Official Website', 'LinkedIn', 'Naukri.Com', 'Internshala',\n",
              "       'Apna.Com', 'hirist.tech', 'Indeed'], dtype=object)"
            ]
          },
          "metadata": {},
          "execution_count": 341
        }
      ]
    },
    {
      "cell_type": "code",
      "source": [
        "df['AppliedThrough'].value_counts()"
      ],
      "metadata": {
        "colab": {
          "base_uri": "https://localhost:8080/"
        },
        "id": "UYiY5QzUUoR1",
        "outputId": "e5a4a50e-fffe-48de-8532-e11edaddb807"
      },
      "execution_count": null,
      "outputs": [
        {
          "output_type": "execute_result",
          "data": {
            "text/plain": [
              "LinkedIn            118\n",
              "Official Website     31\n",
              "Naukri.Com           28\n",
              "Internshala          21\n",
              "Indeed                4\n",
              "Apna.Com              3\n",
              "hirist.tech           1\n",
              "Name: AppliedThrough, dtype: int64"
            ]
          },
          "metadata": {},
          "execution_count": 342
        }
      ]
    },
    {
      "cell_type": "code",
      "source": [
        "df.groupby('AppliedThrough').size().plot(kind='barh', color=sns.color_palette('dark'))\n",
        "plt.gca().spines[['top', 'right',]].set_visible(False)\n",
        "plt.gca().set_xlabel('')\n",
        "plt.gca().set_ylabel('')"
      ],
      "metadata": {
        "colab": {
          "base_uri": "https://localhost:8080/",
          "height": 447
        },
        "id": "q6kLg705OkAF",
        "outputId": "afbb7e50-05c8-41a8-a265-149d59cdd9b8"
      },
      "execution_count": null,
      "outputs": [
        {
          "output_type": "execute_result",
          "data": {
            "text/plain": [
              "Text(0, 0.5, '')"
            ]
          },
          "metadata": {},
          "execution_count": 343
        },
        {
          "output_type": "display_data",
          "data": {
            "text/plain": [
              "<Figure size 640x480 with 1 Axes>"
            ],
            "image/png": "[encoded data removed]"
          },
          "metadata": {}
        }
      ]
    },
    {
      "cell_type": "markdown",
      "source": [
        "## Location"
      ],
      "metadata": {
        "id": "wyQ0jIGaN5GY"
      }
    },
    {
      "cell_type": "code",
      "source": [
        "df['Location'] = df['Location'].str.lower()\n",
        "\n",
        "substrings_to_match = ['wfh','remote','not disclosed','work from home']\n",
        "for substring in substrings_to_match:\n",
        "  df.loc[df['Location'].str.contains(substring),'Location'] = 'Remote'\n",
        "\n",
        "\n",
        "df.loc[df['Location'].str.contains('hyderabad'),'Location'] = 'Hyderabad'\n",
        "\n",
        "substrings_to_match = ['bangalore','bengaluru']\n",
        "for substring in substrings_to_match:\n",
        "  df.loc[df['Location'].str.contains(substring),'Location'] = 'Bengaluru'\n",
        "\n",
        "substrings_to_match = ['pune','maharathra']\n",
        "for substring in substrings_to_match:\n",
        "  df.loc[df['Location'].str.contains(substring),'Location'] = 'Pune'\n",
        "\n",
        "df.loc[df['Location'].str.contains('mumbai'),'Location'] = 'Mumbai'\n",
        "df.loc[df['Location'].str.contains('noida'),'Location'] = 'Noida'\n",
        "df.loc[df['Location'].str.contains('delhi'),'Location'] = 'Delhi/NCR'\n",
        "df['Location'] = df['Location'].str.upper()\n",
        "\n"
      ],
      "metadata": {
        "id": "3m-PIZgSj5Qh"
      },
      "execution_count": null,
      "outputs": []
    },
    {
      "cell_type": "code",
      "source": [
        "df['Location'].unique()"
      ],
      "metadata": {
        "colab": {
          "base_uri": "https://localhost:8080/"
        },
        "id": "2GEFMstbjfE_",
        "outputId": "75484dc1-bae0-4d46-f00b-daf28dae9f39"
      },
      "execution_count": null,
      "outputs": [
        {
          "output_type": "execute_result",
          "data": {
            "text/plain": [
              "array(['BENGALURU', 'CHENNAI', 'REMOTE', 'HYDERABAD', 'GURUGRAM',\n",
              "       'MUMBAI', 'PUNE', 'NOIDA', 'DELHI/NCR', 'KOCHI'], dtype=object)"
            ]
          },
          "metadata": {},
          "execution_count": 345
        }
      ]
    },
    {
      "cell_type": "code",
      "source": [
        "df['Location'].value_counts()"
      ],
      "metadata": {
        "colab": {
          "base_uri": "https://localhost:8080/"
        },
        "id": "FcLy0L8rUj2A",
        "outputId": "477e64c8-0c4f-44f1-a43f-857240f512e9"
      },
      "execution_count": null,
      "outputs": [
        {
          "output_type": "execute_result",
          "data": {
            "text/plain": [
              "REMOTE       86\n",
              "BENGALURU    48\n",
              "CHENNAI      17\n",
              "GURUGRAM     14\n",
              "PUNE         10\n",
              "HYDERABAD     9\n",
              "MUMBAI        9\n",
              "NOIDA         7\n",
              "DELHI/NCR     5\n",
              "KOCHI         1\n",
              "Name: Location, dtype: int64"
            ]
          },
          "metadata": {},
          "execution_count": 346
        }
      ]
    },
    {
      "cell_type": "code",
      "source": [
        "df.groupby('Location').size().plot(kind='barh',color=sns.color_palette('dark'))\n",
        "plt.gca().spines[['top', 'right',]].set_visible(False)\n",
        "plt.gca().set_xlabel('')\n",
        "plt.gca().set_ylabel('')"
      ],
      "metadata": {
        "colab": {
          "base_uri": "https://localhost:8080/",
          "height": 447
        },
        "id": "Vh-wPvr2nUhi",
        "outputId": "7787ed3e-96da-4a3e-d49e-4acd1abbf6c1"
      },
      "execution_count": null,
      "outputs": [
        {
          "output_type": "execute_result",
          "data": {
            "text/plain": [
              "Text(0, 0.5, '')"
            ]
          },
          "metadata": {},
          "execution_count": 347
        },
        {
          "output_type": "display_data",
          "data": {
            "text/plain": [
              "<Figure size 640x480 with 1 Axes>"
            ],
            "image/png": "[encoded data removed]"
          },
          "metadata": {}
        }
      ]
    },
    {
      "cell_type": "markdown",
      "source": [
        "## Month Applied"
      ],
      "metadata": {
        "id": "9Mk04HqqG9kk"
      }
    },
    {
      "cell_type": "markdown",
      "source": [
        "**Note:** Run the code only once, as the value will be replaced by the month name, causing an error if run again. To avoid this, execute the code either once or rerun the entire code from scratch."
      ],
      "metadata": {
        "id": "Yu20Wb7hJcUb"
      }
    },
    {
      "cell_type": "code",
      "source": [
        "import calendar\n",
        "df['month'] = df['month'].astype('int32')\n",
        "df['month'] = df['month'].map(lambda i: calendar.month_name[i]) # Replacing with month name"
      ],
      "metadata": {
        "id": "fGsvDsUyG9Dl"
      },
      "execution_count": null,
      "outputs": []
    },
    {
      "cell_type": "code",
      "source": [
        "df.groupby('month').size().plot(kind='barh',color=sns.color_palette('dark'))\n",
        "plt.gca().spines[['top', 'right',]].set_visible(False)\n",
        "plt.gca().set_xlabel('')\n",
        "plt.gca().set_ylabel('')"
      ],
      "metadata": {
        "colab": {
          "base_uri": "https://localhost:8080/",
          "height": 447
        },
        "id": "QLrL4UJrKTZK",
        "outputId": "c3f1952f-e0b4-4f47-edcb-38b2eb0e9fc0"
      },
      "execution_count": null,
      "outputs": [
        {
          "output_type": "execute_result",
          "data": {
            "text/plain": [
              "Text(0, 0.5, '')"
            ]
          },
          "metadata": {},
          "execution_count": 349
        },
        {
          "output_type": "display_data",
          "data": {
            "text/plain": [
              "<Figure size 640x480 with 1 Axes>"
            ],
            "image/png": "[encoded data removed]"
          },
          "metadata": {}
        }
      ]
    },
    {
      "cell_type": "markdown",
      "source": [
        "## Job Role - Type"
      ],
      "metadata": {
        "id": "OPFF5VtiQlWy"
      }
    },
    {
      "cell_type": "markdown",
      "source": [],
      "metadata": {
        "id": "zfBEOA69SHhu"
      }
    },
    {
      "source": [
        "sns.histplot(data=df, y='Job_Role', hue='Type', multiple='dodge', shrink=0.9, palette='bright')\n",
        "plt.yticks(rotation=45, ha='right')\n",
        "plt.gca().set_xlabel('')\n",
        "plt.gca().set_ylabel('')\n"
      ],
      "cell_type": "code",
      "execution_count": null,
      "outputs": [
        {
          "output_type": "execute_result",
          "data": {
            "text/plain": [
              "Text(0, 0.5, '')"
            ]
          },
          "metadata": {},
          "execution_count": 350
        },
        {
          "output_type": "display_data",
          "data": {
            "text/plain": [
              "<Figure size 640x480 with 1 Axes>"
            ],
            "image/png": "[encoded data removed]"
          },
          "metadata": {}
        }
      ],
      "metadata": {
        "colab": {
          "base_uri": "https://localhost:8080/",
          "height": 472
        },
        "id": "AOf6ryWhqrb2",
        "outputId": "f138178b-e885-460f-d262-3c44c107c0fc"
      }
    },
    {
      "cell_type": "markdown",
      "source": [
        "## Job Role - Applied Through"
      ],
      "metadata": {
        "id": "7G4gLRLdQtyH"
      }
    },
    {
      "cell_type": "code",
      "source": [
        "sns.histplot(data=df, y='Job_Role', hue='AppliedThrough', multiple='dodge', shrink=.9, palette='bright')\n",
        "plt.yticks(rotation=45, ha='right')\n",
        "plt.gca().set_xlabel('')\n",
        "plt.gca().set_ylabel('')"
      ],
      "metadata": {
        "colab": {
          "base_uri": "https://localhost:8080/",
          "height": 472
        },
        "id": "Wuw0vSkFPzV3",
        "outputId": "966a7f82-93be-4590-f511-d0aa2b2492a5"
      },
      "execution_count": null,
      "outputs": [
        {
          "output_type": "execute_result",
          "data": {
            "text/plain": [
              "Text(0, 0.5, '')"
            ]
          },
          "metadata": {},
          "execution_count": 351
        },
        {
          "output_type": "display_data",
          "data": {
            "text/plain": [
              "<Figure size 640x480 with 1 Axes>"
            ],
            "image/png": "[encoded data removed]"
          },
          "metadata": {}
        }
      ]
    },
    {
      "cell_type": "markdown",
      "source": [
        "## Job Role - Location"
      ],
      "metadata": {
        "id": "QHBulHZ-QyOj"
      }
    },
    {
      "cell_type": "code",
      "source": [
        "sns.histplot(data=df, y='Job_Role', hue='Location', multiple='dodge', shrink=.9, palette='bright')\n",
        "plt.gca().spines[['top', 'right',]].set_visible(False)\n",
        "plt.yticks(rotation=45, ha='right')\n",
        "plt.gca().set_xlabel('')\n",
        "plt.gca().set_ylabel('')"
      ],
      "metadata": {
        "colab": {
          "base_uri": "https://localhost:8080/",
          "height": 472
        },
        "id": "N5iv87x9P6KU",
        "outputId": "9d4664a2-4dd9-44c3-8870-6a9df2eacde0"
      },
      "execution_count": null,
      "outputs": [
        {
          "output_type": "execute_result",
          "data": {
            "text/plain": [
              "Text(0, 0.5, '')"
            ]
          },
          "metadata": {},
          "execution_count": 352
        },
        {
          "output_type": "display_data",
          "data": {
            "text/plain": [
              "<Figure size 640x480 with 1 Axes>"
            ],
            "image/png": "[encoded data removed]"
          },
          "metadata": {}
        }
      ]
    },
    {
      "cell_type": "markdown",
      "source": [
        "## Job Role - Month Applied on"
      ],
      "metadata": {
        "id": "5gfaM815Kxt6"
      }
    },
    {
      "cell_type": "code",
      "source": [
        "sns.histplot(data=df, y='Job_Role', hue='month', multiple='dodge', shrink=.9, palette='bright')\n",
        "plt.gca().spines[['top', 'right',]].set_visible(False)\n",
        "plt.yticks(rotation=45, ha='right')\n",
        "plt.gca().set_xlabel('')\n",
        "plt.gca().set_ylabel('')"
      ],
      "metadata": {
        "colab": {
          "base_uri": "https://localhost:8080/",
          "height": 472
        },
        "id": "4ux5R00dS3mp",
        "outputId": "36958a32-50df-43d6-af81-1eca82b64a6b"
      },
      "execution_count": null,
      "outputs": [
        {
          "output_type": "execute_result",
          "data": {
            "text/plain": [
              "Text(0, 0.5, '')"
            ]
          },
          "metadata": {},
          "execution_count": 353
        },
        {
          "output_type": "display_data",
          "data": {
            "text/plain": [
              "<Figure size 640x480 with 1 Axes>"
            ],
            "image/png": "[encoded data removed]"
          },
          "metadata": {}
        }
      ]
    },
    {
      "cell_type": "markdown",
      "source": [
        "# Important Parameters Analysis:\n"
      ],
      "metadata": {
        "id": "L03lRL7wBJom"
      }
    },
    {
      "cell_type": "markdown",
      "source": [
        "### Top 5 applied companies"
      ],
      "metadata": {
        "id": "Jk3sWbeZLeoX"
      }
    },
    {
      "cell_type": "code",
      "source": [
        "df['CompanyName'].value_counts().head()"
      ],
      "metadata": {
        "colab": {
          "base_uri": "https://localhost:8080/"
        },
        "id": "JpyE2N1_LUEn",
        "outputId": "fc14f2e1-c11b-489c-80c1-0e517dc0e873"
      },
      "execution_count": null,
      "outputs": [
        {
          "output_type": "execute_result",
          "data": {
            "text/plain": [
              "Innometrics Solutions    4\n",
              "BayOne Solutions         4\n",
              "Rekruton Technologies    4\n",
              "Elite Met Solutions      3\n",
              "Bytical                  2\n",
              "Name: CompanyName, dtype: int64"
            ]
          },
          "metadata": {},
          "execution_count": 354
        }
      ]
    },
    {
      "cell_type": "markdown",
      "source": [
        "### Most applied Job Role"
      ],
      "metadata": {
        "id": "09mpA7fKBdmS"
      }
    },
    {
      "cell_type": "code",
      "source": [
        "df['Job_Role'].value_counts().head(1)"
      ],
      "metadata": {
        "colab": {
          "base_uri": "https://localhost:8080/"
        },
        "id": "fcS_uvvoBSrn",
        "outputId": "986468de-5520-4c3e-e135-a4c2cdd4ea30"
      },
      "execution_count": null,
      "outputs": [
        {
          "output_type": "execute_result",
          "data": {
            "text/plain": [
              "Data Analyst    172\n",
              "Name: Job_Role, dtype: int64"
            ]
          },
          "metadata": {},
          "execution_count": 362
        }
      ]
    },
    {
      "cell_type": "markdown",
      "source": [
        "### Top 3 Job Location"
      ],
      "metadata": {
        "id": "0tAoIu75Btn2"
      }
    },
    {
      "cell_type": "code",
      "source": [
        "df['Location'].value_counts().head(3)"
      ],
      "metadata": {
        "colab": {
          "base_uri": "https://localhost:8080/"
        },
        "id": "k7EmWwwNBor_",
        "outputId": "c38eeeab-c3a3-4bfd-e338-48188a759d65"
      },
      "execution_count": null,
      "outputs": [
        {
          "output_type": "execute_result",
          "data": {
            "text/plain": [
              "REMOTE       86\n",
              "BENGALURU    48\n",
              "CHENNAI      17\n",
              "Name: Location, dtype: int64"
            ]
          },
          "metadata": {},
          "execution_count": 365
        }
      ]
    },
    {
      "cell_type": "markdown",
      "source": [
        "### Most Applied Job Type"
      ],
      "metadata": {
        "id": "hXlyJ0HPCBtK"
      }
    },
    {
      "cell_type": "code",
      "source": [
        "df['Type'].value_counts().head(1)"
      ],
      "metadata": {
        "colab": {
          "base_uri": "https://localhost:8080/"
        },
        "id": "NZBHutfeBzQR",
        "outputId": "c3d0c309-895f-4f28-ba78-d48b183983a9"
      },
      "execution_count": null,
      "outputs": [
        {
          "output_type": "execute_result",
          "data": {
            "text/plain": [
              "Full-Time    155\n",
              "Name: Type, dtype: int64"
            ]
          },
          "metadata": {},
          "execution_count": 363
        }
      ]
    },
    {
      "cell_type": "markdown",
      "source": [
        "### Most Job Applied in Month of?"
      ],
      "metadata": {
        "id": "2lv9Yv3kCh3V"
      }
    },
    {
      "cell_type": "code",
      "source": [
        "df['month'].value_counts().head(1)"
      ],
      "metadata": {
        "colab": {
          "base_uri": "https://localhost:8080/"
        },
        "id": "TuZ5BNDrChWg",
        "outputId": "24ad0f96-1eed-4d74-dcf5-43844ac84135"
      },
      "execution_count": null,
      "outputs": [
        {
          "output_type": "execute_result",
          "data": {
            "text/plain": [
              "February    115\n",
              "Name: month, dtype: int64"
            ]
          },
          "metadata": {},
          "execution_count": 364
        }
      ]
    },
    {
      "cell_type": "markdown",
      "source": [
        "### Top 3 plateform job applied through?"
      ],
      "metadata": {
        "id": "noOH3yV-DBGT"
      }
    },
    {
      "cell_type": "code",
      "source": [
        "df['AppliedThrough'].value_counts().head(3)"
      ],
      "metadata": {
        "colab": {
          "base_uri": "https://localhost:8080/"
        },
        "id": "yxtQWJLpDNsb",
        "outputId": "5e6362aa-9b1c-4b49-82f6-8403e66113b3"
      },
      "execution_count": null,
      "outputs": [
        {
          "output_type": "execute_result",
          "data": {
            "text/plain": [
              "LinkedIn            118\n",
              "Official Website     31\n",
              "Naukri.Com           28\n",
              "Name: AppliedThrough, dtype: int64"
            ]
          },
          "metadata": {},
          "execution_count": 369
        }
      ]
    },
    {
      "cell_type": "markdown",
      "source": [
        "Data Download link -\n",
        "https://docs.google.com/spreadsheets/d/e/2PACX-1vSWTMzJIyLHt6dW9G3L1DZw36LbpXSH9dX3qmvYP7tAggkMANsLFEcMo6lWDZrwzyb3nJtLbcxYWJmR/pub?output=csv\n",
        "\n"
      ],
      "metadata": {
        "id": "94SK5AP-fSJ7"
      }
    }
  ]
}